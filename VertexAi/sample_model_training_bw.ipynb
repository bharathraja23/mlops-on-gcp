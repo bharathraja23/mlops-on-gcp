{
 "cells": [
  {
   "cell_type": "code",
   "execution_count": 2,
   "id": "edd57b35",
   "metadata": {},
   "outputs": [
    {
     "name": "stdout",
     "output_type": "stream",
     "text": [
      "--user\n"
     ]
    }
   ],
   "source": [
    "import os\n",
    "\n",
    "# The Google Cloud Notebook product has specific requirements\n",
    "IS_GOOGLE_CLOUD_NOTEBOOK = os.path.exists(\"/opt/deeplearning/metadata/env_version\")\n",
    "\n",
    "# Google Cloud Notebook requires dependencies to be installed with '--user'\n",
    "USER_FLAG = \"\"\n",
    "if IS_GOOGLE_CLOUD_NOTEBOOK:\n",
    "    USER_FLAG = \"--user\"\n",
    "print(USER_FLAG)"
   ]
  },
  {
   "cell_type": "code",
   "execution_count": 3,
   "id": "b7b986f6",
   "metadata": {},
   "outputs": [
    {
     "name": "stdout",
     "output_type": "stream",
     "text": [
      "Collecting google-cloud-aiplatform\n",
      "  Downloading google_cloud_aiplatform-1.3.0-py2.py3-none-any.whl (1.3 MB)\n",
      "\u001b[K     |████████████████████████████████| 1.3 MB 5.2 MB/s eta 0:00:01\n",
      "\u001b[?25hRequirement already satisfied: proto-plus>=1.10.1 in /opt/conda/lib/python3.7/site-packages (from google-cloud-aiplatform) (1.19.0)\n",
      "Requirement already satisfied: google-cloud-storage<2.0.0dev,>=1.32.0 in /opt/conda/lib/python3.7/site-packages (from google-cloud-aiplatform) (1.41.1)\n",
      "Requirement already satisfied: google-cloud-bigquery<3.0.0dev,>=1.15.0 in /opt/conda/lib/python3.7/site-packages (from google-cloud-aiplatform) (2.23.2)\n",
      "Requirement already satisfied: packaging>=14.3 in /opt/conda/lib/python3.7/site-packages (from google-cloud-aiplatform) (21.0)\n",
      "Requirement already satisfied: google-api-core[grpc]<3.0.0dev,>=1.26.0 in /opt/conda/lib/python3.7/site-packages (from google-cloud-aiplatform) (1.31.1)\n",
      "Requirement already satisfied: setuptools>=40.3.0 in /opt/conda/lib/python3.7/site-packages (from google-api-core[grpc]<3.0.0dev,>=1.26.0->google-cloud-aiplatform) (49.6.0.post20210108)\n",
      "Requirement already satisfied: pytz in /opt/conda/lib/python3.7/site-packages (from google-api-core[grpc]<3.0.0dev,>=1.26.0->google-cloud-aiplatform) (2021.1)\n",
      "Requirement already satisfied: six>=1.13.0 in /opt/conda/lib/python3.7/site-packages (from google-api-core[grpc]<3.0.0dev,>=1.26.0->google-cloud-aiplatform) (1.16.0)\n",
      "Requirement already satisfied: protobuf>=3.12.0 in /opt/conda/lib/python3.7/site-packages (from google-api-core[grpc]<3.0.0dev,>=1.26.0->google-cloud-aiplatform) (3.16.0)\n",
      "Requirement already satisfied: googleapis-common-protos<2.0dev,>=1.6.0 in /opt/conda/lib/python3.7/site-packages (from google-api-core[grpc]<3.0.0dev,>=1.26.0->google-cloud-aiplatform) (1.53.0)\n",
      "Requirement already satisfied: google-auth<2.0dev,>=1.25.0 in /opt/conda/lib/python3.7/site-packages (from google-api-core[grpc]<3.0.0dev,>=1.26.0->google-cloud-aiplatform) (1.34.0)\n",
      "Requirement already satisfied: requests<3.0.0dev,>=2.18.0 in /opt/conda/lib/python3.7/site-packages (from google-api-core[grpc]<3.0.0dev,>=1.26.0->google-cloud-aiplatform) (2.25.1)\n",
      "Requirement already satisfied: grpcio<2.0dev,>=1.29.0 in /opt/conda/lib/python3.7/site-packages (from google-api-core[grpc]<3.0.0dev,>=1.26.0->google-cloud-aiplatform) (1.38.1)\n",
      "Requirement already satisfied: rsa<5,>=3.1.4 in /opt/conda/lib/python3.7/site-packages (from google-auth<2.0dev,>=1.25.0->google-api-core[grpc]<3.0.0dev,>=1.26.0->google-cloud-aiplatform) (4.7.2)\n",
      "Requirement already satisfied: cachetools<5.0,>=2.0.0 in /opt/conda/lib/python3.7/site-packages (from google-auth<2.0dev,>=1.25.0->google-api-core[grpc]<3.0.0dev,>=1.26.0->google-cloud-aiplatform) (4.2.2)\n",
      "Requirement already satisfied: pyasn1-modules>=0.2.1 in /opt/conda/lib/python3.7/site-packages (from google-auth<2.0dev,>=1.25.0->google-api-core[grpc]<3.0.0dev,>=1.26.0->google-cloud-aiplatform) (0.2.7)\n",
      "Requirement already satisfied: google-cloud-core<3.0.0dev,>=1.4.1 in /opt/conda/lib/python3.7/site-packages (from google-cloud-bigquery<3.0.0dev,>=1.15.0->google-cloud-aiplatform) (1.7.2)\n",
      "Requirement already satisfied: google-resumable-media<3.0dev,>=0.6.0 in /opt/conda/lib/python3.7/site-packages (from google-cloud-bigquery<3.0.0dev,>=1.15.0->google-cloud-aiplatform) (1.3.2)\n",
      "Requirement already satisfied: google-crc32c<2.0dev,>=1.0 in /opt/conda/lib/python3.7/site-packages (from google-resumable-media<3.0dev,>=0.6.0->google-cloud-bigquery<3.0.0dev,>=1.15.0->google-cloud-aiplatform) (1.1.2)\n",
      "Requirement already satisfied: cffi>=1.0.0 in /opt/conda/lib/python3.7/site-packages (from google-crc32c<2.0dev,>=1.0->google-resumable-media<3.0dev,>=0.6.0->google-cloud-bigquery<3.0.0dev,>=1.15.0->google-cloud-aiplatform) (1.14.6)\n",
      "Requirement already satisfied: pycparser in /opt/conda/lib/python3.7/site-packages (from cffi>=1.0.0->google-crc32c<2.0dev,>=1.0->google-resumable-media<3.0dev,>=0.6.0->google-cloud-bigquery<3.0.0dev,>=1.15.0->google-cloud-aiplatform) (2.20)\n",
      "Requirement already satisfied: pyparsing>=2.0.2 in /opt/conda/lib/python3.7/site-packages (from packaging>=14.3->google-cloud-aiplatform) (2.4.7)\n",
      "Requirement already satisfied: pyasn1<0.5.0,>=0.4.6 in /opt/conda/lib/python3.7/site-packages (from pyasn1-modules>=0.2.1->google-auth<2.0dev,>=1.25.0->google-api-core[grpc]<3.0.0dev,>=1.26.0->google-cloud-aiplatform) (0.4.8)\n",
      "Requirement already satisfied: certifi>=2017.4.17 in /opt/conda/lib/python3.7/site-packages (from requests<3.0.0dev,>=2.18.0->google-api-core[grpc]<3.0.0dev,>=1.26.0->google-cloud-aiplatform) (2021.5.30)\n",
      "Requirement already satisfied: chardet<5,>=3.0.2 in /opt/conda/lib/python3.7/site-packages (from requests<3.0.0dev,>=2.18.0->google-api-core[grpc]<3.0.0dev,>=1.26.0->google-cloud-aiplatform) (4.0.0)\n",
      "Requirement already satisfied: urllib3<1.27,>=1.21.1 in /opt/conda/lib/python3.7/site-packages (from requests<3.0.0dev,>=2.18.0->google-api-core[grpc]<3.0.0dev,>=1.26.0->google-cloud-aiplatform) (1.26.6)\n",
      "Requirement already satisfied: idna<3,>=2.5 in /opt/conda/lib/python3.7/site-packages (from requests<3.0.0dev,>=2.18.0->google-api-core[grpc]<3.0.0dev,>=1.26.0->google-cloud-aiplatform) (2.10)\n",
      "Installing collected packages: google-cloud-aiplatform\n",
      "\u001b[33m  WARNING: The script tb-gcp-uploader is installed in '/home/jupyter/.local/bin' which is not on PATH.\n",
      "  Consider adding this directory to PATH or, if you prefer to suppress this warning, use --no-warn-script-location.\u001b[0m\n",
      "Successfully installed google-cloud-aiplatform-1.3.0\n",
      "Collecting kfp\n",
      "  Downloading kfp-1.7.1.tar.gz (233 kB)\n",
      "\u001b[K     |████████████████████████████████| 233 kB 4.8 MB/s eta 0:00:01\n",
      "\u001b[?25hCollecting google-cloud-pipeline-components\n",
      "  Downloading google_cloud_pipeline_components-0.1.5-py3-none-any.whl (87 kB)\n",
      "\u001b[K     |████████████████████████████████| 87 kB 9.3 MB/s  eta 0:00:01\n",
      "\u001b[?25hCollecting absl-py<=0.11,>=0.9\n",
      "  Downloading absl_py-0.11.0-py3-none-any.whl (127 kB)\n",
      "\u001b[K     |████████████████████████████████| 127 kB 62.6 MB/s eta 0:00:01\n",
      "\u001b[?25hRequirement already satisfied: PyYAML<6,>=5.3 in /opt/conda/lib/python3.7/site-packages (from kfp) (5.4.1)\n",
      "Requirement already satisfied: google-cloud-storage<2,>=1.20.0 in /opt/conda/lib/python3.7/site-packages (from kfp) (1.41.1)\n",
      "Collecting kubernetes<13,>=8.0.0\n",
      "  Downloading kubernetes-12.0.1-py2.py3-none-any.whl (1.7 MB)\n",
      "\u001b[K     |████████████████████████████████| 1.7 MB 27.0 MB/s eta 0:00:01\n",
      "\u001b[?25hCollecting google-api-python-client<2,>=1.7.8\n",
      "  Downloading google_api_python_client-1.12.8-py2.py3-none-any.whl (61 kB)\n",
      "\u001b[K     |████████████████████████████████| 61 kB 36 kB/s s eta 0:00:01\n",
      "\u001b[?25hRequirement already satisfied: google-auth<2,>=1.6.1 in /opt/conda/lib/python3.7/site-packages (from kfp) (1.34.0)\n",
      "Collecting requests-toolbelt<1,>=0.8.0\n",
      "  Downloading requests_toolbelt-0.9.1-py2.py3-none-any.whl (54 kB)\n",
      "\u001b[K     |████████████████████████████████| 54 kB 2.3 MB/s eta 0:00:01\n",
      "\u001b[?25hRequirement already satisfied: cloudpickle<2,>=1.3.0 in /opt/conda/lib/python3.7/site-packages (from kfp) (1.6.0)\n",
      "Collecting kfp-server-api<2.0.0,>=1.1.2\n",
      "  Downloading kfp-server-api-1.6.0.tar.gz (52 kB)\n",
      "\u001b[K     |████████████████████████████████| 52 kB 2.1 MB/s  eta 0:00:01\n",
      "\u001b[?25hRequirement already satisfied: jsonschema<4,>=3.0.1 in /opt/conda/lib/python3.7/site-packages (from kfp) (3.2.0)\n",
      "Collecting tabulate<1,>=0.8.6\n",
      "  Downloading tabulate-0.8.9-py3-none-any.whl (25 kB)\n",
      "Collecting click<8,>=7.1.1\n",
      "  Downloading click-7.1.2-py2.py3-none-any.whl (82 kB)\n",
      "\u001b[K     |████████████████████████████████| 82 kB 1.5 MB/s  eta 0:00:01\n",
      "\u001b[?25hCollecting Deprecated<2,>=1.2.7\n",
      "  Downloading Deprecated-1.2.12-py2.py3-none-any.whl (9.5 kB)\n",
      "Collecting strip-hints<1,>=0.1.8\n",
      "  Downloading strip-hints-0.1.10.tar.gz (29 kB)\n",
      "Collecting docstring-parser<1,>=0.7.3\n",
      "  Downloading docstring_parser-0.10.tar.gz (20 kB)\n",
      "  Installing build dependencies ... \u001b[?25ldone\n",
      "\u001b[?25h  Getting requirements to build wheel ... \u001b[?25ldone\n",
      "\u001b[?25h    Preparing wheel metadata ... \u001b[?25ldone\n",
      "\u001b[?25hCollecting kfp-pipeline-spec<0.2.0,>=0.1.8\n",
      "  Downloading kfp_pipeline_spec-0.1.9-py3-none-any.whl (17 kB)\n",
      "Collecting fire<1,>=0.3.1\n",
      "  Downloading fire-0.4.0.tar.gz (87 kB)\n",
      "\u001b[K     |████████████████████████████████| 87 kB 8.4 MB/s  eta 0:00:01\n",
      "\u001b[?25hRequirement already satisfied: protobuf<4,>=3.13.0 in /opt/conda/lib/python3.7/site-packages (from kfp) (3.16.0)\n",
      "Requirement already satisfied: google-cloud-aiplatform>=1.3.0 in /home/jupyter/.local/lib/python3.7/site-packages (from google-cloud-pipeline-components) (1.3.0)\n",
      "Requirement already satisfied: google-api-core<2dev,>=1.26.0 in /opt/conda/lib/python3.7/site-packages (from google-cloud-pipeline-components) (1.31.1)\n",
      "Requirement already satisfied: six in /opt/conda/lib/python3.7/site-packages (from absl-py<=0.11,>=0.9->kfp) (1.16.0)\n",
      "Requirement already satisfied: wrapt<2,>=1.10 in /opt/conda/lib/python3.7/site-packages (from Deprecated<2,>=1.2.7->kfp) (1.12.1)\n",
      "Collecting termcolor\n",
      "  Downloading termcolor-1.1.0.tar.gz (3.9 kB)\n",
      "Requirement already satisfied: googleapis-common-protos<2.0dev,>=1.6.0 in /opt/conda/lib/python3.7/site-packages (from google-api-core<2dev,>=1.26.0->google-cloud-pipeline-components) (1.53.0)\n",
      "Requirement already satisfied: setuptools>=40.3.0 in /opt/conda/lib/python3.7/site-packages (from google-api-core<2dev,>=1.26.0->google-cloud-pipeline-components) (49.6.0.post20210108)\n",
      "Requirement already satisfied: packaging>=14.3 in /opt/conda/lib/python3.7/site-packages (from google-api-core<2dev,>=1.26.0->google-cloud-pipeline-components) (21.0)\n",
      "Requirement already satisfied: pytz in /opt/conda/lib/python3.7/site-packages (from google-api-core<2dev,>=1.26.0->google-cloud-pipeline-components) (2021.1)\n",
      "Requirement already satisfied: requests<3.0.0dev,>=2.18.0 in /opt/conda/lib/python3.7/site-packages (from google-api-core<2dev,>=1.26.0->google-cloud-pipeline-components) (2.25.1)\n",
      "Requirement already satisfied: httplib2<1dev,>=0.15.0 in /opt/conda/lib/python3.7/site-packages (from google-api-python-client<2,>=1.7.8->kfp) (0.19.1)\n",
      "Requirement already satisfied: uritemplate<4dev,>=3.0.0 in /opt/conda/lib/python3.7/site-packages (from google-api-python-client<2,>=1.7.8->kfp) (3.0.1)\n",
      "Requirement already satisfied: google-auth-httplib2>=0.0.3 in /opt/conda/lib/python3.7/site-packages (from google-api-python-client<2,>=1.7.8->kfp) (0.1.0)\n",
      "Requirement already satisfied: rsa<5,>=3.1.4 in /opt/conda/lib/python3.7/site-packages (from google-auth<2,>=1.6.1->kfp) (4.7.2)\n",
      "Requirement already satisfied: pyasn1-modules>=0.2.1 in /opt/conda/lib/python3.7/site-packages (from google-auth<2,>=1.6.1->kfp) (0.2.7)\n",
      "Requirement already satisfied: cachetools<5.0,>=2.0.0 in /opt/conda/lib/python3.7/site-packages (from google-auth<2,>=1.6.1->kfp) (4.2.2)\n",
      "Requirement already satisfied: google-cloud-bigquery<3.0.0dev,>=1.15.0 in /opt/conda/lib/python3.7/site-packages (from google-cloud-aiplatform>=1.3.0->google-cloud-pipeline-components) (2.23.2)\n",
      "Requirement already satisfied: proto-plus>=1.10.1 in /opt/conda/lib/python3.7/site-packages (from google-cloud-aiplatform>=1.3.0->google-cloud-pipeline-components) (1.19.0)\n",
      "Requirement already satisfied: grpcio<2.0dev,>=1.29.0 in /opt/conda/lib/python3.7/site-packages (from google-api-core<2dev,>=1.26.0->google-cloud-pipeline-components) (1.38.1)\n",
      "Requirement already satisfied: google-cloud-core<3.0.0dev,>=1.4.1 in /opt/conda/lib/python3.7/site-packages (from google-cloud-bigquery<3.0.0dev,>=1.15.0->google-cloud-aiplatform>=1.3.0->google-cloud-pipeline-components) (1.7.2)\n",
      "Requirement already satisfied: google-resumable-media<3.0dev,>=0.6.0 in /opt/conda/lib/python3.7/site-packages (from google-cloud-bigquery<3.0.0dev,>=1.15.0->google-cloud-aiplatform>=1.3.0->google-cloud-pipeline-components) (1.3.2)\n",
      "Requirement already satisfied: google-crc32c<2.0dev,>=1.0 in /opt/conda/lib/python3.7/site-packages (from google-resumable-media<3.0dev,>=0.6.0->google-cloud-bigquery<3.0.0dev,>=1.15.0->google-cloud-aiplatform>=1.3.0->google-cloud-pipeline-components) (1.1.2)\n",
      "Requirement already satisfied: cffi>=1.0.0 in /opt/conda/lib/python3.7/site-packages (from google-crc32c<2.0dev,>=1.0->google-resumable-media<3.0dev,>=0.6.0->google-cloud-bigquery<3.0.0dev,>=1.15.0->google-cloud-aiplatform>=1.3.0->google-cloud-pipeline-components) (1.14.6)\n",
      "Requirement already satisfied: pycparser in /opt/conda/lib/python3.7/site-packages (from cffi>=1.0.0->google-crc32c<2.0dev,>=1.0->google-resumable-media<3.0dev,>=0.6.0->google-cloud-bigquery<3.0.0dev,>=1.15.0->google-cloud-aiplatform>=1.3.0->google-cloud-pipeline-components) (2.20)\n",
      "Requirement already satisfied: pyparsing<3,>=2.4.2 in /opt/conda/lib/python3.7/site-packages (from httplib2<1dev,>=0.15.0->google-api-python-client<2,>=1.7.8->kfp) (2.4.7)\n",
      "Requirement already satisfied: importlib-metadata in /opt/conda/lib/python3.7/site-packages (from jsonschema<4,>=3.0.1->kfp) (4.6.3)\n",
      "Requirement already satisfied: pyrsistent>=0.14.0 in /opt/conda/lib/python3.7/site-packages (from jsonschema<4,>=3.0.1->kfp) (0.17.3)\n",
      "Requirement already satisfied: attrs>=17.4.0 in /opt/conda/lib/python3.7/site-packages (from jsonschema<4,>=3.0.1->kfp) (21.2.0)\n",
      "Requirement already satisfied: urllib3>=1.15 in /opt/conda/lib/python3.7/site-packages (from kfp-server-api<2.0.0,>=1.1.2->kfp) (1.26.6)\n",
      "Requirement already satisfied: certifi in /opt/conda/lib/python3.7/site-packages (from kfp-server-api<2.0.0,>=1.1.2->kfp) (2021.5.30)\n",
      "Requirement already satisfied: python-dateutil in /opt/conda/lib/python3.7/site-packages (from kfp-server-api<2.0.0,>=1.1.2->kfp) (2.8.2)\n",
      "Requirement already satisfied: requests-oauthlib in /opt/conda/lib/python3.7/site-packages (from kubernetes<13,>=8.0.0->kfp) (1.3.0)\n",
      "Requirement already satisfied: websocket-client!=0.40.0,!=0.41.*,!=0.42.*,>=0.32.0 in /opt/conda/lib/python3.7/site-packages (from kubernetes<13,>=8.0.0->kfp) (0.57.0)\n",
      "Requirement already satisfied: pyasn1<0.5.0,>=0.4.6 in /opt/conda/lib/python3.7/site-packages (from pyasn1-modules>=0.2.1->google-auth<2,>=1.6.1->kfp) (0.4.8)\n",
      "Requirement already satisfied: chardet<5,>=3.0.2 in /opt/conda/lib/python3.7/site-packages (from requests<3.0.0dev,>=2.18.0->google-api-core<2dev,>=1.26.0->google-cloud-pipeline-components) (4.0.0)\n",
      "Requirement already satisfied: idna<3,>=2.5 in /opt/conda/lib/python3.7/site-packages (from requests<3.0.0dev,>=2.18.0->google-api-core<2dev,>=1.26.0->google-cloud-pipeline-components) (2.10)\n",
      "Requirement already satisfied: wheel in /opt/conda/lib/python3.7/site-packages (from strip-hints<1,>=0.1.8->kfp) (0.36.2)\n",
      "Requirement already satisfied: zipp>=0.5 in /opt/conda/lib/python3.7/site-packages (from importlib-metadata->jsonschema<4,>=3.0.1->kfp) (3.5.0)\n",
      "Requirement already satisfied: typing-extensions>=3.6.4 in /opt/conda/lib/python3.7/site-packages (from importlib-metadata->jsonschema<4,>=3.0.1->kfp) (3.10.0.0)\n",
      "Requirement already satisfied: oauthlib>=3.0.0 in /opt/conda/lib/python3.7/site-packages (from requests-oauthlib->kubernetes<13,>=8.0.0->kfp) (3.1.1)\n",
      "Building wheels for collected packages: kfp, docstring-parser, fire, kfp-server-api, strip-hints, termcolor\n",
      "  Building wheel for kfp (setup.py) ... \u001b[?25ldone\n",
      "\u001b[?25h  Created wheel for kfp: filename=kfp-1.7.1-py3-none-any.whl size=321908 sha256=21ffacc0e4f10368348825cc13d20883964a2e47de324baf714e2a28cc880fd9\n",
      "  Stored in directory: /home/jupyter/.cache/pip/wheels/96/7e/d3/c3958e65cc9aa628c9398eb0ee17c804c3934f1111f17310b8\n",
      "  Building wheel for docstring-parser (PEP 517) ... \u001b[?25ldone\n",
      "\u001b[?25h  Created wheel for docstring-parser: filename=docstring_parser-0.10-py3-none-any.whl size=28862 sha256=b4e239ee05e402e751ed26fae8d9de8651b040a67add76a41657de6a526d70ee\n",
      "  Stored in directory: /home/jupyter/.cache/pip/wheels/c2/12/f3/67c96229e15e2fe18709cba1b9e3a6a982699c4f0a7b4c0748\n",
      "  Building wheel for fire (setup.py) ... \u001b[?25ldone\n",
      "\u001b[?25h  Created wheel for fire: filename=fire-0.4.0-py2.py3-none-any.whl size=115928 sha256=23e08352561f73609910f616d5293f2eac9b2c89a0863485cec2f8bbc89a8b66\n",
      "  Stored in directory: /home/jupyter/.cache/pip/wheels/8a/67/fb/2e8a12fa16661b9d5af1f654bd199366799740a85c64981226\n",
      "  Building wheel for kfp-server-api (setup.py) ... \u001b[?25ldone\n",
      "\u001b[?25h  Created wheel for kfp-server-api: filename=kfp_server_api-1.6.0-py3-none-any.whl size=92524 sha256=2726e81e61c50bfd39e58858137ecd3a6b6e7e29e4dfea761cb8002227aa6752\n",
      "  Stored in directory: /home/jupyter/.cache/pip/wheels/25/2f/7c/d5c1cbcb535e30c90b88aa5104b1ee14a0ea9313a543bfdf52\n",
      "  Building wheel for strip-hints (setup.py) ... \u001b[?25ldone\n",
      "\u001b[?25h  Created wheel for strip-hints: filename=strip_hints-0.1.10-py2.py3-none-any.whl size=22279 sha256=e98635b1387ec70fd59e2b98aa2bf7cf063a4f096908f71f51423e8d00a91a88\n",
      "  Stored in directory: /home/jupyter/.cache/pip/wheels/5e/14/c3/6e44e9b2545f2d570b03f5b6d38c00b7534aa8abb376978363\n",
      "  Building wheel for termcolor (setup.py) ... \u001b[?25ldone\n",
      "\u001b[?25h  Created wheel for termcolor: filename=termcolor-1.1.0-py3-none-any.whl size=4829 sha256=01cc33123a5d171692078c3007d8eb7aa37c0fdf02970738b4af7bca2af877d8\n",
      "  Stored in directory: /home/jupyter/.cache/pip/wheels/3f/e3/ec/8a8336ff196023622fbcb36de0c5a5c218cbb24111d1d4c7f2\n",
      "Successfully built kfp docstring-parser fire kfp-server-api strip-hints termcolor\n",
      "Installing collected packages: termcolor, tabulate, strip-hints, requests-toolbelt, kubernetes, kfp-server-api, kfp-pipeline-spec, google-api-python-client, fire, docstring-parser, Deprecated, click, absl-py, kfp, google-cloud-pipeline-components\n",
      "\u001b[33m  WARNING: The script tabulate is installed in '/home/jupyter/.local/bin' which is not on PATH.\n",
      "  Consider adding this directory to PATH or, if you prefer to suppress this warning, use --no-warn-script-location.\u001b[0m\n",
      "\u001b[33m  WARNING: The script strip-hints is installed in '/home/jupyter/.local/bin' which is not on PATH.\n",
      "  Consider adding this directory to PATH or, if you prefer to suppress this warning, use --no-warn-script-location.\u001b[0m\n",
      "\u001b[33m  WARNING: The scripts dsl-compile, dsl-compile-v2 and kfp are installed in '/home/jupyter/.local/bin' which is not on PATH.\n",
      "  Consider adding this directory to PATH or, if you prefer to suppress this warning, use --no-warn-script-location.\u001b[0m\n",
      "Successfully installed Deprecated-1.2.12 absl-py-0.11.0 click-7.1.2 docstring-parser-0.10 fire-0.4.0 google-api-python-client-1.12.8 google-cloud-pipeline-components-0.1.5 kfp-1.7.1 kfp-pipeline-spec-0.1.9 kfp-server-api-1.6.0 kubernetes-12.0.1 requests-toolbelt-0.9.1 strip-hints-0.1.10 tabulate-0.8.9 termcolor-1.1.0\n"
     ]
    }
   ],
   "source": [
    "! pip install {USER_FLAG} google-cloud-aiplatform --upgrade\n",
    "! pip install {USER_FLAG} kfp google-cloud-pipeline-components --upgrade"
   ]
  },
  {
   "cell_type": "code",
   "execution_count": 2,
   "id": "48fa9ea6",
   "metadata": {},
   "outputs": [
    {
     "name": "stdout",
     "output_type": "stream",
     "text": [
      "True\n"
     ]
    }
   ],
   "source": [
    "import os\n",
    "print(not os.getenv(\"IS_TESTING\"))"
   ]
  },
  {
   "cell_type": "code",
   "execution_count": 3,
   "id": "46725bd2",
   "metadata": {},
   "outputs": [
    {
     "name": "stdout",
     "output_type": "stream",
     "text": [
      "KFP SDK version: 1.7.1\n"
     ]
    }
   ],
   "source": [
    "!python3 -c \"import kfp; print('KFP SDK version: {}'.format(kfp.__version__))\""
   ]
  },
  {
   "cell_type": "code",
   "execution_count": 4,
   "id": "9aa645a2",
   "metadata": {},
   "outputs": [
    {
     "name": "stdout",
     "output_type": "stream",
     "text": [
      "Project ID:  dna-verizonpoc\n"
     ]
    }
   ],
   "source": [
    "\n",
    "import os\n",
    "\n",
    "PROJECT_ID = \"\"\n",
    "\n",
    "# Get your Google Cloud project ID from gcloud\n",
    "if not os.getenv(\"IS_TESTING\"):\n",
    "    shell_output=!gcloud config list --format 'value(core.project)' 2>/dev/null\n",
    "    PROJECT_ID = shell_output[0]\n",
    "    print(\"Project ID: \", PROJECT_ID)"
   ]
  },
  {
   "cell_type": "code",
   "execution_count": 5,
   "id": "bda5d504",
   "metadata": {},
   "outputs": [],
   "source": [
    "\n",
    "from datetime import datetime\n",
    "\n",
    "TIMESTAMP = datetime.now().strftime(\"%Y%m%d%H%M%S\")"
   ]
  },
  {
   "cell_type": "code",
   "execution_count": 7,
   "id": "4468b17e",
   "metadata": {},
   "outputs": [],
   "source": [
    "BUCKET_NAME = \"gs://verexai_automl_text_data\"  # @param {type:\"string\"}\n",
    "REGION = \"us-central1\"  # @param {type:\"string\"}"
   ]
  },
  {
   "cell_type": "code",
   "execution_count": 8,
   "id": "92866700",
   "metadata": {},
   "outputs": [
    {
     "name": "stdout",
     "output_type": "stream",
     "text": [
      "env: PATH=/opt/conda/bin:/opt/conda/condabin:/usr/local/bin:/usr/bin:/bin:/usr/local/games:/usr/games:/home/jupyter/.local/bin\n"
     ]
    },
    {
     "data": {
      "text/plain": [
       "'gs://verexai_automl_text_data/pipeline_root/custommodel'"
      ]
     },
     "execution_count": 8,
     "metadata": {},
     "output_type": "execute_result"
    }
   ],
   "source": [
    "PATH=%env PATH\n",
    "%env PATH={PATH}:/home/jupyter/.local/bin\n",
    "\n",
    "USER = \"\"  # <---CHANGE THIS\n",
    "PIPELINE_ROOT = \"{}/pipeline_root/{}\".format(BUCKET_NAME, \"custommodel\")\n",
    "\n",
    "PIPELINE_ROOT"
   ]
  },
  {
   "cell_type": "code",
   "execution_count": 9,
   "id": "af5ecd78",
   "metadata": {},
   "outputs": [],
   "source": [
    "import kfp\n",
    "from google.cloud import aiplatform\n",
    "from google_cloud_pipeline_components import aiplatform as gcc_aip\n",
    "from kfp.v2 import compiler\n",
    "from kfp.v2.dsl import component\n",
    "from kfp.v2.google import experimental\n",
    "from kfp.v2.google.client import AIPlatformClient"
   ]
  },
  {
   "cell_type": "code",
   "execution_count": 14,
   "id": "1b494aa6",
   "metadata": {},
   "outputs": [
    {
     "name": "stdout",
     "output_type": "stream",
     "text": [
      "['--data-dir', 'gs://verexai_automl_text_data/pipeline_root/custommodel/data_dir/', '--hptune-dict', '{\"num_hidden_layers\": 3, \"hidden_size\": 32, \"learning_rate\": 0.01, \"epochs\": 1, \"steps_per_epoch\": -1}'] gs://verexai_automl_text_data/pipeline_root/custommodel/1629276215 train_deploy1629276215\n"
     ]
    }
   ],
   "source": [
    "# create args list for trainer\n",
    "\n",
    "hp_dict: str = '{\"num_hidden_layers\": 3, \"hidden_size\": 32, \"learning_rate\": 0.01, \"epochs\": 1, \"steps_per_epoch\": -1}'\n",
    "data_dir: str = \"gs://verexai_automl_text_data/pipeline_root/custommodel/data_dir/\"\n",
    "TRAINER_ARGS = [\"--data-dir\", data_dir, \"--hptune-dict\", hp_dict]\n",
    "\n",
    "# create working dir to pass to job spec\n",
    "import time\n",
    "\n",
    "ts = int(time.time())\n",
    "WORKING_DIR = f\"{PIPELINE_ROOT}/{ts}\"\n",
    "\n",
    "MODEL_DISPLAY_NAME = f\"train_deploy{ts}\"\n",
    "print(TRAINER_ARGS, WORKING_DIR, MODEL_DISPLAY_NAME)"
   ]
  },
  {
   "cell_type": "code",
   "execution_count": 13,
   "id": "348f97c0",
   "metadata": {},
   "outputs": [
    {
     "name": "stdout",
     "output_type": "stream",
     "text": [
      "Copying gs://aju-dev-demos-codelabs/bikes_weather/test-bw000000000008.csv [Content-Type=application/octet-stream]...\n",
      "Copying gs://aju-dev-demos-codelabs/bikes_weather/test-bw000000000009.csv [Content-Type=application/octet-stream]...\n",
      "Copying gs://aju-dev-demos-codelabs/bikes_weather/train-bw000000000000.csv [Content-Type=application/octet-stream]...\n",
      "Copying gs://aju-dev-demos-codelabs/bikes_weather/train-bw000000000001.csv [Content-Type=application/octet-stream]...\n",
      "/ [4 files][  1.3 GiB/  1.3 GiB]      0.0 B/s                                   \n",
      "==> NOTE: You are performing a sequence of gsutil operations that may\n",
      "run significantly faster if you instead use gsutil -m cp ... Please\n",
      "see the -m section under \"gsutil help options\" for further information\n",
      "about when gsutil -m can be advantageous.\n",
      "\n",
      "Copying gs://aju-dev-demos-codelabs/bikes_weather/train-bw000000000002.csv [Content-Type=application/octet-stream]...\n",
      "Copying gs://aju-dev-demos-codelabs/bikes_weather/train-bw000000000003.csv [Content-Type=application/octet-stream]...\n",
      "Copying gs://aju-dev-demos-codelabs/bikes_weather/train-bw000000000004.csv [Content-Type=application/octet-stream]...\n",
      "Copying gs://aju-dev-demos-codelabs/bikes_weather/train-bw000000000005.csv [Content-Type=application/octet-stream]...\n",
      "Copying gs://aju-dev-demos-codelabs/bikes_weather/train-bw000000000006.csv [Content-Type=application/octet-stream]...\n",
      "Copying gs://aju-dev-demos-codelabs/bikes_weather/train-bw000000000007.csv [Content-Type=application/octet-stream]...\n",
      "\\ [10 files][  3.3 GiB/  3.3 GiB]      0.0 B/s                                  \n",
      "Operation completed over 10 objects/3.3 GiB.                                     \n"
     ]
    }
   ],
   "source": [
    "!gsutil cp gs://aju-dev-demos-codelabs/bikes_weather/* gs://verexai_automl_text_data/pipeline_root/custommodel/data_dir/"
   ]
  },
  {
   "cell_type": "code",
   "execution_count": 20,
   "id": "42463cef",
   "metadata": {},
   "outputs": [],
   "source": [
    "\n",
    "@component\n",
    "def training_op(input1: str):\n",
    "    print(\"training task: {}\".format(input1))"
   ]
  },
  {
   "cell_type": "code",
   "execution_count": 21,
   "id": "adb81924",
   "metadata": {},
   "outputs": [],
   "source": [
    "@kfp.dsl.pipeline(name=\"train-endpoint-deploy\" + TIMESTAMP)\n",
    "def pipeline(\n",
    "    project: str = PROJECT_ID,\n",
    "    model_display_name: str = MODEL_DISPLAY_NAME,\n",
    "    serving_container_image_uri: str = \"us-docker.pkg.dev/cloud-aiplatform/prediction/tf2-cpu.2-3:latest\",\n",
    "):\n",
    "\n",
    "    train_task = training_op(\"model training\")\n",
    "    experimental.run_as_aiplatform_custom_job(\n",
    "        train_task,\n",
    "        worker_pool_specs=[\n",
    "            {\n",
    "                \"containerSpec\": {\n",
    "                    \"args\": TRAINER_ARGS,\n",
    "                    \"env\": [{\"name\": \"AIP_MODEL_DIR\", \"value\": WORKING_DIR}],\n",
    "                    \"imageUri\": \"gcr.io/google-samples/bw-cc-train:latest\",\n",
    "                },\n",
    "                \"replicaCount\": \"1\",\n",
    "                \"machineSpec\": {\n",
    "                    \"machineType\": \"n1-standard-4\",\n",
    "                },\n",
    "            }\n",
    "        ],\n",
    "    )\n",
    "\n",
    "    model_upload_op = gcc_aip.ModelUploadOp(\n",
    "        project=project,\n",
    "        display_name=model_display_name,\n",
    "        artifact_uri=WORKING_DIR,\n",
    "        serving_container_image_uri=serving_container_image_uri,\n",
    "        serving_container_environment_variables={\"NOT_USED\": \"NO_VALUE\"},\n",
    "    )\n",
    "    model_upload_op.after(train_task)\n",
    "\n",
    "    endpoint_create_op = gcc_aip.EndpointCreateOp(\n",
    "        project=project,\n",
    "        display_name=\"pipelines-created-endpoint\",\n",
    "    )\n",
    "\n",
    "    model_deploy_op = gcc_aip.ModelDeployOp(  # noqa: F841\n",
    "        project=project,\n",
    "        endpoint=endpoint_create_op.outputs[\"endpoint\"],\n",
    "        model=model_upload_op.outputs[\"model\"],\n",
    "        deployed_model_display_name=model_display_name,\n",
    "        machine_type=\"n1-standard-4\",\n",
    "    )"
   ]
  },
  {
   "cell_type": "code",
   "execution_count": 16,
   "id": "55237d98",
   "metadata": {},
   "outputs": [
    {
     "name": "stdout",
     "output_type": "stream",
     "text": [
      "NAME\n",
      "gcr.io/google-samples/adservice\n",
      "gcr.io/google-samples/amyu_gatk_extensionsonly\n",
      "gcr.io/google-samples/amyu_ml4h_reorder\n",
      "gcr.io/google-samples/appengine-tensorboard\n",
      "gcr.io/google-samples/automl-pipeline\n",
      "gcr.io/google-samples/automl-ucaip\n",
      "gcr.io/google-samples/bw-aiplatform\n",
      "gcr.io/google-samples/bw-aiplatform-mb\n",
      "gcr.io/google-samples/bw-cc-train\n",
      "gcr.io/google-samples/bw-pipeline-tfserve\n",
      "gcr.io/google-samples/bw-pl-bikes-train\n",
      "gcr.io/google-samples/cartservice\n",
      "gcr.io/google-samples/cassandra\n",
      "gcr.io/google-samples/checkoutservice\n",
      "gcr.io/google-samples/cloudbuild-kustomize\n",
      "gcr.io/google-samples/container-analysis-webhook\n",
      "gcr.io/google-samples/currencyservice\n",
      "gcr.io/google-samples/echo-go\n",
      "gcr.io/google-samples/echo-java\n",
      "gcr.io/google-samples/echo-node\n",
      "gcr.io/google-samples/echo-php\n",
      "gcr.io/google-samples/echo-python\n",
      "gcr.io/google-samples/echo-ruby\n",
      "gcr.io/google-samples/emailservice\n",
      "gcr.io/google-samples/env-backend\n",
      "gcr.io/google-samples/env-show\n",
      "gcr.io/google-samples/freshpod\n",
      "gcr.io/google-samples/frontend\n",
      "gcr.io/google-samples/gb-frontend\n",
      "gcr.io/google-samples/gb-frontend-amd64\n",
      "gcr.io/google-samples/gb-frontend-arm\n",
      "gcr.io/google-samples/gb-frontend-arm64\n",
      "gcr.io/google-samples/gb-frontend-ppc64le\n",
      "gcr.io/google-samples/gb-redis-follower\n",
      "gcr.io/google-samples/gb-redis-secondary\n",
      "gcr.io/google-samples/gb-redisslave\n",
      "gcr.io/google-samples/gb-redisslave-amd64\n",
      "gcr.io/google-samples/gb-redisslave-arm\n",
      "gcr.io/google-samples/gb-redisslave-arm64\n",
      "gcr.io/google-samples/gb-redisslave-ppc64le\n",
      "gcr.io/google-samples/gb-redisworker\n",
      "gcr.io/google-samples/gke-serviceaccounts-initializer\n",
      "gcr.io/google-samples/go-echo\n",
      "gcr.io/google-samples/grpc-cxx\n",
      "gcr.io/google-samples/hello-app\n",
      "gcr.io/google-samples/hello-app-cdn\n",
      "gcr.io/google-samples/hello-app-metrics\n",
      "gcr.io/google-samples/hello-app-redis\n",
      "gcr.io/google-samples/hello-app-tls\n",
      "gcr.io/google-samples/hello-frontend\n",
      "gcr.io/google-samples/hello-go-gke\n",
      "gcr.io/google-samples/intro-to-krm\n",
      "gcr.io/google-samples/istio\n",
      "gcr.io/google-samples/istio-samples\n",
      "gcr.io/google-samples/k8s-filebeat\n",
      "gcr.io/google-samples/k8sdocs\n",
      "gcr.io/google-samples/k8skafka\n",
      "gcr.io/google-samples/k8szk\n",
      "gcr.io/google-samples/kubernetes-bootcamp\n",
      "gcr.io/google-samples/kubernetes-zookeeper\n",
      "gcr.io/google-samples/loadgenerator\n",
      "gcr.io/google-samples/lobsters\n",
      "gcr.io/google-samples/lobsters-db\n",
      "gcr.io/google-samples/microservices-demo\n",
      "gcr.io/google-samples/ml-pipeline-bikes-dep\n",
      "gcr.io/google-samples/ml-pipeline-bikes-train\n",
      "gcr.io/google-samples/ml-pipeline-bikes-tuner\n",
      "gcr.io/google-samples/ml-pipeline-cmle-op\n",
      "gcr.io/google-samples/ml-pipeline-dataflow-tfma-taxi\n",
      "gcr.io/google-samples/ml-pipeline-dataflow-tftbq-taxi\n",
      "gcr.io/google-samples/ml-pipeline-kubeflow-tf-taxi\n",
      "gcr.io/google-samples/ml-pipeline-kubeflow-tfserve\n",
      "gcr.io/google-samples/ml-pipeline-kubeflow-tfserve-taxi\n",
      "gcr.io/google-samples/ml-pipeline-kubeflow-trainer-taxi\n",
      "gcr.io/google-samples/ml-pipeline-metadata-logger\n",
      "gcr.io/google-samples/ml-pipeline-t2tapp\n",
      "gcr.io/google-samples/ml-pipeline-t2tproc\n",
      "gcr.io/google-samples/ml-pipeline-t2ttrain\n",
      "gcr.io/google-samples/ml-pipeline-t2ttrain-cpu\n",
      "gcr.io/google-samples/ml-pipeline-tfserve\n",
      "gcr.io/google-samples/ml-pipeline-webapp-launcher\n",
      "gcr.io/google-samples/mysql\n",
      "gcr.io/google-samples/nfs-server\n",
      "gcr.io/google-samples/node-hello\n",
      "gcr.io/google-samples/paymentservice\n",
      "gcr.io/google-samples/pm-test\n",
      "gcr.io/google-samples/productcatalogservice\n",
      "gcr.io/google-samples/prometheus-dummy-exporter\n",
      "gcr.io/google-samples/pubsub-bq-pipe\n",
      "gcr.io/google-samples/pubsub-sample\n",
      "gcr.io/google-samples/pytorch-pl\n",
      "gcr.io/google-samples/pytorch-pl-gpu\n",
      "gcr.io/google-samples/pytorch-pl-gpu-ct\n",
      "gcr.io/google-samples/recommendationservice\n",
      "gcr.io/google-samples/redis\n",
      "gcr.io/google-samples/redis-bq-pipe\n",
      "gcr.io/google-samples/redis-proxy\n",
      "gcr.io/google-samples/sd-dummy-exporter\n",
      "gcr.io/google-samples/service-catalog\n",
      "gcr.io/google-samples/shippingservice\n",
      "gcr.io/google-samples/steps-twotier\n",
      "gcr.io/google-samples/style-transfer\n",
      "gcr.io/google-samples/tf-jupyter-server\n",
      "gcr.io/google-samples/tf-k8s-worker\n",
      "gcr.io/google-samples/tf-worker-example\n",
      "gcr.io/google-samples/tf-workshop\n",
      "gcr.io/google-samples/tfdv-tests\n",
      "gcr.io/google-samples/torchserve-kfstest\n",
      "gcr.io/google-samples/twilio-vision\n",
      "gcr.io/google-samples/whereami\n",
      "gcr.io/google-samples/xtrabackup\n",
      "gcr.io/google-samples/zone-printer\n"
     ]
    }
   ],
   "source": [
    "!gcloud container images list --repository=gcr.io/google-samples"
   ]
  },
  {
   "cell_type": "code",
   "execution_count": 22,
   "id": "9fb49f6c",
   "metadata": {},
   "outputs": [],
   "source": [
    "from kfp.v2 import compiler  # noqa: F811\n",
    "\n",
    "compiler.Compiler().compile(\n",
    "    pipeline_func=pipeline, package_path=\"train_upload_deploy.json\"\n",
    ")"
   ]
  },
  {
   "cell_type": "code",
   "execution_count": 23,
   "id": "e0421636",
   "metadata": {},
   "outputs": [
    {
     "name": "stderr",
     "output_type": "stream",
     "text": [
      "/home/jupyter/.local/lib/python3.7/site-packages/kfp/v2/google/client/client.py:175: FutureWarning: AIPlatformClient will be deprecated in v1.9. Please use PipelineJob https://googleapis.dev/python/aiplatform/latest/_modules/google/cloud/aiplatform/pipeline_jobs.html in Vertex SDK. Install the SDK using \"pip install google-cloud-aiplatform\"\n",
      "  category=FutureWarning,\n"
     ]
    }
   ],
   "source": [
    "from kfp.v2.google.client import AIPlatformClient  # noqa: F811\n",
    "\n",
    "api_client = AIPlatformClient(\n",
    "    project_id=PROJECT_ID,\n",
    "    region=REGION,\n",
    ")"
   ]
  },
  {
   "cell_type": "code",
   "execution_count": 24,
   "id": "77b4f419",
   "metadata": {},
   "outputs": [
    {
     "data": {
      "text/html": [
       "See the Pipeline job <a href=\"https://console.cloud.google.com/vertex-ai/locations/us-central1/pipelines/runs/train-endpoint-deploy20210818082222-20210818090416?project=dna-verizonpoc\" target=\"_blank\" >here</a>."
      ],
      "text/plain": [
       "<IPython.core.display.HTML object>"
      ]
     },
     "metadata": {},
     "output_type": "display_data"
    }
   ],
   "source": [
    "response = api_client.create_run_from_job_spec(\n",
    "    \"train_upload_deploy.json\",\n",
    "    pipeline_root=PIPELINE_ROOT,\n",
    "    parameter_values={\"project\": PROJECT_ID},\n",
    ")"
   ]
  },
  {
   "cell_type": "code",
   "execution_count": 25,
   "id": "aafc1deb",
   "metadata": {},
   "outputs": [
    {
     "name": "stdout",
     "output_type": "stream",
     "text": [
      "{\"artifacts\": {\"endpoint\": {\"artifacts\": [{\"name\": \"projects/885855441164/locations/us-central1/metadataStores/default/artifacts/15558373097935837787\", \"uri\": \"aiplatform://v1/projects/885855441164/locations/us-central1/endpoints/93572837570248704\", \"metadata\": {}}]}}}"
     ]
    }
   ],
   "source": [
    "!gsutil cat  gs://verexai_automl_text_data/pipeline_root/custommodel/885855441164/train-endpoint-deploy20210818082222-20210818090416/endpoint-create_5069065263396159488/executor_output.json"
   ]
  },
  {
   "cell_type": "code",
   "execution_count": 26,
   "id": "bae209de",
   "metadata": {},
   "outputs": [
    {
     "name": "stdout",
     "output_type": "stream",
     "text": [
      "Did you mean this?\n",
      "\tsetheader\n",
      "CommandException: Invalid command \"head\".\n"
     ]
    }
   ],
   "source": [
    "!gsutil head gs://aju-dev-demos-codelabs/bikes_weather/train-bw000000000002.csv"
   ]
  },
  {
   "cell_type": "code",
   "execution_count": 28,
   "id": "fb929e32",
   "metadata": {},
   "outputs": [
    {
     "name": "stdout",
     "output_type": "stream",
     "text": [
      "duration,end_station_id,bike_id,ts,day_of_week,start_station_id,start_latitude,start_longitude,end_latitude,end_longitude,euclidean,loc_cross,prcp,max,min,temp,dewp\n",
      "5040,243,12433,1441557120,1,341,51.50810309,-0.12602103,51.49096258,-0.139625122,2125.886953695936,POINT(-0.13 51.51)POINT(-0.14 51.49),0.01,68,43.9,56.2,44.3\n",
      "180,185,9982,1434911340,1,148,51.49211134,-0.138364847,51.48805753,-0.140741432,479.85713176080208,POINT(-0.14 51.49)POINT(-0.14 51.49),0.07,69.4,58.3,62.8,49.8\n",
      "1140,540,10856,1427128620,2,457,51.542138,-0.145393,51.528302,-0.144466,1539.8309189322943,POINT(-0.15 51.54)POINT(-0.14 51.53),0,54,35.4,45.5,34.7\n",
      "720,29,5083,1434645780,5,392,51.49942855,-0.179702476,51.513735,-0.193487,1854.9528279331748,POINT(-0.18 51.5)POINT(-0.19 51.51),0,71.8,57.9,64.1,47.9\n",
      "1020,383,2944,1423471620,2,93,51.53440868,-0.109025404,51.51310333,-0.13121385,2822.9277534479152,POINT(-0.11 51.53)POINT(-0.13 51.51),0,50.2,35.2,42.8,36.4\n",
      "780,325,12916,1420648920,4,178,51.48985626,-0.141923621,51.50908747,-0.129697889,2299.7864477892977,POINT(-0.14 51.49)POINT(-0.13 51.51),0.07,50.4,35.1,43.8,38.5\n",
      "240,396,8302,1422114480,7,210,51.51681444,-0.151926305,51.51809,-0.163609,820.72204363969377,POINT(-0.15 51.52)POINT(-0.16 51.52),0.13,47.1,36,42,34\n",
      "360,114,8151,1422884340,2,121,51.51891348,-0.156166631,51.52451738,-0.158963647,652.48434534224646,POINT(-0.16 51.52)POINT(-0.16 51.52),0,38.1,29.5,33.6,23.6\n",
      "420,201,13015,1434445740,3,581,51.519167,-0.147983,51.5225965,-0.161113413,985.26936242581553,POINT(-0.15 51.52)POINT(-0.16 51.52),0,73.9,48.2,62.3,47.3\n"
     ]
    }
   ],
   "source": [
    "!gsutil cat gs://aju-dev-demos-codelabs/bikes_weather/train-bw000000000002.csv |head"
   ]
  },
  {
   "cell_type": "code",
   "execution_count": 30,
   "id": "578a11a1",
   "metadata": {},
   "outputs": [
    {
     "name": "stdout",
     "output_type": "stream",
     "text": [
      "--2021-08-18 10:50:55--  http://ai.stanford.edu/~amaas/data/sentiment/aclImdb_v1.tar.gz\n",
      "Resolving ai.stanford.edu (ai.stanford.edu)... 171.64.68.10\n",
      "Connecting to ai.stanford.edu (ai.stanford.edu)|171.64.68.10|:80... connected.\n",
      "HTTP request sent, awaiting response... 200 OK\n",
      "Length: 84125825 (80M) [application/x-gzip]\n",
      "Saving to: ‘aclImdb_v1.tar.gz’\n",
      "\n",
      "aclImdb_v1.tar.gz   100%[===================>]  80.23M  23.7MB/s    in 3.4s    \n",
      "\n",
      "2021-08-18 10:50:59 (23.7 MB/s) - ‘aclImdb_v1.tar.gz’ saved [84125825/84125825]\n",
      "\n"
     ]
    }
   ],
   "source": [
    "!wget \"http://ai.stanford.edu/~amaas/data/sentiment/aclImdb_v1.tar.gz\""
   ]
  },
  {
   "cell_type": "code",
   "execution_count": 31,
   "id": "77903a74",
   "metadata": {},
   "outputs": [],
   "source": [
    "!tar -xzf \"aclImdb_v1.tar.gz\""
   ]
  },
  {
   "cell_type": "code",
   "execution_count": 44,
   "id": "e21b1544",
   "metadata": {},
   "outputs": [
    {
     "name": "stdout",
     "output_type": "stream",
     "text": [
      "  12500 txt\n"
     ]
    }
   ],
   "source": [
    "!ls ./aclImdb/train/pos/ | cut -d'.' -f2|uniq -cd"
   ]
  },
  {
   "cell_type": "code",
   "execution_count": 39,
   "id": "7c33ab3a",
   "metadata": {},
   "outputs": [
    {
     "name": "stdout",
     "output_type": "stream",
     "text": [
      "/home/jupyter/Vertexai-Custom-Model-Covertype\n"
     ]
    }
   ],
   "source": [
    "!pwd"
   ]
  },
  {
   "cell_type": "code",
   "execution_count": null,
   "id": "17140380",
   "metadata": {},
   "outputs": [],
   "source": []
  },
  {
   "cell_type": "code",
   "execution_count": null,
   "id": "5ade6f30",
   "metadata": {},
   "outputs": [],
   "source": []
  }
 ],
 "metadata": {
  "environment": {
   "name": "common-cpu.m76",
   "type": "gcloud",
   "uri": "gcr.io/deeplearning-platform-release/base-cpu:m76"
  },
  "kernelspec": {
   "display_name": "Python 3",
   "language": "python",
   "name": "python3"
  },
  "language_info": {
   "codemirror_mode": {
    "name": "ipython",
    "version": 3
   },
   "file_extension": ".py",
   "mimetype": "text/x-python",
   "name": "python",
   "nbconvert_exporter": "python",
   "pygments_lexer": "ipython3",
   "version": "3.7.10"
  }
 },
 "nbformat": 4,
 "nbformat_minor": 5
}
