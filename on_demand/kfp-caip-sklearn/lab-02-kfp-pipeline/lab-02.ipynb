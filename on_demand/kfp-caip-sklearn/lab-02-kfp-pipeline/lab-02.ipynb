{
 "cells": [
  {
   "cell_type": "markdown",
   "metadata": {},
   "source": [
    "# Continuous training pipeline with Kubeflow Pipeline and AI Platform"
   ]
  },
  {
   "cell_type": "markdown",
   "metadata": {},
   "source": [
    "**Learning Objectives:**\n",
    "1. Learn how to use Kubeflow Pipeline(KFP) pre-build components (BiqQuery, AI Platform training and predictions)\n",
    "1. Learn how to use KFP lightweight python components\n",
    "1. Learn how to build a KFP with these components\n",
    "1. Learn how to compile, upload, and run a KFP with the command line\n",
    "\n",
    "\n",
    "In this lab, you will build, deploy, and run a KFP pipeline that orchestrates **BigQuery** and **AI Platform** services to train, tune, and deploy a **scikit-learn** model."
   ]
  },
  {
   "cell_type": "markdown",
   "metadata": {},
   "source": [
    "## Understanding the pipeline design\n"
   ]
  },
  {
   "cell_type": "markdown",
   "metadata": {},
   "source": [
    "The workflow implemented by the pipeline is defined using a Python based Domain Specific Language (DSL). The pipeline's DSL is in the `covertype_training_pipeline.py` file that we will generate below.\n",
    "\n",
    "The pipeline's DSL has been designed to avoid hardcoding any environment specific settings like file paths or connection strings. These settings are provided to the pipeline code through a set of environment variables.\n"
   ]
  },
  {
   "cell_type": "code",
   "execution_count": 195,
   "metadata": {},
   "outputs": [
    {
     "name": "stdout",
     "output_type": "stream",
     "text": [
      "kfp                            1.0.0\n",
      "kfp-pipeline-spec              0.1.7\n",
      "kfp-server-api                 1.5.0\n"
     ]
    }
   ],
   "source": [
    "#!grep 'BASE_IMAGE =' -A 5 pipeline/covertype_training_pipeline.py\n",
    "!pip list | grep kfp"
   ]
  },
  {
   "cell_type": "markdown",
   "metadata": {},
   "source": [
    "The pipeline uses a mix of custom and pre-build components.\n",
    "\n",
    "- Pre-build components. The pipeline uses the following pre-build components that are included with the KFP distribution:\n",
    "    - [BigQuery query component](https://github.com/kubeflow/pipelines/tree/0.2.5/components/gcp/bigquery/query)\n",
    "    - [AI Platform Training component](https://github.com/kubeflow/pipelines/tree/0.2.5/components/gcp/ml_engine/train)\n",
    "    - [AI Platform Deploy component](https://github.com/kubeflow/pipelines/tree/0.2.5/components/gcp/ml_engine/deploy)\n",
    "- Custom components. The pipeline uses two custom helper components that encapsulate functionality not available in any of the pre-build components. The components are implemented using the KFP SDK's [Lightweight Python Components](https://www.kubeflow.org/docs/pipelines/sdk/lightweight-python-components/) mechanism. The code for the components is in the `helper_components.py` file:\n",
    "    - **Retrieve Best Run**. This component retrieves a tuning metric and hyperparameter values for the best run of a AI Platform Training hyperparameter tuning job.\n",
    "    - **Evaluate Model**. This component evaluates a *sklearn* trained model using a provided metric and a testing dataset.\n",
    "    "
   ]
  },
  {
   "cell_type": "code",
   "execution_count": null,
   "metadata": {},
   "outputs": [],
   "source": [
    "%%writefile ./pipeline/covertype_training_pipeline.py\n",
    "# Copyright 2019 Google LLC\n",
    "#\n",
    "# Licensed under the Apache License, Version 2.0 (the \"License\");\n",
    "# you may not use this file except in compliance with the License.\n",
    "# You may obtain a copy of the License at\n",
    "#\n",
    "#      http://www.apache.org/licenses/LICENSE-2.0\n",
    "#\n",
    "# Unless required by applicable law or agreed to in writing, software\n",
    "# distributed under the License is distributed on an \"AS IS\" BASIS,\n",
    "# WITHOUT WARRANTIES OR CONDITIONS OF ANY KIND, either express or implied.\n",
    "# See the License for the specific language governing permissions and\n",
    "# limitations under the License.\n",
    "\"\"\"KFP orchestrating BigQuery and Cloud AI Platform services.\"\"\"\n",
    "\n",
    "import os\n",
    "\n",
    "from helper_components import evaluate_model\n",
    "from helper_components import retrieve_best_run\n",
    "from jinja2 import Template\n",
    "import kfp\n",
    "from kfp.components import func_to_container_op\n",
    "from kfp.dsl.types import Dict\n",
    "from kfp.dsl.types import GCPProjectID\n",
    "from kfp.dsl.types import GCPRegion\n",
    "from kfp.dsl.types import GCSPath\n",
    "from kfp.dsl.types import String\n",
    "from kfp.gcp import use_gcp_secret\n",
    "\n",
    "# Defaults and environment settings\n",
    "BASE_IMAGE = os.getenv('BASE_IMAGE')\n",
    "TRAINER_IMAGE = os.getenv('TRAINER_IMAGE')\n",
    "RUNTIME_VERSION = os.getenv('RUNTIME_VERSION')\n",
    "PYTHON_VERSION = os.getenv('PYTHON_VERSION')\n",
    "COMPONENT_URL_SEARCH_PREFIX = os.getenv('COMPONENT_URL_SEARCH_PREFIX')\n",
    "USE_KFP_SA = os.getenv('USE_KFP_SA')\n",
    "\n",
    "TRAINING_FILE_PATH = 'datasets/training/data.csv'\n",
    "VALIDATION_FILE_PATH = 'datasets/validation/data.csv'\n",
    "TESTING_FILE_PATH = 'datasets/testing/data.csv'\n",
    "\n",
    "# Parameter defaults\n",
    "SPLITS_DATASET_ID = 'splits'\n",
    "HYPERTUNE_SETTINGS = \"\"\"\n",
    "{\n",
    "    \"hyperparameters\":  {\n",
    "        \"goal\": \"MAXIMIZE\",\n",
    "        \"maxTrials\": 6,\n",
    "        \"maxParallelTrials\": 3,\n",
    "        \"hyperparameterMetricTag\": \"accuracy\",\n",
    "        \"enableTrialEarlyStopping\": True,\n",
    "        \"params\": [\n",
    "            {\n",
    "                \"parameterName\": \"max_iter\",\n",
    "                \"type\": \"DISCRETE\",\n",
    "                \"discreteValues\": [500, 1000]\n",
    "            },\n",
    "            {\n",
    "                \"parameterName\": \"alpha\",\n",
    "                \"type\": \"DOUBLE\",\n",
    "                \"minValue\": 0.0001,\n",
    "                \"maxValue\": 0.001,\n",
    "                \"scaleType\": \"UNIT_LINEAR_SCALE\"\n",
    "            }\n",
    "        ]\n",
    "    }\n",
    "}\n",
    "\"\"\"\n",
    "\n",
    "\n",
    "# Helper functions\n",
    "def generate_sampling_query(source_table_name, num_lots, lots):\n",
    "    \"\"\"Prepares the data sampling query.\"\"\"\n",
    "\n",
    "    sampling_query_template = \"\"\"\n",
    "         SELECT *\n",
    "         FROM \n",
    "             `{{ source_table }}` AS cover\n",
    "         WHERE \n",
    "         MOD(ABS(FARM_FINGERPRINT(TO_JSON_STRING(cover))), {{ num_lots }}) IN ({{ lots }})\n",
    "         \"\"\"\n",
    "    query = Template(sampling_query_template).render(\n",
    "        source_table=source_table_name, num_lots=num_lots, lots=str(lots)[1:-1])\n",
    "\n",
    "    return query\n",
    "\n",
    "\n",
    "# Create component factories\n",
    "component_store = kfp.components.ComponentStore(\n",
    "    local_search_paths=None, url_search_prefixes=[COMPONENT_URL_SEARCH_PREFIX])\n",
    "\n",
    "bigquery_query_op = component_store.load_component('bigquery/query')\n",
    "mlengine_train_op = component_store.load_component('ml_engine/train')\n",
    "mlengine_deploy_op = component_store.load_component('ml_engine/deploy')\n",
    "retrieve_best_run_op = func_to_container_op(\n",
    "    retrieve_best_run, base_image=BASE_IMAGE)\n",
    "evaluate_model_op = func_to_container_op(evaluate_model, base_image=BASE_IMAGE)\n",
    "\n",
    "\n",
    "@kfp.dsl.pipeline(\n",
    "    name='Covertype Classifier Training',\n",
    "    description='The pipeline training and deploying the Covertype classifierpipeline_yaml'\n",
    ")\n",
    "def covertype_train(project_id,\n",
    "                    region,\n",
    "                    source_table_name,\n",
    "                    gcs_root,\n",
    "                    dataset_id,\n",
    "                    evaluation_metric_name,\n",
    "                    evaluation_metric_threshold,\n",
    "                    model_id,\n",
    "                    version_id,\n",
    "                    replace_existing_version,\n",
    "                    hypertune_settings=HYPERTUNE_SETTINGS,\n",
    "                    dataset_location='US'):\n",
    "    \"\"\"Orchestrates training and deployment of an sklearn model.\"\"\"\n",
    "\n",
    "    # Create the training split\n",
    "    query = generate_sampling_query(\n",
    "        source_table_name=source_table_name, num_lots=10, lots=[1, 2, 3, 4])\n",
    "\n",
    "    training_file_path = '{}/{}'.format(gcs_root, TRAINING_FILE_PATH)\n",
    "\n",
    "    create_training_split = bigquery_query_op(\n",
    "        query=query,\n",
    "        project_id=project_id,\n",
    "        dataset_id=dataset_id,\n",
    "        table_id='',\n",
    "        output_gcs_path=training_file_path,\n",
    "        dataset_location=dataset_location)\n",
    "\n",
    "    # Create the validation split\n",
    "    query = generate_sampling_query(\n",
    "        source_table_name=source_table_name, num_lots=10, lots=[8])\n",
    "\n",
    "    validation_file_path = '{}/{}'.format(gcs_root, VALIDATION_FILE_PATH)\n",
    "\n",
    "    create_validation_split = bigquery_query_op(\n",
    "        query=query,\n",
    "        project_id=project_id,\n",
    "        dataset_id=dataset_id,\n",
    "        table_id='',\n",
    "        output_gcs_path=validation_file_path,\n",
    "        dataset_location=dataset_location)\n",
    "\n",
    "    # Create the testing split\n",
    "    query = generate_sampling_query(\n",
    "        source_table_name=source_table_name, num_lots=10, lots=[9])\n",
    "\n",
    "    testing_file_path = '{}/{}'.format(gcs_root, TESTING_FILE_PATH)\n",
    "\n",
    "    create_testing_split = bigquery_query_op(\n",
    "        query=query,\n",
    "        project_id=project_id,\n",
    "        dataset_id=dataset_id,\n",
    "        table_id='',\n",
    "        output_gcs_path=testing_file_path,\n",
    "        dataset_location=dataset_location)\n",
    "\n",
    "    # Tune hyperparameters\n",
    "    tune_args = [\n",
    "        '--training_dataset_path',\n",
    "        create_training_split.outputs['output_gcs_path'],\n",
    "        '--validation_dataset_path',\n",
    "        create_validation_split.outputs['output_gcs_path'], '--hptune', 'True'\n",
    "    ]\n",
    "\n",
    "    job_dir = '{}/{}/{}'.format(gcs_root, 'jobdir/hypertune',\n",
    "                                kfp.dsl.RUN_ID_PLACEHOLDER)\n",
    "\n",
    "    hypertune = mlengine_train_op(\n",
    "        project_id=project_id,\n",
    "        region=region,\n",
    "        master_image_uri=TRAINER_IMAGE,\n",
    "        job_dir=job_dir,\n",
    "        args=tune_args,\n",
    "        training_input=hypertune_settings)\n",
    "\n",
    "    # Retrieve the best trial\n",
    "    get_best_trial = retrieve_best_run_op(\n",
    "            project_id, hypertune.outputs['job_id'])\n",
    "\n",
    "    # Train the model on a combined training and validation datasets\n",
    "    job_dir = '{}/{}/{}'.format(gcs_root, 'jobdir', kfp.dsl.RUN_ID_PLACEHOLDER)\n",
    "\n",
    "    train_args = [\n",
    "        '--training_dataset_path',\n",
    "        create_training_split.outputs['output_gcs_path'],\n",
    "        '--validation_dataset_path',\n",
    "        create_validation_split.outputs['output_gcs_path'], '--alpha',\n",
    "        get_best_trial.outputs['alpha'], '--max_iter',\n",
    "        get_best_trial.outputs['max_iter'], '--hptune', 'False'\n",
    "    ]\n",
    "\n",
    "    train_model = mlengine_train_op(\n",
    "        project_id=project_id,\n",
    "        region=region,\n",
    "        master_image_uri=TRAINER_IMAGE,\n",
    "        job_dir=job_dir,\n",
    "        args=train_args)\n",
    "\n",
    "    # Evaluate the model on the testing split\n",
    "    eval_model = evaluate_model_op(\n",
    "        dataset_path=str(create_testing_split.outputs['output_gcs_path']),\n",
    "        model_path=str(train_model.outputs['job_dir']),\n",
    "        metric_name=evaluation_metric_name)\n",
    "\n",
    "    # Deploy the model if the primary metric is better than threshold\n",
    "    with kfp.dsl.Condition(eval_model.outputs['metric_value'] > evaluation_metric_threshold):\n",
    "        deploy_model = mlengine_deploy_op(\n",
    "        model_uri=train_model.outputs['job_dir'],\n",
    "        project_id=project_id,\n",
    "        model_id=model_id,\n",
    "        version_id=version_id,\n",
    "        runtime_version=RUNTIME_VERSION,\n",
    "        python_version=PYTHON_VERSION,\n",
    "        replace_existing_version=replace_existing_version)\n",
    "\n",
    "    # Configure the pipeline to run using the service account defined\n",
    "    # in the user-gcp-sa k8s secret\n",
    "    if USE_KFP_SA == 'True':\n",
    "        kfp.dsl.get_pipeline_conf().add_op_transformer(\n",
    "              use_gcp_secret('user-gcp-sa'))"
   ]
  },
  {
   "cell_type": "markdown",
   "metadata": {},
   "source": [
    "The custom components execute in a container image defined in `base_image/Dockerfile`."
   ]
  },
  {
   "cell_type": "code",
   "execution_count": null,
   "metadata": {},
   "outputs": [],
   "source": [
    "!cat base_image/Dockerfile"
   ]
  },
  {
   "cell_type": "markdown",
   "metadata": {},
   "source": [
    "The training step in the pipeline employes the AI Platform Training component to schedule a  AI Platform Training job in a custom training container. The custom training image is defined in `trainer_image/Dockerfile`."
   ]
  },
  {
   "cell_type": "code",
   "execution_count": null,
   "metadata": {},
   "outputs": [],
   "source": [
    "!cat trainer_image/Dockerfile"
   ]
  },
  {
   "cell_type": "markdown",
   "metadata": {},
   "source": [
    "## Building and deploying the pipeline\n",
    "\n",
    "Before deploying to AI Platform Pipelines, the pipeline DSL has to be compiled into a pipeline runtime format, also refered to as a pipeline package.  The runtime format is based on [Argo Workflow](https://github.com/argoproj/argo), which is expressed in YAML. \n"
   ]
  },
  {
   "cell_type": "markdown",
   "metadata": {},
   "source": [
    "### Configure environment settings\n",
    "\n",
    "Update  the below constants  with the settings reflecting your lab environment. \n",
    "\n",
    "- `REGION` - the compute region for AI Platform Training and Prediction\n",
    "- `ARTIFACT_STORE` - the GCS bucket created during installation of AI Platform Pipelines. The bucket name will be similar to `qwiklabs-gcp-xx-xxxxxxx-kubeflowpipelines-default`.\n",
    "- `ENDPOINT` - set the `ENDPOINT` constant to the endpoint to your AI Platform Pipelines instance. Then endpoint to the AI Platform Pipelines instance can be found on the [AI Platform Pipelines](https://console.cloud.google.com/ai-platform/pipelines/clusters) page in the Google Cloud Console.\n",
    "\n",
    "1. Open the **SETTINGS** for your instance\n",
    "2. Use the value of the `host` variable in the **Connect to this Kubeflow Pipelines instance from a Python client via Kubeflow Pipelines SKD** section of the **SETTINGS** window.\n",
    "\n",
    "Run gsutil ls without URLs to list all of the Cloud Storage buckets under your default project ID."
   ]
  },
  {
   "cell_type": "code",
   "execution_count": null,
   "metadata": {},
   "outputs": [],
   "source": [
    "!gsutil ls"
   ]
  },
  {
   "cell_type": "markdown",
   "metadata": {},
   "source": [
    "**HINT:** \n",
    "\n",
    "For **ENDPOINT**, use the value of the `host` variable in the **Connect to this Kubeflow Pipelines instance from a Python client via Kubeflow Pipelines SDK** section of the **SETTINGS** window.\n",
    "\n",
    "For **ARTIFACT_STORE_URI**, copy the bucket name which starts with the qwiklabs-gcp-xx-xxxxxxx-kubeflowpipelines-default prefix from the previous cell output. Your copied value should look like **'gs://qwiklabs-gcp-xx-xxxxxxx-kubeflowpipelines-default'**"
   ]
  },
  {
   "cell_type": "code",
   "execution_count": 9,
   "metadata": {},
   "outputs": [],
   "source": [
    "REGION = 'us-central1'\n",
    "ENDPOINT = '627be4a1d4049ed3-dot-us-central1.pipelines.googleusercontent.com' # TO DO: REPLACE WITH YOUR ENDPOINT\n",
    "ARTIFACT_STORE_URI = 'gs://dna-gcp-data-kubeflowpipelines-default'  # TO DO: REPLACE WITH YOUR ARTIFACT_STORE NAME \n",
    "PROJECT_ID = !(gcloud config get-value core/project)\n",
    "PROJECT_ID = PROJECT_ID[0]"
   ]
  },
  {
   "cell_type": "markdown",
   "metadata": {},
   "source": [
    "### Build the trainer image"
   ]
  },
  {
   "cell_type": "code",
   "execution_count": 143,
   "metadata": {},
   "outputs": [],
   "source": [
    "IMAGE_NAME='trainer_image'\n",
    "TAG='test'\n",
    "TRAINER_IMAGE='gcr.io/{}/{}:{}'.format(PROJECT_ID, IMAGE_NAME, TAG)"
   ]
  },
  {
   "cell_type": "markdown",
   "metadata": {},
   "source": [
    "#### **Note**: Please ignore any **incompatibility ERROR** that may appear for the packages visions as it will not affect the lab's functionality."
   ]
  },
  {
   "cell_type": "code",
   "execution_count": null,
   "metadata": {},
   "outputs": [],
   "source": [
    "!gcloud builds submit --timeout 15m --tag $TRAINER_IMAGE trainer_image"
   ]
  },
  {
   "cell_type": "markdown",
   "metadata": {},
   "source": [
    "### Build the base image for custom components"
   ]
  },
  {
   "cell_type": "code",
   "execution_count": 196,
   "metadata": {},
   "outputs": [
    {
     "name": "stdout",
     "output_type": "stream",
     "text": [
      "/home/jupyter/demo/mlops-on-gcp/on_demand/kfp-caip-sklearn/lab-02-kfp-pipeline\n"
     ]
    }
   ],
   "source": [
    "IMAGE_NAME='base_image'\n",
    "TAG='test2'\n",
    "BASE_IMAGE='gcr.io/{}/{}:{}'.format(PROJECT_ID, IMAGE_NAME, TAG)\n",
    "!pwd"
   ]
  },
  {
   "cell_type": "code",
   "execution_count": 207,
   "metadata": {},
   "outputs": [
    {
     "name": "stdout",
     "output_type": "stream",
     "text": [
      "Creating temporary tarball archive of 2 file(s) totalling 290 bytes before compression.\n",
      "Uploading tarball of [base_image] to [gs://dna-gcp-data_cloudbuild/source/1621581960.433286-cef9441cb3234402ad8faeccf31ce5fe.tgz]\n",
      "Created [https://cloudbuild.googleapis.com/v1/projects/dna-gcp-data/locations/global/builds/d2e1016b-599c-4537-b03f-3a8e0039c2fc].\n",
      "Logs are available at [https://console.cloud.google.com/cloud-build/builds/d2e1016b-599c-4537-b03f-3a8e0039c2fc?project=1011566672334].\n",
      "----------------------------- REMOTE BUILD OUTPUT ------------------------------\n",
      "starting build \"d2e1016b-599c-4537-b03f-3a8e0039c2fc\"\n",
      "\n",
      "FETCHSOURCE\n",
      "Fetching storage object: gs://dna-gcp-data_cloudbuild/source/1621581960.433286-cef9441cb3234402ad8faeccf31ce5fe.tgz#1621581960754721\n",
      "Copying gs://dna-gcp-data_cloudbuild/source/1621581960.433286-cef9441cb3234402ad8faeccf31ce5fe.tgz#1621581960754721...\n",
      "/ [1 files][  299.0 B/  299.0 B]                                                \n",
      "Operation completed over 1 objects/299.0 B.                                      \n",
      "BUILD\n",
      "Already have image (with digest): gcr.io/cloud-builders/docker\n",
      "Sending build context to Docker daemon  3.584kB\n",
      "Step 1/3 : FROM gcr.io/deeplearning-platform-release/base-cpu\n",
      "latest: Pulling from deeplearning-platform-release/base-cpu\n",
      "01bf7da0a88c: Pulling fs layer\n",
      "f3b4a5f15c7a: Pulling fs layer\n",
      "57ffbe87baa1: Pulling fs layer\n",
      "424e7c9d5d89: Pulling fs layer\n",
      "9b397537aef0: Pulling fs layer\n",
      "2bd5028f4b85: Pulling fs layer\n",
      "4f4fb700ef54: Pulling fs layer\n",
      "b2ed56b85d3a: Pulling fs layer\n",
      "8bfb788e9874: Pulling fs layer\n",
      "0618fb353339: Pulling fs layer\n",
      "42045a665612: Pulling fs layer\n",
      "031d8d7b75f7: Pulling fs layer\n",
      "5780cc9addac: Pulling fs layer\n",
      "8fbe78107b3d: Pulling fs layer\n",
      "eee173fc570a: Pulling fs layer\n",
      "424e7c9d5d89: Waiting\n",
      "9b397537aef0: Waiting\n",
      "2bd5028f4b85: Waiting\n",
      "4f4fb700ef54: Waiting\n",
      "b2ed56b85d3a: Waiting\n",
      "8bfb788e9874: Waiting\n",
      "0618fb353339: Waiting\n",
      "42045a665612: Waiting\n",
      "031d8d7b75f7: Waiting\n",
      "5780cc9addac: Waiting\n",
      "8fbe78107b3d: Waiting\n",
      "eee173fc570a: Waiting\n",
      "9334ecc802d5: Pulling fs layer\n",
      "c631c38965fd: Pulling fs layer\n",
      "9334ecc802d5: Waiting\n",
      "c631c38965fd: Waiting\n",
      "1aada407354a: Pulling fs layer\n",
      "151efcb7d3c3: Pulling fs layer\n",
      "151efcb7d3c3: Waiting\n",
      "1aada407354a: Waiting\n",
      "57ffbe87baa1: Verifying Checksum\n",
      "57ffbe87baa1: Download complete\n",
      "f3b4a5f15c7a: Verifying Checksum\n",
      "f3b4a5f15c7a: Download complete\n",
      "424e7c9d5d89: Verifying Checksum\n",
      "424e7c9d5d89: Download complete\n",
      "01bf7da0a88c: Verifying Checksum\n",
      "01bf7da0a88c: Download complete\n",
      "4f4fb700ef54: Verifying Checksum\n",
      "4f4fb700ef54: Download complete\n",
      "b2ed56b85d3a: Verifying Checksum\n",
      "b2ed56b85d3a: Download complete\n",
      "2bd5028f4b85: Verifying Checksum\n",
      "2bd5028f4b85: Download complete\n",
      "0618fb353339: Download complete\n",
      "42045a665612: Verifying Checksum\n",
      "42045a665612: Download complete\n",
      "031d8d7b75f7: Verifying Checksum\n",
      "031d8d7b75f7: Download complete\n",
      "5780cc9addac: Download complete\n",
      "8fbe78107b3d: Verifying Checksum\n",
      "8fbe78107b3d: Download complete\n",
      "eee173fc570a: Verifying Checksum\n",
      "eee173fc570a: Download complete\n",
      "9334ecc802d5: Verifying Checksum\n",
      "9334ecc802d5: Download complete\n",
      "c631c38965fd: Verifying Checksum\n",
      "c631c38965fd: Download complete\n",
      "9b397537aef0: Verifying Checksum\n",
      "9b397537aef0: Download complete\n",
      "8bfb788e9874: Verifying Checksum\n",
      "8bfb788e9874: Download complete\n",
      "151efcb7d3c3: Verifying Checksum\n",
      "151efcb7d3c3: Download complete\n",
      "01bf7da0a88c: Pull complete\n",
      "f3b4a5f15c7a: Pull complete\n",
      "57ffbe87baa1: Pull complete\n",
      "424e7c9d5d89: Pull complete\n",
      "1aada407354a: Verifying Checksum\n",
      "1aada407354a: Download complete\n",
      "9b397537aef0: Pull complete\n",
      "2bd5028f4b85: Pull complete\n",
      "4f4fb700ef54: Pull complete\n",
      "b2ed56b85d3a: Pull complete\n",
      "8bfb788e9874: Pull complete\n",
      "0618fb353339: Pull complete\n",
      "42045a665612: Pull complete\n",
      "031d8d7b75f7: Pull complete\n",
      "5780cc9addac: Pull complete\n",
      "8fbe78107b3d: Pull complete\n",
      "eee173fc570a: Pull complete\n",
      "9334ecc802d5: Pull complete\n",
      "c631c38965fd: Pull complete\n",
      "1aada407354a: Pull complete\n",
      "151efcb7d3c3: Pull complete\n",
      "Digest: sha256:76ee9c0261dbcfb75e201ce21fd666f61127fe6b9ff74e6cf78b6ef09751de95\n",
      "Status: Downloaded newer image for gcr.io/deeplearning-platform-release/base-cpu:latest\n",
      " ---> c1e1d5999dc3\n",
      "Step 2/3 : RUN pip install -U fire scikit-learn==0.20.4 pandas==0.24.2 kfp==1.0.0\n",
      " ---> Running in c4bf640bbcee\n",
      "Collecting fire\n",
      "  Downloading fire-0.4.0.tar.gz (87 kB)\n",
      "Collecting scikit-learn==0.20.4\n",
      "  Downloading scikit_learn-0.20.4-cp37-cp37m-manylinux1_x86_64.whl (5.4 MB)\n",
      "Collecting pandas==0.24.2\n",
      "  Downloading pandas-0.24.2-cp37-cp37m-manylinux1_x86_64.whl (10.1 MB)\n",
      "Collecting kfp==1.0.0\n",
      "  Downloading kfp-1.0.0.tar.gz (116 kB)\n",
      "Requirement already satisfied: scipy>=0.13.3 in /opt/conda/lib/python3.7/site-packages (from scikit-learn==0.20.4) (1.6.3)\n",
      "Requirement already satisfied: numpy>=1.8.2 in /opt/conda/lib/python3.7/site-packages (from scikit-learn==0.20.4) (1.19.5)\n",
      "Requirement already satisfied: python-dateutil>=2.5.0 in /opt/conda/lib/python3.7/site-packages (from pandas==0.24.2) (2.8.1)\n",
      "Requirement already satisfied: pytz>=2011k in /opt/conda/lib/python3.7/site-packages (from pandas==0.24.2) (2021.1)\n",
      "Requirement already satisfied: PyYAML in /opt/conda/lib/python3.7/site-packages (from kfp==1.0.0) (5.4.1)\n",
      "Requirement already satisfied: google-cloud-storage>=1.13.0 in /opt/conda/lib/python3.7/site-packages (from kfp==1.0.0) (1.38.0)\n",
      "Collecting kubernetes<12.0.0,>=8.0.0\n",
      "  Downloading kubernetes-11.0.0-py3-none-any.whl (1.5 MB)\n",
      "Requirement already satisfied: google-auth>=1.6.1 in /opt/conda/lib/python3.7/site-packages (from kfp==1.0.0) (1.30.0)\n",
      "Collecting requests_toolbelt>=0.8.0\n",
      "  Downloading requests_toolbelt-0.9.1-py2.py3-none-any.whl (54 kB)\n",
      "Requirement already satisfied: cloudpickle in /opt/conda/lib/python3.7/site-packages (from kfp==1.0.0) (1.6.0)\n",
      "Collecting kfp-server-api<2.0.0,>=0.2.5\n",
      "  Downloading kfp-server-api-1.5.0.tar.gz (50 kB)\n",
      "Requirement already satisfied: jsonschema>=3.0.1 in /opt/conda/lib/python3.7/site-packages (from kfp==1.0.0) (3.2.0)\n",
      "Collecting tabulate\n",
      "  Downloading tabulate-0.8.9-py3-none-any.whl (25 kB)\n",
      "Requirement already satisfied: click in /opt/conda/lib/python3.7/site-packages (from kfp==1.0.0) (7.1.2)\n",
      "Collecting Deprecated\n",
      "  Downloading Deprecated-1.2.12-py2.py3-none-any.whl (9.5 kB)\n",
      "Collecting strip-hints\n",
      "  Downloading strip-hints-0.1.9.tar.gz (30 kB)\n",
      "Requirement already satisfied: setuptools>=40.3.0 in /opt/conda/lib/python3.7/site-packages (from google-auth>=1.6.1->kfp==1.0.0) (49.6.0.post20210108)\n",
      "Requirement already satisfied: cachetools<5.0,>=2.0.0 in /opt/conda/lib/python3.7/site-packages (from google-auth>=1.6.1->kfp==1.0.0) (4.2.2)\n",
      "Requirement already satisfied: rsa<5,>=3.1.4 in /opt/conda/lib/python3.7/site-packages (from google-auth>=1.6.1->kfp==1.0.0) (4.7.2)\n",
      "Requirement already satisfied: pyasn1-modules>=0.2.1 in /opt/conda/lib/python3.7/site-packages (from google-auth>=1.6.1->kfp==1.0.0) (0.2.7)\n",
      "Requirement already satisfied: six>=1.9.0 in /opt/conda/lib/python3.7/site-packages (from google-auth>=1.6.1->kfp==1.0.0) (1.16.0)\n",
      "Requirement already satisfied: requests<3.0.0dev,>=2.18.0 in /opt/conda/lib/python3.7/site-packages (from google-cloud-storage>=1.13.0->kfp==1.0.0) (2.25.1)\n",
      "Requirement already satisfied: google-resumable-media<2.0dev,>=1.2.0 in /opt/conda/lib/python3.7/site-packages (from google-cloud-storage>=1.13.0->kfp==1.0.0) (1.2.0)\n",
      "Requirement already satisfied: google-cloud-core<2.0dev,>=1.4.1 in /opt/conda/lib/python3.7/site-packages (from google-cloud-storage>=1.13.0->kfp==1.0.0) (1.6.0)\n",
      "Requirement already satisfied: google-api-core<2.0.0dev,>=1.21.0 in /opt/conda/lib/python3.7/site-packages (from google-cloud-core<2.0dev,>=1.4.1->google-cloud-storage>=1.13.0->kfp==1.0.0) (1.26.3)\n",
      "Requirement already satisfied: packaging>=14.3 in /opt/conda/lib/python3.7/site-packages (from google-api-core<2.0.0dev,>=1.21.0->google-cloud-core<2.0dev,>=1.4.1->google-cloud-storage>=1.13.0->kfp==1.0.0) (20.9)\n",
      "Requirement already satisfied: googleapis-common-protos<2.0dev,>=1.6.0 in /opt/conda/lib/python3.7/site-packages (from google-api-core<2.0.0dev,>=1.21.0->google-cloud-core<2.0dev,>=1.4.1->google-cloud-storage>=1.13.0->kfp==1.0.0) (1.53.0)\n",
      "Requirement already satisfied: protobuf>=3.12.0 in /opt/conda/lib/python3.7/site-packages (from google-api-core<2.0.0dev,>=1.21.0->google-cloud-core<2.0dev,>=1.4.1->google-cloud-storage>=1.13.0->kfp==1.0.0) (3.16.0)\n",
      "Requirement already satisfied: google-crc32c<2.0dev,>=1.0 in /opt/conda/lib/python3.7/site-packages (from google-resumable-media<2.0dev,>=1.2.0->google-cloud-storage>=1.13.0->kfp==1.0.0) (1.1.2)\n",
      "Requirement already satisfied: cffi>=1.0.0 in /opt/conda/lib/python3.7/site-packages (from google-crc32c<2.0dev,>=1.0->google-resumable-media<2.0dev,>=1.2.0->google-cloud-storage>=1.13.0->kfp==1.0.0) (1.14.5)\n",
      "Requirement already satisfied: pycparser in /opt/conda/lib/python3.7/site-packages (from cffi>=1.0.0->google-crc32c<2.0dev,>=1.0->google-resumable-media<2.0dev,>=1.2.0->google-cloud-storage>=1.13.0->kfp==1.0.0) (2.20)\n",
      "Requirement already satisfied: attrs>=17.4.0 in /opt/conda/lib/python3.7/site-packages (from jsonschema>=3.0.1->kfp==1.0.0) (21.2.0)\n",
      "Requirement already satisfied: importlib-metadata in /opt/conda/lib/python3.7/site-packages (from jsonschema>=3.0.1->kfp==1.0.0) (4.0.1)\n",
      "Requirement already satisfied: pyrsistent>=0.14.0 in /opt/conda/lib/python3.7/site-packages (from jsonschema>=3.0.1->kfp==1.0.0) (0.17.3)\n",
      "Requirement already satisfied: urllib3>=1.15 in /opt/conda/lib/python3.7/site-packages (from kfp-server-api<2.0.0,>=0.2.5->kfp==1.0.0) (1.26.4)\n",
      "Requirement already satisfied: certifi in /opt/conda/lib/python3.7/site-packages (from kfp-server-api<2.0.0,>=0.2.5->kfp==1.0.0) (2020.12.5)\n",
      "Requirement already satisfied: websocket-client!=0.40.0,!=0.41.*,!=0.42.*,>=0.32.0 in /opt/conda/lib/python3.7/site-packages (from kubernetes<12.0.0,>=8.0.0->kfp==1.0.0) (0.57.0)\n",
      "Requirement already satisfied: requests-oauthlib in /opt/conda/lib/python3.7/site-packages (from kubernetes<12.0.0,>=8.0.0->kfp==1.0.0) (1.3.0)\n",
      "Requirement already satisfied: pyparsing>=2.0.2 in /opt/conda/lib/python3.7/site-packages (from packaging>=14.3->google-api-core<2.0.0dev,>=1.21.0->google-cloud-core<2.0dev,>=1.4.1->google-cloud-storage>=1.13.0->kfp==1.0.0) (2.4.7)\n",
      "Requirement already satisfied: pyasn1<0.5.0,>=0.4.6 in /opt/conda/lib/python3.7/site-packages (from pyasn1-modules>=0.2.1->google-auth>=1.6.1->kfp==1.0.0) (0.4.8)\n",
      "Requirement already satisfied: idna<3,>=2.5 in /opt/conda/lib/python3.7/site-packages (from requests<3.0.0dev,>=2.18.0->google-cloud-storage>=1.13.0->kfp==1.0.0) (2.10)\n",
      "Requirement already satisfied: chardet<5,>=3.0.2 in /opt/conda/lib/python3.7/site-packages (from requests<3.0.0dev,>=2.18.0->google-cloud-storage>=1.13.0->kfp==1.0.0) (4.0.0)\n",
      "Collecting termcolor\n",
      "  Downloading termcolor-1.1.0.tar.gz (3.9 kB)\n",
      "Requirement already satisfied: wrapt<2,>=1.10 in /opt/conda/lib/python3.7/site-packages (from Deprecated->kfp==1.0.0) (1.12.1)\n",
      "Requirement already satisfied: zipp>=0.5 in /opt/conda/lib/python3.7/site-packages (from importlib-metadata->jsonschema>=3.0.1->kfp==1.0.0) (3.4.1)\n",
      "Requirement already satisfied: typing-extensions>=3.6.4 in /opt/conda/lib/python3.7/site-packages (from importlib-metadata->jsonschema>=3.0.1->kfp==1.0.0) (3.7.4.3)\n",
      "Requirement already satisfied: oauthlib>=3.0.0 in /opt/conda/lib/python3.7/site-packages (from requests-oauthlib->kubernetes<12.0.0,>=8.0.0->kfp==1.0.0) (3.0.1)\n",
      "Requirement already satisfied: wheel in /opt/conda/lib/python3.7/site-packages (from strip-hints->kfp==1.0.0) (0.36.2)\n",
      "Building wheels for collected packages: kfp, kfp-server-api, fire, strip-hints, termcolor\n",
      "  Building wheel for kfp (setup.py): started\n",
      "  Building wheel for kfp (setup.py): finished with status 'done'\n",
      "  Created wheel for kfp: filename=kfp-1.0.0-py3-none-any.whl size=159769 sha256=74a8b1d2b91b9957b95f2f878e91ba0a2b847ba6b479ba6090b199fee94f8de1\n",
      "  Stored in directory: /root/.cache/pip/wheels/81/39/f2/ee01d785a5bd135e42e7721fedb05857badf763fc465a4e822\n",
      "  Building wheel for kfp-server-api (setup.py): started\n",
      "  Building wheel for kfp-server-api (setup.py): finished with status 'done'\n",
      "  Created wheel for kfp-server-api: filename=kfp_server_api-1.5.0-py3-none-any.whl size=92524 sha256=b672a04ca3bcf1257f2981061c5a9b460c20f5e816ede414eb22892649d86973\n",
      "  Stored in directory: /root/.cache/pip/wheels/1e/ab/eb/1608f904a1a3f2a28696129c6dbd3cac00bea2cdad226ee60e\n",
      "  Building wheel for fire (setup.py): started\n",
      "  Building wheel for fire (setup.py): finished with status 'done'\n",
      "  Created wheel for fire: filename=fire-0.4.0-py2.py3-none-any.whl size=115928 sha256=040e97679ac4b63443c3b3127e2f2b0afb4d70d927adcc11efa1f94be0084ba3\n",
      "  Stored in directory: /root/.cache/pip/wheels/8a/67/fb/2e8a12fa16661b9d5af1f654bd199366799740a85c64981226\n",
      "  Building wheel for strip-hints (setup.py): started\n",
      "  Building wheel for strip-hints (setup.py): finished with status 'done'\n",
      "  Created wheel for strip-hints: filename=strip_hints-0.1.9-py2.py3-none-any.whl size=20993 sha256=9481cd3b4b52c0e9713db3553c23c1bda587a1075bcd59d71e99110b6f1b6533\n",
      "  Stored in directory: /root/.cache/pip/wheels/2d/b8/4e/a3ec111d2db63cec88121bd7c0ab1a123bce3b55dd19dda5c1\n",
      "  Building wheel for termcolor (setup.py): started\n",
      "  Building wheel for termcolor (setup.py): finished with status 'done'\n",
      "  Created wheel for termcolor: filename=termcolor-1.1.0-py3-none-any.whl size=4829 sha256=b67e2ecf8cbb39455760408250cf67d6ddf4f873c94b486c5e753b4e84f4c8db\n",
      "  Stored in directory: /root/.cache/pip/wheels/3f/e3/ec/8a8336ff196023622fbcb36de0c5a5c218cbb24111d1d4c7f2\n",
      "Successfully built kfp kfp-server-api fire strip-hints termcolor\n",
      "Installing collected packages: termcolor, tabulate, strip-hints, requests-toolbelt, kubernetes, kfp-server-api, Deprecated, scikit-learn, pandas, kfp, fire\n",
      "  Attempting uninstall: kubernetes\n",
      "    Found existing installation: kubernetes 12.0.1\n",
      "    Uninstalling kubernetes-12.0.1:\n",
      "      Successfully uninstalled kubernetes-12.0.1\n",
      "  Attempting uninstall: scikit-learn\n",
      "    Found existing installation: scikit-learn 0.24.2\n",
      "    Uninstalling scikit-learn-0.24.2:\n",
      "      Successfully uninstalled scikit-learn-0.24.2\n",
      "  Attempting uninstall: pandas\n",
      "    Found existing installation: pandas 1.2.4\n",
      "    Uninstalling pandas-1.2.4:\n",
      "      Successfully uninstalled pandas-1.2.4\n",
      "\u001b[91mERROR: pip's dependency resolver does not currently take into account all the packages that are installed. This behaviour is the source of the following dependency conflicts.\n",
      "visions 0.7.1 requires pandas>=0.25.3, but you have pandas 0.24.2 which is incompatible.\n",
      "phik 0.11.2 requires pandas>=0.25.1, but you have pandas 0.24.2 which is incompatible.\n",
      "pandas-profiling 3.0.0 requires pandas!=1.0.0,!=1.0.1,!=1.0.2,!=1.1.0,>=0.25.3, but you have pandas 0.24.2 which is incompatible.\n",
      "\u001b[0m\u001b[91mWARNING: Running pip as root will break packages and permissions. You should install packages reliably by using venv: https://pip.pypa.io/warnings/venv\n",
      "\u001b[0mSuccessfully installed Deprecated-1.2.12 fire-0.4.0 kfp-1.0.0 kfp-server-api-1.5.0 kubernetes-11.0.0 pandas-0.24.2 requests-toolbelt-0.9.1 scikit-learn-0.20.4 strip-hints-0.1.9 tabulate-0.8.9 termcolor-1.1.0\n",
      "Removing intermediate container c4bf640bbcee\n",
      " ---> 94e41aa9f2e0\n",
      "Step 3/3 : RUN pip list | grep kfp\n",
      " ---> Running in cf3f27276384\n",
      "kfp                            1.0.0\n",
      "kfp-server-api                 1.5.0\n",
      "Removing intermediate container cf3f27276384\n",
      " ---> e31322a505ba\n",
      "Successfully built e31322a505ba\n",
      "Successfully tagged gcr.io/dna-gcp-data/base_image:test2\n",
      "PUSH\n",
      "Pushing gcr.io/dna-gcp-data/base_image:test2\n",
      "The push refers to repository [gcr.io/dna-gcp-data/base_image]\n",
      "ce2e56091c30: Preparing\n",
      "fed09d378d72: Preparing\n",
      "896901ec1a67: Preparing\n",
      "06a5bf49b163: Preparing\n",
      "b34dae69fc5d: Preparing\n",
      "0ffb7465dde9: Preparing\n",
      "e2563d1ada9a: Preparing\n",
      "42b027d1e826: Preparing\n",
      "636a7c2e7d03: Preparing\n",
      "1ba1158adf89: Preparing\n",
      "96e46d1341e8: Preparing\n",
      "954f6dc3f7f5: Preparing\n",
      "8760a171b659: Preparing\n",
      "5f70bf18a086: Preparing\n",
      "a0710233fd2d: Preparing\n",
      "05449afa4be9: Preparing\n",
      "5b9e34b5cf74: Preparing\n",
      "8cafc6d2db45: Preparing\n",
      "a5d4bacb0351: Preparing\n",
      "5153e1acaabc: Preparing\n",
      "96e46d1341e8: Waiting\n",
      "954f6dc3f7f5: Waiting\n",
      "8760a171b659: Waiting\n",
      "5f70bf18a086: Waiting\n",
      "a0710233fd2d: Waiting\n",
      "05449afa4be9: Waiting\n",
      "5b9e34b5cf74: Waiting\n",
      "8cafc6d2db45: Waiting\n",
      "0ffb7465dde9: Waiting\n",
      "e2563d1ada9a: Waiting\n",
      "42b027d1e826: Waiting\n",
      "636a7c2e7d03: Waiting\n",
      "1ba1158adf89: Waiting\n",
      "5153e1acaabc: Waiting\n",
      "896901ec1a67: Layer already exists\n",
      "fed09d378d72: Layer already exists\n",
      "b34dae69fc5d: Layer already exists\n",
      "06a5bf49b163: Layer already exists\n",
      "0ffb7465dde9: Layer already exists\n",
      "e2563d1ada9a: Layer already exists\n",
      "42b027d1e826: Layer already exists\n",
      "636a7c2e7d03: Layer already exists\n",
      "1ba1158adf89: Layer already exists\n",
      "954f6dc3f7f5: Layer already exists\n",
      "8760a171b659: Layer already exists\n",
      "5f70bf18a086: Layer already exists\n",
      "96e46d1341e8: Layer already exists\n",
      "8cafc6d2db45: Layer already exists\n",
      "5b9e34b5cf74: Layer already exists\n",
      "05449afa4be9: Layer already exists\n",
      "a0710233fd2d: Layer already exists\n",
      "a5d4bacb0351: Layer already exists\n",
      "5153e1acaabc: Layer already exists\n",
      "ce2e56091c30: Pushed\n",
      "test2: digest: sha256:09e11684e6de0ac905077560c50a24b94b8b3d22afa167ccb7f2b92345068511 size: 4499\n",
      "DONE\n",
      "--------------------------------------------------------------------------------\n",
      "\n",
      "ID                                    CREATE_TIME                DURATION  SOURCE                                                                                      IMAGES                                STATUS\n",
      "d2e1016b-599c-4537-b03f-3a8e0039c2fc  2021-05-21T07:26:00+00:00  2M25S     gs://dna-gcp-data_cloudbuild/source/1621581960.433286-cef9441cb3234402ad8faeccf31ce5fe.tgz  gcr.io/dna-gcp-data/base_image:test2  SUCCESS\n"
     ]
    }
   ],
   "source": [
    "!gcloud builds submit --timeout 15m --tag $BASE_IMAGE base_image"
   ]
  },
  {
   "cell_type": "markdown",
   "metadata": {},
   "source": [
    "### Compile the pipeline\n",
    "\n",
    "You can compile the DSL using an API from the **KFP SDK** or using the **KFP** compiler.\n",
    "\n",
    "To compile the pipeline DSL using the **KFP** compiler."
   ]
  },
  {
   "cell_type": "markdown",
   "metadata": {},
   "source": [
    "#### Set the pipeline's compile time settings\n",
    "\n",
    "The pipeline can run using a security context of the GKE default node pool's service account or the service account defined in the `user-gcp-sa` secret of the Kubernetes namespace hosting KFP. If you want to use the `user-gcp-sa` service account you change the value of `USE_KFP_SA` to `True`.\n",
    "\n",
    "Note that the default AI Platform Pipelines configuration does not define the `user-gcp-sa` secret."
   ]
  },
  {
   "cell_type": "code",
   "execution_count": 198,
   "metadata": {},
   "outputs": [
    {
     "name": "stdout",
     "output_type": "stream",
     "text": [
      "env: USE_KFP_SA=False\n",
      "env: BASE_IMAGE=gcr.io/dna-gcp-data/base_image:test2\n",
      "env: TRAINER_IMAGE=gcr.io/dna-gcp-data/trainer_image:test\n",
      "env: COMPONENT_URL_SEARCH_PREFIX=https://raw.githubusercontent.com/kubeflow/pipelines/0.2.5/components/gcp/\n",
      "env: RUNTIME_VERSION=1.15\n",
      "env: PYTHON_VERSION=3.7\n",
      "env: ENDPOINT=https://627be4a1d4049ed3-dot-us-central1.pipelines.googleusercontent.com\n"
     ]
    }
   ],
   "source": [
    "USE_KFP_SA = False\n",
    "\n",
    "COMPONENT_URL_SEARCH_PREFIX = 'https://raw.githubusercontent.com/kubeflow/pipelines/0.2.5/components/gcp/'\n",
    "RUNTIME_VERSION = '1.15'\n",
    "PYTHON_VERSION = '3.7'\n",
    "ENDPOINT='https://627be4a1d4049ed3-dot-us-central1.pipelines.googleusercontent.com'\n",
    "\n",
    "%env USE_KFP_SA={USE_KFP_SA}\n",
    "%env BASE_IMAGE={BASE_IMAGE}\n",
    "%env TRAINER_IMAGE={TRAINER_IMAGE}\n",
    "%env COMPONENT_URL_SEARCH_PREFIX={COMPONENT_URL_SEARCH_PREFIX}\n",
    "%env RUNTIME_VERSION={RUNTIME_VERSION}\n",
    "%env PYTHON_VERSION={PYTHON_VERSION}\n",
    "%env ENDPOINT={ENDPOINT}"
   ]
  },
  {
   "cell_type": "markdown",
   "metadata": {},
   "source": [
    "#### Use the CLI compiler to compile the pipeline"
   ]
  },
  {
   "cell_type": "code",
   "execution_count": 241,
   "metadata": {},
   "outputs": [],
   "source": [
    "!dsl-compile --py pipeline/covertype_training_pipeline.py --output covertype_training_pipeline.yaml"
   ]
  },
  {
   "cell_type": "markdown",
   "metadata": {},
   "source": [
    "The result is the `covertype_training_pipeline.yaml` file. "
   ]
  },
  {
   "cell_type": "code",
   "execution_count": null,
   "metadata": {},
   "outputs": [],
   "source": [
    "!head covertype_training_pipeline.yaml"
   ]
  },
  {
   "cell_type": "markdown",
   "metadata": {},
   "source": [
    "### Deploy the pipeline package"
   ]
  },
  {
   "cell_type": "code",
   "execution_count": 242,
   "metadata": {},
   "outputs": [
    {
     "name": "stdout",
     "output_type": "stream",
     "text": [
      "Pipeline 7eda6268-681e-41eb-8f65-a9c853030888 has been submitted\n",
      "\n",
      "Pipeline Details\n",
      "------------------\n",
      "ID           7eda6268-681e-41eb-8f65-a9c853030888\n",
      "Name         covertype_continuous_training\n",
      "Description\n",
      "Uploaded at  2021-05-21T08:50:00+00:00\n",
      "+--------------------------+--------------------------------------------------+\n",
      "| Parameter Name           | Default Value                                    |\n",
      "+==========================+==================================================+\n",
      "| project_id               |                                                  |\n",
      "+--------------------------+--------------------------------------------------+\n",
      "| region                   |                                                  |\n",
      "+--------------------------+--------------------------------------------------+\n",
      "| source_table_name        |                                                  |\n",
      "+--------------------------+--------------------------------------------------+\n",
      "| gcs_root                 |                                                  |\n",
      "+--------------------------+--------------------------------------------------+\n",
      "| dataset_id               |                                                  |\n",
      "+--------------------------+--------------------------------------------------+\n",
      "| evaluation_metric_name   |                                                  |\n",
      "+--------------------------+--------------------------------------------------+\n",
      "| model_id                 |                                                  |\n",
      "+--------------------------+--------------------------------------------------+\n",
      "| version_id               |                                                  |\n",
      "+--------------------------+--------------------------------------------------+\n",
      "| replace_existing_version |                                                  |\n",
      "+--------------------------+--------------------------------------------------+\n",
      "| experiment_id            |                                                  |\n",
      "+--------------------------+--------------------------------------------------+\n",
      "| hypertune_settings       | {                                                |\n",
      "|                          |     \"hyperparameters\":  {                        |\n",
      "|                          |         \"goal\": \"MAXIMIZE\",                      |\n",
      "|                          |         \"maxTrials\": 6,                          |\n",
      "|                          |         \"maxParallelTrials\": 3,                  |\n",
      "|                          |         \"hyperparameterMetricTag\": \"accuracy\",   |\n",
      "|                          |         \"enableTrialEarlyStopping\": True,        |\n",
      "|                          |         \"params\": [                              |\n",
      "|                          |             {                                    |\n",
      "|                          |                 \"parameterName\": \"max_iter\",     |\n",
      "|                          |                 \"type\": \"DISCRETE\",              |\n",
      "|                          |                 \"discreteValues\": [500, 1000]    |\n",
      "|                          |             },                                   |\n",
      "|                          |             {                                    |\n",
      "|                          |                 \"parameterName\": \"alpha\",        |\n",
      "|                          |                 \"type\": \"DOUBLE\",                |\n",
      "|                          |                 \"minValue\": 0.0001,              |\n",
      "|                          |                 \"maxValue\": 0.001,               |\n",
      "|                          |                 \"scaleType\": \"UNIT_LINEAR_SCALE\" |\n",
      "|                          |             }                                    |\n",
      "|                          |         ]                                        |\n",
      "|                          |     }                                            |\n",
      "|                          | }                                                |\n",
      "+--------------------------+--------------------------------------------------+\n",
      "| dataset_location         | US                                               |\n",
      "+--------------------------+--------------------------------------------------+\n"
     ]
    }
   ],
   "source": [
    "PIPELINE_NAME='covertype_continuous_training'\n",
    "\n",
    "!kfp --endpoint $ENDPOINT pipeline upload \\\n",
    "-p $PIPELINE_NAME \\\n",
    "covertype_training_pipeline.yaml"
   ]
  },
  {
   "cell_type": "markdown",
   "metadata": {},
   "source": [
    "## Submitting pipeline runs\n",
    "\n",
    "You can trigger pipeline runs using an API from the KFP SDK or using KFP CLI. To submit the run using KFP CLI, execute the following commands. Notice how the pipeline's parameters are passed to the pipeline run.\n",
    "\n",
    "### List the pipelines in AI Platform Pipelines"
   ]
  },
  {
   "cell_type": "code",
   "execution_count": 127,
   "metadata": {},
   "outputs": [
    {
     "name": "stdout",
     "output_type": "stream",
     "text": [
      "+--------------------------------------+-------------------------------+---------------------------+\n",
      "| Experiment ID                        | Name                          | Created at                |\n",
      "+======================================+===============================+===========================+\n",
      "| 889c1532-fee9-4b06-bc2b-10b1cd332c9a | Covertype_Classifier_Training | 2021-05-19T12:54:04+00:00 |\n",
      "+--------------------------------------+-------------------------------+---------------------------+\n",
      "| 3794c159-24a7-41e0-89be-f23152971870 | helloworld-dev                | 2021-05-06T16:07:23+00:00 |\n",
      "+--------------------------------------+-------------------------------+---------------------------+\n",
      "| 821a36b0-8db9-4604-9e65-035b8f70c77d | my_pipeline                   | 2021-05-06T10:35:19+00:00 |\n",
      "+--------------------------------------+-------------------------------+---------------------------+\n",
      "| 6587995a-9b11-4a8e-a2fc-d0b80534dfe8 | Default                       | 2021-05-04T02:29:12+00:00 |\n",
      "+--------------------------------------+-------------------------------+---------------------------+\n"
     ]
    }
   ],
   "source": [
    "!kfp --endpoint $ENDPOINT experiment list"
   ]
  },
  {
   "cell_type": "markdown",
   "metadata": {},
   "source": [
    "### Submit a run\n",
    "\n",
    "Find the ID of the `covertype_continuous_training` pipeline you uploaded in the previous step and update the value of `PIPELINE_ID` .\n",
    "\n"
   ]
  },
  {
   "cell_type": "code",
   "execution_count": 243,
   "metadata": {},
   "outputs": [],
   "source": [
    "PIPELINE_ID='7eda6268-681e-41eb-8f65-a9c853030888' # TO DO: REPLACE WITH YOUR PIPELINE ID "
   ]
  },
  {
   "cell_type": "code",
   "execution_count": 244,
   "metadata": {},
   "outputs": [],
   "source": [
    "EXPERIMENT_NAME = 'Covertype_Classifier_Training'\n",
    "RUN_ID = 'Run_001'\n",
    "SOURCE_TABLE = 'covertype_dataset.covertype'\n",
    "DATASET_ID = 'covertype_dataset'\n",
    "EVALUATION_METRIC = 'accuracy'\n",
    "MODEL_ID = 'covertype_classifier'\n",
    "VERSION_ID = 'v01'\n",
    "REPLACE_EXISTING_VERSION = 'True'\n",
    "EXPERIMENT_ID = '889c1532-fee9-4b06-bc2b-10b1cd332c9a'\n",
    "GCS_STAGING_PATH = '{}/staging'.format(ARTIFACT_STORE_URI)"
   ]
  },
  {
   "cell_type": "markdown",
   "metadata": {},
   "source": [
    "Run the pipeline using the `kfp` command line by retrieving the variables from the environment to pass to the pipeline where:\n",
    "\n",
    "- EXPERIMENT_NAME is set to the experiment used to run the pipeline. You can choose any name you want. If the experiment does not exist it will be created by the command\n",
    "- RUN_ID is the name of the run. You can use an arbitrary name\n",
    "- PIPELINE_ID is the id of your pipeline. Use the value retrieved by the   `kfp pipeline list` command\n",
    "- GCS_STAGING_PATH is the URI to the Cloud Storage location used by the pipeline to store intermediate files. By default, it is set to the `staging` folder in your artifact store.\n",
    "- REGION is a compute region for AI Platform Training and Prediction. \n",
    "\n",
    "You should be already familiar with these and other parameters passed to the command. If not go back and review the pipeline code."
   ]
  },
  {
   "cell_type": "code",
   "execution_count": 253,
   "metadata": {},
   "outputs": [
    {
     "name": "stdout",
     "output_type": "stream",
     "text": [
      "Run b1b45663-292c-4d0d-ba93-66671abde854 is submitted\n",
      "+--------------------------------------+---------+----------+---------------------------+\n",
      "| run id                               | name    | status   | created at                |\n",
      "+======================================+=========+==========+===========================+\n",
      "| b1b45663-292c-4d0d-ba93-66671abde854 | Run_001 |          | 2021-05-21T09:13:53+00:00 |\n",
      "+--------------------------------------+---------+----------+---------------------------+\n"
     ]
    }
   ],
   "source": [
    "!kfp --endpoint $ENDPOINT run submit \\\n",
    "-e $EXPERIMENT_NAME \\\n",
    "-r $RUN_ID \\\n",
    "-p $PIPELINE_ID \\\n",
    "project_id=$PROJECT_ID \\\n",
    "gcs_root=$GCS_STAGING_PATH \\\n",
    "region=$REGION \\\n",
    "source_table_name=$SOURCE_TABLE \\\n",
    "dataset_id=$DATASET_ID \\\n",
    "evaluation_metric_name=$EVALUATION_METRIC \\\n",
    "model_id=$MODEL_ID \\\n",
    "version_id=$VERSION_ID \\\n",
    "replace_existing_version=$REPLACE_EXISTING_VERSION \\\n",
    "experiment_id=$EXPERIMENT_ID"
   ]
  },
  {
   "cell_type": "code",
   "execution_count": 252,
   "metadata": {},
   "outputs": [
    {
     "name": "stdout",
     "output_type": "stream",
     "text": [
      "runs_details['runs'] type <class 'list'>\n",
      "i['status'] type <class 'str'>\n",
      "accuracy=0.7225525168450257\n",
      "<class 'str'>\n",
      "('d16368c5-24bb-4292-9060-315755f79b0b', 0.7225525168450257)\n"
     ]
    }
   ],
   "source": [
    "#!kfp --endpoint $ENDPOINT experiment list\n",
    "from typing import NamedTuple\n",
    "def get_previous_run_metric( ENDPOINT: str, experiment_id: str ) -> NamedTuple('Outputs', [('run_id', str), ('accuracy', float)]):\n",
    "\n",
    "    import kfp as kfp\n",
    "    runs_details= kfp.Client(host=ENDPOINT).list_runs(experiment_id=experiment_id, sort_by='created_at desc').to_dict()\n",
    "#    print(runs_details)\n",
    "    latest_success_run_details=''\n",
    "    print(\"runs_details['runs'] type {}\".format(type(runs_details['runs'])))\n",
    "    for i in runs_details['runs']:\n",
    "        print(\"i['status'] type {}\".format(type(i['status'])))\n",
    "        if i['status'] == 'Succeeded':\n",
    "            run_id=i['id']\n",
    "            accuracy=i['metrics'][0]['number_value']\n",
    "            break;\n",
    "    print(\"accuracy={}\".format(accuracy))\n",
    "    print(type(run_id))\n",
    "    return (run_id, accuracy)\n",
    "\n",
    "a=get_previous_run_metric(ENDPOINT, experiment_id)\n",
    "print(a)\n"
   ]
  },
  {
   "cell_type": "code",
   "execution_count": 248,
   "metadata": {},
   "outputs": [
    {
     "name": "stdout",
     "output_type": "stream",
     "text": [
      "runs_details['runs'] type <class 'list'>\n",
      "i['status'] type <class 'str'>\n",
      "{'run': {'id': 'd16368c5-24bb-4292-9060-315755f79b0b', 'name': 'Run_001', 'storage_state': None, 'description': None, 'pipeline_spec': {'pipeline_id': None, 'pipeline_name': None, 'workflow_manifest': '{\"kind\":\"Workflow\",\"apiVersion\":\"argoproj.io/v1alpha1\",\"metadata\":{\"generateName\":\"covertype-classifier-training-\",\"creationTimestamp\":null,\"annotations\":{\"pipelines.kubeflow.org/pipeline_spec\":\"{\\\\\"description\\\\\": \\\\\"The pipeline training and deploying the Covertype classifierpipeline_yaml\\\\\", \\\\\"inputs\\\\\": [{\\\\\"name\\\\\": \\\\\"project_id\\\\\"}, {\\\\\"name\\\\\": \\\\\"region\\\\\"}, {\\\\\"name\\\\\": \\\\\"source_table_name\\\\\"}, {\\\\\"name\\\\\": \\\\\"gcs_root\\\\\"}, {\\\\\"name\\\\\": \\\\\"dataset_id\\\\\"}, {\\\\\"name\\\\\": \\\\\"evaluation_metric_name\\\\\"}, {\\\\\"name\\\\\": \\\\\"evaluation_metric_threshold\\\\\"}, {\\\\\"name\\\\\": \\\\\"model_id\\\\\"}, {\\\\\"name\\\\\": \\\\\"version_id\\\\\"}, {\\\\\"name\\\\\": \\\\\"replace_existing_version\\\\\"}, {\\\\\"default\\\\\": \\\\\"\\\\\\\\n{\\\\\\\\n    \\\\\\\\\\\\\"hyperparameters\\\\\\\\\\\\\":  {\\\\\\\\n        \\\\\\\\\\\\\"goal\\\\\\\\\\\\\": \\\\\\\\\\\\\"MAXIMIZE\\\\\\\\\\\\\",\\\\\\\\n        \\\\\\\\\\\\\"maxTrials\\\\\\\\\\\\\": 6,\\\\\\\\n        \\\\\\\\\\\\\"maxParallelTrials\\\\\\\\\\\\\": 3,\\\\\\\\n        \\\\\\\\\\\\\"hyperparameterMetricTag\\\\\\\\\\\\\": \\\\\\\\\\\\\"accuracy\\\\\\\\\\\\\",\\\\\\\\n        \\\\\\\\\\\\\"enableTrialEarlyStopping\\\\\\\\\\\\\": True,\\\\\\\\n        \\\\\\\\\\\\\"params\\\\\\\\\\\\\": [\\\\\\\\n            {\\\\\\\\n                \\\\\\\\\\\\\"parameterName\\\\\\\\\\\\\": \\\\\\\\\\\\\"max_iter\\\\\\\\\\\\\",\\\\\\\\n                \\\\\\\\\\\\\"type\\\\\\\\\\\\\": \\\\\\\\\\\\\"DISCRETE\\\\\\\\\\\\\",\\\\\\\\n                \\\\\\\\\\\\\"discreteValues\\\\\\\\\\\\\": [500, 1000]\\\\\\\\n            },\\\\\\\\n            {\\\\\\\\n                \\\\\\\\\\\\\"parameterName\\\\\\\\\\\\\": \\\\\\\\\\\\\"alpha\\\\\\\\\\\\\",\\\\\\\\n                \\\\\\\\\\\\\"type\\\\\\\\\\\\\": \\\\\\\\\\\\\"DOUBLE\\\\\\\\\\\\\",\\\\\\\\n                \\\\\\\\\\\\\"minValue\\\\\\\\\\\\\": 0.0001,\\\\\\\\n                \\\\\\\\\\\\\"maxValue\\\\\\\\\\\\\": 0.001,\\\\\\\\n                \\\\\\\\\\\\\"scaleType\\\\\\\\\\\\\": \\\\\\\\\\\\\"UNIT_LINEAR_SCALE\\\\\\\\\\\\\"\\\\\\\\n            }\\\\\\\\n        ]\\\\\\\\n    }\\\\\\\\n}\\\\\\\\n\\\\\", \\\\\"name\\\\\": \\\\\"hypertune_settings\\\\\", \\\\\"optional\\\\\": true}, {\\\\\"default\\\\\": \\\\\"US\\\\\", \\\\\"name\\\\\": \\\\\"dataset_location\\\\\", \\\\\"optional\\\\\": true}], \\\\\"name\\\\\": \\\\\"Covertype Classifier Training\\\\\"}\"}},\"spec\":{\"templates\":[{\"name\":\"bigquery-query\",\"arguments\":{},\"inputs\":{\"parameters\":[{\"name\":\"dataset_id\"},{\"name\":\"dataset_location\"},{\"name\":\"gcs_root\"},{\"name\":\"project_id\"},{\"name\":\"source_table_name\"}]},\"outputs\":{\"parameters\":[{\"name\":\"bigquery-query-output_gcs_path\",\"valueFrom\":{\"path\":\"/tmp/kfp/output/bigquery/query-output-path.txt\"}}],\"artifacts\":[{\"name\":\"mlpipeline-ui-metadata\",\"path\":\"/tmp/outputs/MLPipeline_UI_metadata/data\"},{\"name\":\"bigquery-query-output_gcs_path\",\"path\":\"/tmp/kfp/output/bigquery/query-output-path.txt\"}]},\"metadata\":{\"annotations\":{\"pipelines.kubeflow.org/component_spec\":\"{\\\\\"description\\\\\": \\\\\"A Kubeflow Pipeline component to submit a query to Google Cloud Bigquery \\\\\\\\nservice and dump outputs to a Google Cloud Storage blob. \\\\\\\\n\\\\\", \\\\\"inputs\\\\\": [{\\\\\"description\\\\\": \\\\\"The query used by Bigquery service to fetch the results.\\\\\", \\\\\"name\\\\\": \\\\\"query\\\\\", \\\\\"type\\\\\": \\\\\"String\\\\\"}, {\\\\\"description\\\\\": \\\\\"The project to execute the query job.\\\\\", \\\\\"name\\\\\": \\\\\"project_id\\\\\", \\\\\"type\\\\\": \\\\\"GCPProjectID\\\\\"}, {\\\\\"default\\\\\": \\\\\"\\\\\", \\\\\"description\\\\\": \\\\\"The ID of the persistent dataset to keep the results of the query.\\\\\", \\\\\"name\\\\\": \\\\\"dataset_id\\\\\", \\\\\"type\\\\\": \\\\\"String\\\\\"}, {\\\\\"default\\\\\": \\\\\"\\\\\", \\\\\"description\\\\\": \\\\\"The ID of the table to keep the results of the query. If absent, the operation will generate a random id for the table.\\\\\", \\\\\"name\\\\\": \\\\\"table_id\\\\\", \\\\\"type\\\\\": \\\\\"String\\\\\"}, {\\\\\"default\\\\\": \\\\\"\\\\\", \\\\\"description\\\\\": \\\\\"The path to the Cloud Storage bucket to store the query output.\\\\\", \\\\\"name\\\\\": \\\\\"output_gcs_path\\\\\", \\\\\"type\\\\\": \\\\\"GCSPath\\\\\"}, {\\\\\"default\\\\\": \\\\\"US\\\\\", \\\\\"description\\\\\": \\\\\"The location to create the dataset. Defaults to `US`.\\\\\", \\\\\"name\\\\\": \\\\\"dataset_location\\\\\", \\\\\"type\\\\\": \\\\\"String\\\\\"}, {\\\\\"default\\\\\": \\\\\"\\\\\", \\\\\"description\\\\\": \\\\\"The full config spec for the query job.See  [QueryJobConfig](https://googleapis.github.io/google-cloud-python/latest/bigquery/generated/google.cloud.bigquery.job.QueryJobConfig.html#google.cloud.bigquery.job.QueryJobConfig)  for details.\\\\\", \\\\\"name\\\\\": \\\\\"job_config\\\\\", \\\\\"type\\\\\": \\\\\"Dict\\\\\"}], \\\\\"metadata\\\\\": {\\\\\"labels\\\\\": {\\\\\"add-pod-env\\\\\": \\\\\"true\\\\\"}}, \\\\\"name\\\\\": \\\\\"Bigquery - Query\\\\\", \\\\\"outputs\\\\\": [{\\\\\"description\\\\\": \\\\\"The path to the Cloud Storage bucket containing the query output in CSV format.\\\\\", \\\\\"name\\\\\": \\\\\"output_gcs_path\\\\\", \\\\\"type\\\\\": \\\\\"GCSPath\\\\\"}, {\\\\\"name\\\\\": \\\\\"MLPipeline UI metadata\\\\\", \\\\\"type\\\\\": \\\\\"UI metadata\\\\\"}]}\"},\"labels\":{\"add-pod-env\":\"true\"}},\"container\":{\"name\":\"\",\"image\":\"gcr.io/ml-pipeline/ml-pipeline-gcp:e66dcb18607406330f953bf99b04fe7c3ed1a4a8\",\"args\":[\"--ui_metadata_path\",\"/tmp/outputs/MLPipeline_UI_metadata/data\",\"kfp_component.google.bigquery\",\"query\",\"--query\",\"\\\\n       SELECT *\\\\n       FROM \\\\n           `{{inputs.parameters.source_table_name}}` AS cover\\\\n       WHERE \\\\n       MOD(ABS(FARM_FINGERPRINT(TO_JSON_STRING(cover))), 10) IN (1, 2, 3, 4)\\\\n       \",\"--project_id\",\"{{inputs.parameters.project_id}}\",\"--dataset_id\",\"{{inputs.parameters.dataset_id}}\",\"--table_id\",\"\",\"--dataset_location\",\"{{inputs.parameters.dataset_location}}\",\"--output_gcs_path\",\"{{inputs.parameters.gcs_root}}/datasets/training/data.csv\",\"--job_config\",\"\"],\"env\":[{\"name\":\"KFP_POD_NAME\",\"value\":\"{{pod.name}}\"},{\"name\":\"KFP_POD_NAME\",\"valueFrom\":{\"fieldRef\":{\"fieldPath\":\"metadata.name\"}}},{\"name\":\"KFP_NAMESPACE\",\"valueFrom\":{\"fieldRef\":{\"fieldPath\":\"metadata.namespace\"}}}],\"resources\":{}}},{\"name\":\"bigquery-query-2\",\"arguments\":{},\"inputs\":{\"parameters\":[{\"name\":\"dataset_id\"},{\"name\":\"dataset_location\"},{\"name\":\"gcs_root\"},{\"name\":\"project_id\"},{\"name\":\"source_table_name\"}]},\"outputs\":{\"parameters\":[{\"name\":\"bigquery-query-2-output_gcs_path\",\"valueFrom\":{\"path\":\"/tmp/kfp/output/bigquery/query-output-path.txt\"}}],\"artifacts\":[{\"name\":\"mlpipeline-ui-metadata\",\"path\":\"/tmp/outputs/MLPipeline_UI_metadata/data\"},{\"name\":\"bigquery-query-2-output_gcs_path\",\"path\":\"/tmp/kfp/output/bigquery/query-output-path.txt\"}]},\"metadata\":{\"annotations\":{\"pipelines.kubeflow.org/component_spec\":\"{\\\\\"description\\\\\": \\\\\"A Kubeflow Pipeline component to submit a query to Google Cloud Bigquery \\\\\\\\nservice and dump outputs to a Google Cloud Storage blob. \\\\\\\\n\\\\\", \\\\\"inputs\\\\\": [{\\\\\"description\\\\\": \\\\\"The query used by Bigquery service to fetch the results.\\\\\", \\\\\"name\\\\\": \\\\\"query\\\\\", \\\\\"type\\\\\": \\\\\"String\\\\\"}, {\\\\\"description\\\\\": \\\\\"The project to execute the query job.\\\\\", \\\\\"name\\\\\": \\\\\"project_id\\\\\", \\\\\"type\\\\\": \\\\\"GCPProjectID\\\\\"}, {\\\\\"default\\\\\": \\\\\"\\\\\", \\\\\"description\\\\\": \\\\\"The ID of the persistent dataset to keep the results of the query.\\\\\", \\\\\"name\\\\\": \\\\\"dataset_id\\\\\", \\\\\"type\\\\\": \\\\\"String\\\\\"}, {\\\\\"default\\\\\": \\\\\"\\\\\", \\\\\"description\\\\\": \\\\\"The ID of the table to keep the results of the query. If absent, the operation will generate a random id for the table.\\\\\", \\\\\"name\\\\\": \\\\\"table_id\\\\\", \\\\\"type\\\\\": \\\\\"String\\\\\"}, {\\\\\"default\\\\\": \\\\\"\\\\\", \\\\\"description\\\\\": \\\\\"The path to the Cloud Storage bucket to store the query output.\\\\\", \\\\\"name\\\\\": \\\\\"output_gcs_path\\\\\", \\\\\"type\\\\\": \\\\\"GCSPath\\\\\"}, {\\\\\"default\\\\\": \\\\\"US\\\\\", \\\\\"description\\\\\": \\\\\"The location to create the dataset. Defaults to `US`.\\\\\", \\\\\"name\\\\\": \\\\\"dataset_location\\\\\", \\\\\"type\\\\\": \\\\\"String\\\\\"}, {\\\\\"default\\\\\": \\\\\"\\\\\", \\\\\"description\\\\\": \\\\\"The full config spec for the query job.See  [QueryJobConfig](https://googleapis.github.io/google-cloud-python/latest/bigquery/generated/google.cloud.bigquery.job.QueryJobConfig.html#google.cloud.bigquery.job.QueryJobConfig)  for details.\\\\\", \\\\\"name\\\\\": \\\\\"job_config\\\\\", \\\\\"type\\\\\": \\\\\"Dict\\\\\"}], \\\\\"metadata\\\\\": {\\\\\"labels\\\\\": {\\\\\"add-pod-env\\\\\": \\\\\"true\\\\\"}}, \\\\\"name\\\\\": \\\\\"Bigquery - Query\\\\\", \\\\\"outputs\\\\\": [{\\\\\"description\\\\\": \\\\\"The path to the Cloud Storage bucket containing the query output in CSV format.\\\\\", \\\\\"name\\\\\": \\\\\"output_gcs_path\\\\\", \\\\\"type\\\\\": \\\\\"GCSPath\\\\\"}, {\\\\\"name\\\\\": \\\\\"MLPipeline UI metadata\\\\\", \\\\\"type\\\\\": \\\\\"UI metadata\\\\\"}]}\"},\"labels\":{\"add-pod-env\":\"true\"}},\"container\":{\"name\":\"\",\"image\":\"gcr.io/ml-pipeline/ml-pipeline-gcp:e66dcb18607406330f953bf99b04fe7c3ed1a4a8\",\"args\":[\"--ui_metadata_path\",\"/tmp/outputs/MLPipeline_UI_metadata/data\",\"kfp_component.google.bigquery\",\"query\",\"--query\",\"\\\\n       SELECT *\\\\n       FROM \\\\n           `{{inputs.parameters.source_table_name}}` AS cover\\\\n       WHERE \\\\n       MOD(ABS(FARM_FINGERPRINT(TO_JSON_STRING(cover))), 10) IN (8)\\\\n       \",\"--project_id\",\"{{inputs.parameters.project_id}}\",\"--dataset_id\",\"{{inputs.parameters.dataset_id}}\",\"--table_id\",\"\",\"--dataset_location\",\"{{inputs.parameters.dataset_location}}\",\"--output_gcs_path\",\"{{inputs.parameters.gcs_root}}/datasets/validation/data.csv\",\"--job_config\",\"\"],\"env\":[{\"name\":\"KFP_POD_NAME\",\"value\":\"{{pod.name}}\"},{\"name\":\"KFP_POD_NAME\",\"valueFrom\":{\"fieldRef\":{\"fieldPath\":\"metadata.name\"}}},{\"name\":\"KFP_NAMESPACE\",\"valueFrom\":{\"fieldRef\":{\"fieldPath\":\"metadata.namespace\"}}}],\"resources\":{}}},{\"name\":\"bigquery-query-3\",\"arguments\":{},\"inputs\":{\"parameters\":[{\"name\":\"dataset_id\"},{\"name\":\"dataset_location\"},{\"name\":\"gcs_root\"},{\"name\":\"project_id\"},{\"name\":\"source_table_name\"}]},\"outputs\":{\"parameters\":[{\"name\":\"bigquery-query-3-output_gcs_path\",\"valueFrom\":{\"path\":\"/tmp/kfp/output/bigquery/query-output-path.txt\"}}],\"artifacts\":[{\"name\":\"mlpipeline-ui-metadata\",\"path\":\"/tmp/outputs/MLPipeline_UI_metadata/data\"},{\"name\":\"bigquery-query-3-output_gcs_path\",\"path\":\"/tmp/kfp/output/bigquery/query-output-path.txt\"}]},\"metadata\":{\"annotations\":{\"pipelines.kubeflow.org/component_spec\":\"{\\\\\"description\\\\\": \\\\\"A Kubeflow Pipeline component to submit a query to Google Cloud Bigquery \\\\\\\\nservice and dump outputs to a Google Cloud Storage blob. \\\\\\\\n\\\\\", \\\\\"inputs\\\\\": [{\\\\\"description\\\\\": \\\\\"The query used by Bigquery service to fetch the results.\\\\\", \\\\\"name\\\\\": \\\\\"query\\\\\", \\\\\"type\\\\\": \\\\\"String\\\\\"}, {\\\\\"description\\\\\": \\\\\"The project to execute the query job.\\\\\", \\\\\"name\\\\\": \\\\\"project_id\\\\\", \\\\\"type\\\\\": \\\\\"GCPProjectID\\\\\"}, {\\\\\"default\\\\\": \\\\\"\\\\\", \\\\\"description\\\\\": \\\\\"The ID of the persistent dataset to keep the results of the query.\\\\\", \\\\\"name\\\\\": \\\\\"dataset_id\\\\\", \\\\\"type\\\\\": \\\\\"String\\\\\"}, {\\\\\"default\\\\\": \\\\\"\\\\\", \\\\\"description\\\\\": \\\\\"The ID of the table to keep the results of the query. If absent, the operation will generate a random id for the table.\\\\\", \\\\\"name\\\\\": \\\\\"table_id\\\\\", \\\\\"type\\\\\": \\\\\"String\\\\\"}, {\\\\\"default\\\\\": \\\\\"\\\\\", \\\\\"description\\\\\": \\\\\"The path to the Cloud Storage bucket to store the query output.\\\\\", \\\\\"name\\\\\": \\\\\"output_gcs_path\\\\\", \\\\\"type\\\\\": \\\\\"GCSPath\\\\\"}, {\\\\\"default\\\\\": \\\\\"US\\\\\", \\\\\"description\\\\\": \\\\\"The location to create the dataset. Defaults to `US`.\\\\\", \\\\\"name\\\\\": \\\\\"dataset_location\\\\\", \\\\\"type\\\\\": \\\\\"String\\\\\"}, {\\\\\"default\\\\\": \\\\\"\\\\\", \\\\\"description\\\\\": \\\\\"The full config spec for the query job.See  [QueryJobConfig](https://googleapis.github.io/google-cloud-python/latest/bigquery/generated/google.cloud.bigquery.job.QueryJobConfig.html#google.cloud.bigquery.job.QueryJobConfig)  for details.\\\\\", \\\\\"name\\\\\": \\\\\"job_config\\\\\", \\\\\"type\\\\\": \\\\\"Dict\\\\\"}], \\\\\"metadata\\\\\": {\\\\\"labels\\\\\": {\\\\\"add-pod-env\\\\\": \\\\\"true\\\\\"}}, \\\\\"name\\\\\": \\\\\"Bigquery - Query\\\\\", \\\\\"outputs\\\\\": [{\\\\\"description\\\\\": \\\\\"The path to the Cloud Storage bucket containing the query output in CSV format.\\\\\", \\\\\"name\\\\\": \\\\\"output_gcs_path\\\\\", \\\\\"type\\\\\": \\\\\"GCSPath\\\\\"}, {\\\\\"name\\\\\": \\\\\"MLPipeline UI metadata\\\\\", \\\\\"type\\\\\": \\\\\"UI metadata\\\\\"}]}\"},\"labels\":{\"add-pod-env\":\"true\"}},\"container\":{\"name\":\"\",\"image\":\"gcr.io/ml-pipeline/ml-pipeline-gcp:e66dcb18607406330f953bf99b04fe7c3ed1a4a8\",\"args\":[\"--ui_metadata_path\",\"/tmp/outputs/MLPipeline_UI_metadata/data\",\"kfp_component.google.bigquery\",\"query\",\"--query\",\"\\\\n       SELECT *\\\\n       FROM \\\\n           `{{inputs.parameters.source_table_name}}` AS cover\\\\n       WHERE \\\\n       MOD(ABS(FARM_FINGERPRINT(TO_JSON_STRING(cover))), 10) IN (9)\\\\n       \",\"--project_id\",\"{{inputs.parameters.project_id}}\",\"--dataset_id\",\"{{inputs.parameters.dataset_id}}\",\"--table_id\",\"\",\"--dataset_location\",\"{{inputs.parameters.dataset_location}}\",\"--output_gcs_path\",\"{{inputs.parameters.gcs_root}}/datasets/testing/data.csv\",\"--job_config\",\"\"],\"env\":[{\"name\":\"KFP_POD_NAME\",\"value\":\"{{pod.name}}\"},{\"name\":\"KFP_POD_NAME\",\"valueFrom\":{\"fieldRef\":{\"fieldPath\":\"metadata.name\"}}},{\"name\":\"KFP_NAMESPACE\",\"valueFrom\":{\"fieldRef\":{\"fieldPath\":\"metadata.namespace\"}}}],\"resources\":{}}},{\"name\":\"condition-1\",\"arguments\":{},\"inputs\":{\"parameters\":[{\"name\":\"model_id\"},{\"name\":\"project_id\"},{\"name\":\"replace_existing_version\"},{\"name\":\"submitting-a-cloud-ml-training-job-as-a-pipeline-step-2-job_dir\"},{\"name\":\"version_id\"}]},\"outputs\":{},\"metadata\":{},\"dag\":{\"tasks\":[{\"name\":\"deploying-a-trained-model-to-cloud-machine-learning-engine\",\"template\":\"deploying-a-trained-model-to-cloud-machine-learning-engine\",\"arguments\":{\"parameters\":[{\"name\":\"model_id\",\"value\":\"{{inputs.parameters.model_id}}\"},{\"name\":\"project_id\",\"value\":\"{{inputs.parameters.project_id}}\"},{\"name\":\"replace_existing_version\",\"value\":\"{{inputs.parameters.replace_existing_version}}\"},{\"name\":\"submitting-a-cloud-ml-training-job-as-a-pipeline-step-2-job_dir\",\"value\":\"{{inputs.parameters.submitting-a-cloud-ml-training-job-as-a-pipeline-step-2-job_dir}}\"},{\"name\":\"version_id\",\"value\":\"{{inputs.parameters.version_id}}\"}]}}]}},{\"name\":\"covertype-classifier-training\",\"arguments\":{},\"inputs\":{\"parameters\":[{\"name\":\"dataset_id\"},{\"name\":\"dataset_location\"},{\"name\":\"evaluation_metric_name\"},{\"name\":\"evaluation_metric_threshold\"},{\"name\":\"gcs_root\"},{\"name\":\"hypertune_settings\"},{\"name\":\"model_id\"},{\"name\":\"project_id\"},{\"name\":\"region\"},{\"name\":\"replace_existing_version\"},{\"name\":\"source_table_name\"},{\"name\":\"version_id\"}]},\"outputs\":{},\"metadata\":{},\"dag\":{\"tasks\":[{\"name\":\"bigquery-query\",\"template\":\"bigquery-query\",\"arguments\":{\"parameters\":[{\"name\":\"dataset_id\",\"value\":\"{{inputs.parameters.dataset_id}}\"},{\"name\":\"dataset_location\",\"value\":\"{{inputs.parameters.dataset_location}}\"},{\"name\":\"gcs_root\",\"value\":\"{{inputs.parameters.gcs_root}}\"},{\"name\":\"project_id\",\"value\":\"{{inputs.parameters.project_id}}\"},{\"name\":\"source_table_name\",\"value\":\"{{inputs.parameters.source_table_name}}\"}]}},{\"name\":\"bigquery-query-2\",\"template\":\"bigquery-query-2\",\"arguments\":{\"parameters\":[{\"name\":\"dataset_id\",\"value\":\"{{inputs.parameters.dataset_id}}\"},{\"name\":\"dataset_location\",\"value\":\"{{inputs.parameters.dataset_location}}\"},{\"name\":\"gcs_root\",\"value\":\"{{inputs.parameters.gcs_root}}\"},{\"name\":\"project_id\",\"value\":\"{{inputs.parameters.project_id}}\"},{\"name\":\"source_table_name\",\"value\":\"{{inputs.parameters.source_table_name}}\"}]}},{\"name\":\"bigquery-query-3\",\"template\":\"bigquery-query-3\",\"arguments\":{\"parameters\":[{\"name\":\"dataset_id\",\"value\":\"{{inputs.parameters.dataset_id}}\"},{\"name\":\"dataset_location\",\"value\":\"{{inputs.parameters.dataset_location}}\"},{\"name\":\"gcs_root\",\"value\":\"{{inputs.parameters.gcs_root}}\"},{\"name\":\"project_id\",\"value\":\"{{inputs.parameters.project_id}}\"},{\"name\":\"source_table_name\",\"value\":\"{{inputs.parameters.source_table_name}}\"}]}},{\"name\":\"condition-1\",\"template\":\"condition-1\",\"arguments\":{\"parameters\":[{\"name\":\"model_id\",\"value\":\"{{inputs.parameters.model_id}}\"},{\"name\":\"project_id\",\"value\":\"{{inputs.parameters.project_id}}\"},{\"name\":\"replace_existing_version\",\"value\":\"{{inputs.parameters.replace_existing_version}}\"},{\"name\":\"submitting-a-cloud-ml-training-job-as-a-pipeline-step-2-job_dir\",\"value\":\"{{tasks.submitting-a-cloud-ml-training-job-as-a-pipeline-step-2.outputs.parameters.submitting-a-cloud-ml-training-job-as-a-pipeline-step-2-job_dir}}\"},{\"name\":\"version_id\",\"value\":\"{{inputs.parameters.version_id}}\"}]},\"dependencies\":[\"evaluate-model\",\"submitting-a-cloud-ml-training-job-as-a-pipeline-step-2\"],\"when\":\"{{tasks.evaluate-model.outputs.parameters.evaluate-model-metric_value}} \\\\u003e {{inputs.parameters.evaluation_metric_threshold}}\"},{\"name\":\"evaluate-model\",\"template\":\"evaluate-model\",\"arguments\":{\"parameters\":[{\"name\":\"bigquery-query-3-output_gcs_path\",\"value\":\"{{tasks.bigquery-query-3.outputs.parameters.bigquery-query-3-output_gcs_path}}\"},{\"name\":\"evaluation_metric_name\",\"value\":\"{{inputs.parameters.evaluation_metric_name}}\"},{\"name\":\"submitting-a-cloud-ml-training-job-as-a-pipeline-step-2-job_dir\",\"value\":\"{{tasks.submitting-a-cloud-ml-training-job-as-a-pipeline-step-2.outputs.parameters.submitting-a-cloud-ml-training-job-as-a-pipeline-step-2-job_dir}}\"}]},\"dependencies\":[\"bigquery-query-3\",\"submitting-a-cloud-ml-training-job-as-a-pipeline-step-2\"]},{\"name\":\"retrieve-best-run\",\"template\":\"retrieve-best-run\",\"arguments\":{\"parameters\":[{\"name\":\"project_id\",\"value\":\"{{inputs.parameters.project_id}}\"},{\"name\":\"submitting-a-cloud-ml-training-job-as-a-pipeline-step-job_id\",\"value\":\"{{tasks.submitting-a-cloud-ml-training-job-as-a-pipeline-step.outputs.parameters.submitting-a-cloud-ml-training-job-as-a-pipeline-step-job_id}}\"}]},\"dependencies\":[\"submitting-a-cloud-ml-training-job-as-a-pipeline-step\"]},{\"name\":\"submitting-a-cloud-ml-training-job-as-a-pipeline-step\",\"template\":\"submitting-a-cloud-ml-training-job-as-a-pipeline-step\",\"arguments\":{\"parameters\":[{\"name\":\"bigquery-query-2-output_gcs_path\",\"value\":\"{{tasks.bigquery-query-2.outputs.parameters.bigquery-query-2-output_gcs_path}}\"},{\"name\":\"bigquery-query-output_gcs_path\",\"value\":\"{{tasks.bigquery-query.outputs.parameters.bigquery-query-output_gcs_path}}\"},{\"name\":\"gcs_root\",\"value\":\"{{inputs.parameters.gcs_root}}\"},{\"name\":\"hypertune_settings\",\"value\":\"{{inputs.parameters.hypertune_settings}}\"},{\"name\":\"project_id\",\"value\":\"{{inputs.parameters.project_id}}\"},{\"name\":\"region\",\"value\":\"{{inputs.parameters.region}}\"}]},\"dependencies\":[\"bigquery-query\",\"bigquery-query-2\"]},{\"name\":\"submitting-a-cloud-ml-training-job-as-a-pipeline-step-2\",\"template\":\"submitting-a-cloud-ml-training-job-as-a-pipeline-step-2\",\"arguments\":{\"parameters\":[{\"name\":\"bigquery-query-2-output_gcs_path\",\"value\":\"{{tasks.bigquery-query-2.outputs.parameters.bigquery-query-2-output_gcs_path}}\"},{\"name\":\"bigquery-query-output_gcs_path\",\"value\":\"{{tasks.bigquery-query.outputs.parameters.bigquery-query-output_gcs_path}}\"},{\"name\":\"gcs_root\",\"value\":\"{{inputs.parameters.gcs_root}}\"},{\"name\":\"project_id\",\"value\":\"{{inputs.parameters.project_id}}\"},{\"name\":\"region\",\"value\":\"{{inputs.parameters.region}}\"},{\"name\":\"retrieve-best-run-alpha\",\"value\":\"{{tasks.retrieve-best-run.outputs.parameters.retrieve-best-run-alpha}}\"},{\"name\":\"retrieve-best-run-max_iter\",\"value\":\"{{tasks.retrieve-best-run.outputs.parameters.retrieve-best-run-max_iter}}\"}]},\"dependencies\":[\"bigquery-query\",\"bigquery-query-2\",\"retrieve-best-run\"]}]}},{\"name\":\"deploying-a-trained-model-to-cloud-machine-learning-engine\",\"arguments\":{},\"inputs\":{\"parameters\":[{\"name\":\"model_id\"},{\"name\":\"project_id\"},{\"name\":\"replace_existing_version\"},{\"name\":\"submitting-a-cloud-ml-training-job-as-a-pipeline-step-2-job_dir\"},{\"name\":\"version_id\"}]},\"outputs\":{\"artifacts\":[{\"name\":\"mlpipeline-ui-metadata\",\"path\":\"/tmp/outputs/MLPipeline_UI_metadata/data\"},{\"name\":\"deploying-a-trained-model-to-cloud-machine-learning-engine-model_name\",\"path\":\"/tmp/kfp/output/ml_engine/model_name.txt\"},{\"name\":\"deploying-a-trained-model-to-cloud-machine-learning-engine-model_uri\",\"path\":\"/tmp/kfp/output/ml_engine/model_uri.txt\"},{\"name\":\"deploying-a-trained-model-to-cloud-machine-learning-engine-version_name\",\"path\":\"/tmp/kfp/output/ml_engine/version_name.txt\"}]},\"metadata\":{\"annotations\":{\"pipelines.kubeflow.org/component_spec\":\"{\\\\\"description\\\\\": \\\\\"A Kubeflow Pipeline component to deploy a trained model from a Cloud Storage\\\\\\\\npath to a Cloud Machine Learning Engine service.\\\\\\\\n\\\\\", \\\\\"inputs\\\\\": [{\\\\\"description\\\\\": \\\\\"Required. The Cloud Storage URI which contains a model file. Commonly  used TF model search paths (export/exporter) will be used if they exist.\\\\\", \\\\\"name\\\\\": \\\\\"model_uri\\\\\", \\\\\"type\\\\\": \\\\\"GCSPath\\\\\"}, {\\\\\"description\\\\\": \\\\\"Required.The ID of the parent project of the serving model.\\\\\", \\\\\"name\\\\\": \\\\\"project_id\\\\\", \\\\\"type\\\\\": \\\\\"GCPProjectID\\\\\"}, {\\\\\"default\\\\\": \\\\\"\\\\\", \\\\\"description\\\\\": \\\\\"Optional. The user-specified name of the model. If it is not provided,  the operation uses a random name.\\\\\", \\\\\"name\\\\\": \\\\\"model_id\\\\\", \\\\\"type\\\\\": \\\\\"String\\\\\"}, {\\\\\"default\\\\\": \\\\\"\\\\\", \\\\\"description\\\\\": \\\\\"Optional. The user-specified name of the version. If it is not provided,  the operation uses a random name.\\\\\", \\\\\"name\\\\\": \\\\\"version_id\\\\\", \\\\\"type\\\\\": \\\\\"String\\\\\"}, {\\\\\"default\\\\\": \\\\\"\\\\\", \\\\\"description\\\\\": \\\\\"Optional. The [Cloud ML Engine runtime version](https://cloud.google.com/ml-engine/docs/tensorflow/runtime-version-list) to use for  this deployment. If it is not set, the Cloud ML Engine uses the default  stable version, 1.0.\\\\\", \\\\\"name\\\\\": \\\\\"runtime_version\\\\\", \\\\\"type\\\\\": \\\\\"String\\\\\"}, {\\\\\"default\\\\\": \\\\\"\\\\\", \\\\\"description\\\\\": \\\\\"Optional. The version of Python used in the prediction. If it is not set,  the default version is `2.7`. Python `3.5` is available when the  runtime_version is set to `1.4` and above. Python `2.7` works with all  supported runtime versions.\\\\\", \\\\\"name\\\\\": \\\\\"python_version\\\\\", \\\\\"type\\\\\": \\\\\"String\\\\\"}, {\\\\\"default\\\\\": \\\\\"\\\\\", \\\\\"description\\\\\": \\\\\"Optional. The JSON payload of the new  [Model](https://cloud.google.com/ml-engine/reference/rest/v1/projects.models), if it does not exist.\\\\\", \\\\\"name\\\\\": \\\\\"model\\\\\", \\\\\"type\\\\\": \\\\\"Dict\\\\\"}, {\\\\\"default\\\\\": \\\\\"\\\\\", \\\\\"description\\\\\": \\\\\"Optional. The JSON payload of the new  [Version](https://cloud.google.com/ml-engine/reference/rest/v1/projects.models.versions).\\\\\", \\\\\"name\\\\\": \\\\\"version\\\\\", \\\\\"type\\\\\": \\\\\"Dict\\\\\"}, {\\\\\"default\\\\\": \\\\\"Fasle\\\\\", \\\\\"description\\\\\": \\\\\"A Boolean flag that indicates whether to replace existing version in case of conflict.\\\\\", \\\\\"name\\\\\": \\\\\"replace_existing_version\\\\\", \\\\\"type\\\\\": \\\\\"Bool\\\\\"}, {\\\\\"default\\\\\": \\\\\"False\\\\\", \\\\\"description\\\\\": \\\\\"A Boolean flag that indicates whether to set the new version as default version in the model.\\\\\", \\\\\"name\\\\\": \\\\\"set_default\\\\\", \\\\\"type\\\\\": \\\\\"Bool\\\\\"}, {\\\\\"default\\\\\": \\\\\"30\\\\\", \\\\\"description\\\\\": \\\\\"A time-interval to wait for in case the operation has a long run time.\\\\\", \\\\\"name\\\\\": \\\\\"wait_interval\\\\\", \\\\\"type\\\\\": \\\\\"Integer\\\\\"}], \\\\\"metadata\\\\\": {\\\\\"labels\\\\\": {\\\\\"add-pod-env\\\\\": \\\\\"true\\\\\"}}, \\\\\"name\\\\\": \\\\\"Deploying a trained model to Cloud Machine Learning Engine\\\\\", \\\\\"outputs\\\\\": [{\\\\\"description\\\\\": \\\\\"The Cloud Storage URI of the trained model.\\\\\", \\\\\"name\\\\\": \\\\\"model_uri\\\\\", \\\\\"type\\\\\": \\\\\"GCSPath\\\\\"}, {\\\\\"description\\\\\": \\\\\"The name of the deployed model.\\\\\", \\\\\"name\\\\\": \\\\\"model_name\\\\\", \\\\\"type\\\\\": \\\\\"String\\\\\"}, {\\\\\"description\\\\\": \\\\\"The name of the deployed version.\\\\\", \\\\\"name\\\\\": \\\\\"version_name\\\\\", \\\\\"type\\\\\": \\\\\"String\\\\\"}, {\\\\\"name\\\\\": \\\\\"MLPipeline UI metadata\\\\\", \\\\\"type\\\\\": \\\\\"UI metadata\\\\\"}]}\"},\"labels\":{\"add-pod-env\":\"true\"}},\"container\":{\"name\":\"\",\"image\":\"gcr.io/ml-pipeline/ml-pipeline-gcp:e66dcb18607406330f953bf99b04fe7c3ed1a4a8\",\"args\":[\"--ui_metadata_path\",\"/tmp/outputs/MLPipeline_UI_metadata/data\",\"kfp_component.google.ml_engine\",\"deploy\",\"--model_uri\",\"{{inputs.parameters.submitting-a-cloud-ml-training-job-as-a-pipeline-step-2-job_dir}}\",\"--project_id\",\"{{inputs.parameters.project_id}}\",\"--model_id\",\"{{inputs.parameters.model_id}}\",\"--version_id\",\"{{inputs.parameters.version_id}}\",\"--runtime_version\",\"1.15\",\"--python_version\",\"3.7\",\"--model\",\"\",\"--version\",\"\",\"--replace_existing_version\",\"{{inputs.parameters.replace_existing_version}}\",\"--set_default\",\"False\",\"--wait_interval\",\"30\"],\"env\":[{\"name\":\"KFP_POD_NAME\",\"value\":\"{{pod.name}}\"},{\"name\":\"KFP_POD_NAME\",\"valueFrom\":{\"fieldRef\":{\"fieldPath\":\"metadata.name\"}}},{\"name\":\"KFP_NAMESPACE\",\"valueFrom\":{\"fieldRef\":{\"fieldPath\":\"metadata.namespace\"}}}],\"resources\":{}}},{\"name\":\"evaluate-model\",\"arguments\":{},\"inputs\":{\"parameters\":[{\"name\":\"bigquery-query-3-output_gcs_path\"},{\"name\":\"evaluation_metric_name\"},{\"name\":\"submitting-a-cloud-ml-training-job-as-a-pipeline-step-2-job_dir\"}]},\"outputs\":{\"parameters\":[{\"name\":\"evaluate-model-metric_value\",\"valueFrom\":{\"path\":\"/tmp/outputs/metric_value/data\"}}],\"artifacts\":[{\"name\":\"mlpipeline-metrics\",\"path\":\"/tmp/outputs/mlpipeline_metrics/data\"},{\"name\":\"evaluate-model-metric_name\",\"path\":\"/tmp/outputs/metric_name/data\"},{\"name\":\"evaluate-model-metric_value\",\"path\":\"/tmp/outputs/metric_value/data\"}]},\"metadata\":{\"annotations\":{\"pipelines.kubeflow.org/component_spec\":\"{\\\\\"description\\\\\": \\\\\"Evaluates a trained sklearn model.\\\\\", \\\\\"inputs\\\\\": [{\\\\\"name\\\\\": \\\\\"dataset_path\\\\\", \\\\\"type\\\\\": \\\\\"String\\\\\"}, {\\\\\"name\\\\\": \\\\\"model_path\\\\\", \\\\\"type\\\\\": \\\\\"String\\\\\"}, {\\\\\"name\\\\\": \\\\\"metric_name\\\\\", \\\\\"type\\\\\": \\\\\"String\\\\\"}], \\\\\"name\\\\\": \\\\\"Evaluate model\\\\\", \\\\\"outputs\\\\\": [{\\\\\"name\\\\\": \\\\\"metric_name\\\\\", \\\\\"type\\\\\": \\\\\"String\\\\\"}, {\\\\\"name\\\\\": \\\\\"metric_value\\\\\", \\\\\"type\\\\\": \\\\\"Float\\\\\"}, {\\\\\"name\\\\\": \\\\\"mlpipeline_metrics\\\\\", \\\\\"type\\\\\": \\\\\"Metrics\\\\\"}]}\"}},\"container\":{\"name\":\"\",\"image\":\"gcr.io/dna-gcp-data/base_image:test\",\"command\":[\"python3\",\"-u\",\"-c\",\"def evaluate_model(\\\\n    dataset_path , model_path , metric_name \\\\n):      \\\\n                             \\\\n  \\\\\"\\\\\"\\\\\"Evaluates a trained sklearn model.\\\\\"\\\\\"\\\\\"\\\\n  #import joblib\\\\n  import pickle\\\\n  import json\\\\n  import pandas as pd\\\\n  import subprocess\\\\n  import sys\\\\n\\\\n  from sklearn.metrics import accuracy_score, recall_score\\\\n\\\\n  df_test = pd.read_csv(dataset_path)\\\\n\\\\n  X_test = df_test.drop(\\'Cover_Type\\', axis=1)\\\\n  y_test = df_test[\\'Cover_Type\\']\\\\n\\\\n  # Copy the model from GCS\\\\n  model_filename = \\'model.pkl\\'\\\\n  gcs_model_filepath = \\'{}/{}\\'.format(model_path, model_filename)\\\\n  print(gcs_model_filepath)\\\\n  subprocess.check_call([\\'gsutil\\', \\'cp\\', gcs_model_filepath, model_filename],\\\\n                        stderr=sys.stdout)\\\\n\\\\n  with open(model_filename, \\'rb\\') as model_file:\\\\n    model = pickle.load(model_file)\\\\n\\\\n  y_hat = model.predict(X_test)\\\\n\\\\n  if metric_name == \\'accuracy\\':\\\\n    metric_value = accuracy_score(y_test, y_hat)\\\\n  elif metric_name == \\'recall\\':\\\\n    metric_value = recall_score(y_test, y_hat)\\\\n  else:\\\\n    metric_name = \\'N/A\\'\\\\n    metric_value = 0\\\\n\\\\n  # Export the metric\\\\n  metrics = {\\\\n      \\'metrics\\': [{\\\\n          \\'name\\': metric_name,\\\\n          \\'numberValue\\': float(metric_value)\\\\n      }]\\\\n  }\\\\n\\\\n  return (metric_name, metric_value, json.dumps(metrics))\\\\n\\\\ndef _serialize_float(float_value: float) -\\\\u003e str:\\\\n    if isinstance(float_value, str):\\\\n        return float_value\\\\n    if not isinstance(float_value, (float, int)):\\\\n        raise TypeError(\\'Value \\\\\"{}\\\\\" has type \\\\\"{}\\\\\" instead of float.\\'.format(str(float_value), str(type(float_value))))\\\\n    return str(float_value)\\\\n\\\\ndef _serialize_str(str_value: str) -\\\\u003e str:\\\\n    if not isinstance(str_value, str):\\\\n        raise TypeError(\\'Value \\\\\"{}\\\\\" has type \\\\\"{}\\\\\" instead of str.\\'.format(str(str_value), str(type(str_value))))\\\\n    return str_value\\\\n\\\\nimport argparse\\\\n_parser = argparse.ArgumentParser(prog=\\'Evaluate model\\', description=\\'Evaluates a trained sklearn model.\\')\\\\n_parser.add_argument(\\\\\"--dataset-path\\\\\", dest=\\\\\"dataset_path\\\\\", type=str, required=True, default=argparse.SUPPRESS)\\\\n_parser.add_argument(\\\\\"--model-path\\\\\", dest=\\\\\"model_path\\\\\", type=str, required=True, default=argparse.SUPPRESS)\\\\n_parser.add_argument(\\\\\"--metric-name\\\\\", dest=\\\\\"metric_name\\\\\", type=str, required=True, default=argparse.SUPPRESS)\\\\n_parser.add_argument(\\\\\"----output-paths\\\\\", dest=\\\\\"_output_paths\\\\\", type=str, nargs=3)\\\\n_parsed_args = vars(_parser.parse_args())\\\\n_output_files = _parsed_args.pop(\\\\\"_output_paths\\\\\", [])\\\\n\\\\n_outputs = evaluate_model(**_parsed_args)\\\\n\\\\nif not hasattr(_outputs, \\'__getitem__\\') or isinstance(_outputs, str):\\\\n    _outputs = [_outputs]\\\\n\\\\n_output_serializers = [\\\\n    _serialize_str,\\\\n    _serialize_float,\\\\n    str,\\\\n\\\\n]\\\\n\\\\nimport os\\\\nfor idx, output_file in enumerate(_output_files):\\\\n    try:\\\\n        os.makedirs(os.path.dirname(output_file))\\\\n    except OSError:\\\\n        pass\\\\n    with open(output_file, \\'w\\') as f:\\\\n        f.write(_output_serializers[idx](_outputs[idx]))\\\\n\"],\"args\":[\"--dataset-path\",\"{{inputs.parameters.bigquery-query-3-output_gcs_path}}\",\"--model-path\",\"{{inputs.parameters.submitting-a-cloud-ml-training-job-as-a-pipeline-step-2-job_dir}}\",\"--metric-name\",\"{{inputs.parameters.evaluation_metric_name}}\",\"----output-paths\",\"/tmp/outputs/metric_name/data\",\"/tmp/outputs/metric_value/data\",\"/tmp/outputs/mlpipeline_metrics/data\"],\"resources\":{}}},{\"name\":\"retrieve-best-run\",\"arguments\":{},\"inputs\":{\"parameters\":[{\"name\":\"project_id\"},{\"name\":\"submitting-a-cloud-ml-training-job-as-a-pipeline-step-job_id\"}]},\"outputs\":{\"parameters\":[{\"name\":\"retrieve-best-run-alpha\",\"valueFrom\":{\"path\":\"/tmp/outputs/alpha/data\"}},{\"name\":\"retrieve-best-run-max_iter\",\"valueFrom\":{\"path\":\"/tmp/outputs/max_iter/data\"}}],\"artifacts\":[{\"name\":\"retrieve-best-run-alpha\",\"path\":\"/tmp/outputs/alpha/data\"},{\"name\":\"retrieve-best-run-max_iter\",\"path\":\"/tmp/outputs/max_iter/data\"},{\"name\":\"retrieve-best-run-metric_value\",\"path\":\"/tmp/outputs/metric_value/data\"}]},\"metadata\":{\"annotations\":{\"pipelines.kubeflow.org/component_spec\":\"{\\\\\"description\\\\\": \\\\\"Retrieves the parameters of the best Hypertune run.\\\\\", \\\\\"inputs\\\\\": [{\\\\\"name\\\\\": \\\\\"project_id\\\\\", \\\\\"type\\\\\": \\\\\"String\\\\\"}, {\\\\\"name\\\\\": \\\\\"job_id\\\\\", \\\\\"type\\\\\": \\\\\"String\\\\\"}], \\\\\"name\\\\\": \\\\\"Retrieve best run\\\\\", \\\\\"outputs\\\\\": [{\\\\\"name\\\\\": \\\\\"metric_value\\\\\", \\\\\"type\\\\\": \\\\\"Float\\\\\"}, {\\\\\"name\\\\\": \\\\\"alpha\\\\\", \\\\\"type\\\\\": \\\\\"Float\\\\\"}, {\\\\\"name\\\\\": \\\\\"max_iter\\\\\", \\\\\"type\\\\\": \\\\\"Integer\\\\\"}]}\"}},\"container\":{\"name\":\"\",\"image\":\"gcr.io/dna-gcp-data/base_image:test\",\"command\":[\"python3\",\"-u\",\"-c\",\"def retrieve_best_run(\\\\n    project_id , job_id \\\\n):      \\\\n                             \\\\n  \\\\\"\\\\\"\\\\\"Retrieves the parameters of the best Hypertune run.\\\\\"\\\\\"\\\\\"\\\\n\\\\n  from googleapiclient import discovery\\\\n  from googleapiclient import errors\\\\n\\\\n  ml = discovery.build(\\'ml\\', \\'v1\\')\\\\n\\\\n  job_name = \\'projects/{}/jobs/{}\\'.format(project_id, job_id)\\\\n  request = ml.projects().jobs().get(name=job_name)\\\\n\\\\n  try:\\\\n    response = request.execute()\\\\n  except errors.HttpError as err:\\\\n    print(err)\\\\n  except:\\\\n    print(\\'Unexpected error\\')\\\\n\\\\n  print(response)\\\\n\\\\n  best_trial = response[\\'trainingOutput\\'][\\'trials\\'][0]\\\\n\\\\n  metric_value = best_trial[\\'finalMetric\\'][\\'objectiveValue\\']\\\\n  alpha = float(best_trial[\\'hyperparameters\\'][\\'alpha\\'])\\\\n  max_iter = int(best_trial[\\'hyperparameters\\'][\\'max_iter\\'])\\\\n\\\\n  return (metric_value, alpha, max_iter)\\\\n\\\\ndef _serialize_float(float_value: float) -\\\\u003e str:\\\\n    if isinstance(float_value, str):\\\\n        return float_value\\\\n    if not isinstance(float_value, (float, int)):\\\\n        raise TypeError(\\'Value \\\\\"{}\\\\\" has type \\\\\"{}\\\\\" instead of float.\\'.format(str(float_value), str(type(float_value))))\\\\n    return str(float_value)\\\\n\\\\ndef _serialize_int(int_value: int) -\\\\u003e str:\\\\n    if isinstance(int_value, str):\\\\n        return int_value\\\\n    if not isinstance(int_value, int):\\\\n        raise TypeError(\\'Value \\\\\"{}\\\\\" has type \\\\\"{}\\\\\" instead of int.\\'.format(str(int_value), str(type(int_value))))\\\\n    return str(int_value)\\\\n\\\\nimport argparse\\\\n_parser = argparse.ArgumentParser(prog=\\'Retrieve best run\\', description=\\'Retrieves the parameters of the best Hypertune run.\\')\\\\n_parser.add_argument(\\\\\"--project-id\\\\\", dest=\\\\\"project_id\\\\\", type=str, required=True, default=argparse.SUPPRESS)\\\\n_parser.add_argument(\\\\\"--job-id\\\\\", dest=\\\\\"job_id\\\\\", type=str, required=True, default=argparse.SUPPRESS)\\\\n_parser.add_argument(\\\\\"----output-paths\\\\\", dest=\\\\\"_output_paths\\\\\", type=str, nargs=3)\\\\n_parsed_args = vars(_parser.parse_args())\\\\n_output_files = _parsed_args.pop(\\\\\"_output_paths\\\\\", [])\\\\n\\\\n_outputs = retrieve_best_run(**_parsed_args)\\\\n\\\\nif not hasattr(_outputs, \\'__getitem__\\') or isinstance(_outputs, str):\\\\n    _outputs = [_outputs]\\\\n\\\\n_output_serializers = [\\\\n    _serialize_float,\\\\n    _serialize_float,\\\\n    _serialize_int,\\\\n\\\\n]\\\\n\\\\nimport os\\\\nfor idx, output_file in enumerate(_output_files):\\\\n    try:\\\\n        os.makedirs(os.path.dirname(output_file))\\\\n    except OSError:\\\\n        pass\\\\n    with open(output_file, \\'w\\') as f:\\\\n        f.write(_output_serializers[idx](_outputs[idx]))\\\\n\"],\"args\":[\"--project-id\",\"{{inputs.parameters.project_id}}\",\"--job-id\",\"{{inputs.parameters.submitting-a-cloud-ml-training-job-as-a-pipeline-step-job_id}}\",\"----output-paths\",\"/tmp/outputs/metric_value/data\",\"/tmp/outputs/alpha/data\",\"/tmp/outputs/max_iter/data\"],\"resources\":{}}},{\"name\":\"submitting-a-cloud-ml-training-job-as-a-pipeline-step\",\"arguments\":{},\"inputs\":{\"parameters\":[{\"name\":\"bigquery-query-2-output_gcs_path\"},{\"name\":\"bigquery-query-output_gcs_path\"},{\"name\":\"gcs_root\"},{\"name\":\"hypertune_settings\"},{\"name\":\"project_id\"},{\"name\":\"region\"}]},\"outputs\":{\"parameters\":[{\"name\":\"submitting-a-cloud-ml-training-job-as-a-pipeline-step-job_id\",\"valueFrom\":{\"path\":\"/tmp/kfp/output/ml_engine/job_id.txt\"}}],\"artifacts\":[{\"name\":\"mlpipeline-ui-metadata\",\"path\":\"/tmp/outputs/MLPipeline_UI_metadata/data\"},{\"name\":\"submitting-a-cloud-ml-training-job-as-a-pipeline-step-job_dir\",\"path\":\"/tmp/kfp/output/ml_engine/job_dir.txt\"},{\"name\":\"submitting-a-cloud-ml-training-job-as-a-pipeline-step-job_id\",\"path\":\"/tmp/kfp/output/ml_engine/job_id.txt\"}]},\"metadata\":{\"annotations\":{\"pipelines.kubeflow.org/component_spec\":\"{\\\\\"description\\\\\": \\\\\"A Kubeflow Pipeline component to submit a Cloud Machine Learning (Cloud ML) \\\\\\\\nEngine training job as a step in a pipeline.\\\\\\\\n\\\\\", \\\\\"inputs\\\\\": [{\\\\\"description\\\\\": \\\\\"Required. The ID of the parent project of the job.\\\\\", \\\\\"name\\\\\": \\\\\"project_id\\\\\", \\\\\"type\\\\\": \\\\\"GCPProjectID\\\\\"}, {\\\\\"default\\\\\": \\\\\"\\\\\", \\\\\"description\\\\\": \\\\\"The Python module name to run after installing the packages.\\\\\", \\\\\"name\\\\\": \\\\\"python_module\\\\\", \\\\\"type\\\\\": \\\\\"String\\\\\"}, {\\\\\"default\\\\\": \\\\\"\\\\\", \\\\\"description\\\\\": \\\\\"The Cloud Storage location of the packages (that contain the training program  and any additional dependencies). The maximum number of package URIs is 100.\\\\\", \\\\\"name\\\\\": \\\\\"package_uris\\\\\", \\\\\"type\\\\\": \\\\\"List\\\\\"}, {\\\\\"default\\\\\": \\\\\"\\\\\", \\\\\"description\\\\\": \\\\\"The Compute Engine region in which the training job is run.\\\\\", \\\\\"name\\\\\": \\\\\"region\\\\\", \\\\\"type\\\\\": \\\\\"GCPRegion\\\\\"}, {\\\\\"default\\\\\": \\\\\"\\\\\", \\\\\"description\\\\\": \\\\\"The command line arguments to pass to the program.\\\\\", \\\\\"name\\\\\": \\\\\"args\\\\\", \\\\\"type\\\\\": \\\\\"List\\\\\"}, {\\\\\"default\\\\\": \\\\\"\\\\\", \\\\\"description\\\\\": \\\\\"A Cloud Storage path in which to store the training outputs and other data  needed for training. This path is passed to your TensorFlow program as the  `job-dir` command-line argument. The benefit of specifying this field is  that Cloud ML validates the path for use in training.\\\\\", \\\\\"name\\\\\": \\\\\"job_dir\\\\\", \\\\\"type\\\\\": \\\\\"GCSPath\\\\\"}, {\\\\\"default\\\\\": \\\\\"\\\\\", \\\\\"description\\\\\": \\\\\"The version of Python used in training. If not set, the default version is `2.7`. Python `3.5` is available when runtimeVersion is set to `1.4` and above.\\\\\", \\\\\"name\\\\\": \\\\\"python_version\\\\\", \\\\\"type\\\\\": \\\\\"String\\\\\"}, {\\\\\"default\\\\\": \\\\\"\\\\\", \\\\\"description\\\\\": \\\\\"The Cloud ML Engine runtime version to use for training. If not set, Cloud ML Engine uses the default stable version, 1.0.\\\\\", \\\\\"name\\\\\": \\\\\"runtime_version\\\\\", \\\\\"type\\\\\": \\\\\"String\\\\\"}, {\\\\\"default\\\\\": \\\\\"\\\\\", \\\\\"description\\\\\": \\\\\"The Docker image to run on the master replica. This image must be in Container Registry.\\\\\", \\\\\"name\\\\\": \\\\\"master_image_uri\\\\\", \\\\\"type\\\\\": \\\\\"GCRPath\\\\\"}, {\\\\\"default\\\\\": \\\\\"\\\\\", \\\\\"description\\\\\": \\\\\"The Docker image to run on the worker replica. This image must be in Container Registry.\\\\\", \\\\\"name\\\\\": \\\\\"worker_image_uri\\\\\", \\\\\"type\\\\\": \\\\\"GCRPath\\\\\"}, {\\\\\"default\\\\\": \\\\\"\\\\\", \\\\\"description\\\\\": \\\\\"The input parameters to create a training job. It is the JSON payload  of a [TrainingInput](https://cloud.google.com/ml-engine/reference/rest/v1/projects.jobs#TrainingInput)\\\\\", \\\\\"name\\\\\": \\\\\"training_input\\\\\", \\\\\"type\\\\\": \\\\\"Dict\\\\\"}, {\\\\\"default\\\\\": \\\\\"\\\\\", \\\\\"description\\\\\": \\\\\"The prefix of the generated job id.\\\\\", \\\\\"name\\\\\": \\\\\"job_id_prefix\\\\\", \\\\\"type\\\\\": \\\\\"String\\\\\"}, {\\\\\"default\\\\\": \\\\\"30\\\\\", \\\\\"description\\\\\": \\\\\"Optional. A time-interval to wait for between calls to get the job status.  Defaults to 30.\\'\\\\\", \\\\\"name\\\\\": \\\\\"wait_interval\\\\\", \\\\\"type\\\\\": \\\\\"Integer\\\\\"}], \\\\\"metadata\\\\\": {\\\\\"labels\\\\\": {\\\\\"add-pod-env\\\\\": \\\\\"true\\\\\"}}, \\\\\"name\\\\\": \\\\\"Submitting a Cloud ML training job as a pipeline step\\\\\", \\\\\"outputs\\\\\": [{\\\\\"description\\\\\": \\\\\"The ID of the created job.\\\\\", \\\\\"name\\\\\": \\\\\"job_id\\\\\", \\\\\"type\\\\\": \\\\\"String\\\\\"}, {\\\\\"description\\\\\": \\\\\"The output path in Cloud Storage of the trainning job, which contains  the trained model files.\\\\\", \\\\\"name\\\\\": \\\\\"job_dir\\\\\", \\\\\"type\\\\\": \\\\\"GCSPath\\\\\"}, {\\\\\"name\\\\\": \\\\\"MLPipeline UI metadata\\\\\", \\\\\"type\\\\\": \\\\\"UI metadata\\\\\"}]}\"},\"labels\":{\"add-pod-env\":\"true\"}},\"container\":{\"name\":\"\",\"image\":\"gcr.io/ml-pipeline/ml-pipeline-gcp:e66dcb18607406330f953bf99b04fe7c3ed1a4a8\",\"args\":[\"--ui_metadata_path\",\"/tmp/outputs/MLPipeline_UI_metadata/data\",\"kfp_component.google.ml_engine\",\"train\",\"--project_id\",\"{{inputs.parameters.project_id}}\",\"--python_module\",\"\",\"--package_uris\",\"\",\"--region\",\"{{inputs.parameters.region}}\",\"--args\",\"[\\\\\"--training_dataset_path\\\\\", \\\\\"{{inputs.parameters.bigquery-query-output_gcs_path}}\\\\\", \\\\\"--validation_dataset_path\\\\\", \\\\\"{{inputs.parameters.bigquery-query-2-output_gcs_path}}\\\\\", \\\\\"--hptune\\\\\", \\\\\"True\\\\\"]\",\"--job_dir\",\"{{inputs.parameters.gcs_root}}/jobdir/hypertune/{{workflow.uid}}\",\"--python_version\",\"\",\"--runtime_version\",\"\",\"--master_image_uri\",\"gcr.io/dna-gcp-data/trainer_image:test\",\"--worker_image_uri\",\"\",\"--training_input\",\"{{inputs.parameters.hypertune_settings}}\",\"--job_id_prefix\",\"\",\"--wait_interval\",\"30\"],\"env\":[{\"name\":\"KFP_POD_NAME\",\"value\":\"{{pod.name}}\"},{\"name\":\"KFP_POD_NAME\",\"valueFrom\":{\"fieldRef\":{\"fieldPath\":\"metadata.name\"}}},{\"name\":\"KFP_NAMESPACE\",\"valueFrom\":{\"fieldRef\":{\"fieldPath\":\"metadata.namespace\"}}}],\"resources\":{}}},{\"name\":\"submitting-a-cloud-ml-training-job-as-a-pipeline-step-2\",\"arguments\":{},\"inputs\":{\"parameters\":[{\"name\":\"bigquery-query-2-output_gcs_path\"},{\"name\":\"bigquery-query-output_gcs_path\"},{\"name\":\"gcs_root\"},{\"name\":\"project_id\"},{\"name\":\"region\"},{\"name\":\"retrieve-best-run-alpha\"},{\"name\":\"retrieve-best-run-max_iter\"}]},\"outputs\":{\"parameters\":[{\"name\":\"submitting-a-cloud-ml-training-job-as-a-pipeline-step-2-job_dir\",\"valueFrom\":{\"path\":\"/tmp/kfp/output/ml_engine/job_dir.txt\"}}],\"artifacts\":[{\"name\":\"mlpipeline-ui-metadata\",\"path\":\"/tmp/outputs/MLPipeline_UI_metadata/data\"},{\"name\":\"submitting-a-cloud-ml-training-job-as-a-pipeline-step-2-job_dir\",\"path\":\"/tmp/kfp/output/ml_engine/job_dir.txt\"},{\"name\":\"submitting-a-cloud-ml-training-job-as-a-pipeline-step-2-job_id\",\"path\":\"/tmp/kfp/output/ml_engine/job_id.txt\"}]},\"metadata\":{\"annotations\":{\"pipelines.kubeflow.org/component_spec\":\"{\\\\\"description\\\\\": \\\\\"A Kubeflow Pipeline component to submit a Cloud Machine Learning (Cloud ML) \\\\\\\\nEngine training job as a step in a pipeline.\\\\\\\\n\\\\\", \\\\\"inputs\\\\\": [{\\\\\"description\\\\\": \\\\\"Required. The ID of the parent project of the job.\\\\\", \\\\\"name\\\\\": \\\\\"project_id\\\\\", \\\\\"type\\\\\": \\\\\"GCPProjectID\\\\\"}, {\\\\\"default\\\\\": \\\\\"\\\\\", \\\\\"description\\\\\": \\\\\"The Python module name to run after installing the packages.\\\\\", \\\\\"name\\\\\": \\\\\"python_module\\\\\", \\\\\"type\\\\\": \\\\\"String\\\\\"}, {\\\\\"default\\\\\": \\\\\"\\\\\", \\\\\"description\\\\\": \\\\\"The Cloud Storage location of the packages (that contain the training program  and any additional dependencies). The maximum number of package URIs is 100.\\\\\", \\\\\"name\\\\\": \\\\\"package_uris\\\\\", \\\\\"type\\\\\": \\\\\"List\\\\\"}, {\\\\\"default\\\\\": \\\\\"\\\\\", \\\\\"description\\\\\": \\\\\"The Compute Engine region in which the training job is run.\\\\\", \\\\\"name\\\\\": \\\\\"region\\\\\", \\\\\"type\\\\\": \\\\\"GCPRegion\\\\\"}, {\\\\\"default\\\\\": \\\\\"\\\\\", \\\\\"description\\\\\": \\\\\"The command line arguments to pass to the program.\\\\\", \\\\\"name\\\\\": \\\\\"args\\\\\", \\\\\"type\\\\\": \\\\\"List\\\\\"}, {\\\\\"default\\\\\": \\\\\"\\\\\", \\\\\"description\\\\\": \\\\\"A Cloud Storage path in which to store the training outputs and other data  needed for training. This path is passed to your TensorFlow program as the  `job-dir` command-line argument. The benefit of specifying this field is  that Cloud ML validates the path for use in training.\\\\\", \\\\\"name\\\\\": \\\\\"job_dir\\\\\", \\\\\"type\\\\\": \\\\\"GCSPath\\\\\"}, {\\\\\"default\\\\\": \\\\\"\\\\\", \\\\\"description\\\\\": \\\\\"The version of Python used in training. If not set, the default version is `2.7`. Python `3.5` is available when runtimeVersion is set to `1.4` and above.\\\\\", \\\\\"name\\\\\": \\\\\"python_version\\\\\", \\\\\"type\\\\\": \\\\\"String\\\\\"}, {\\\\\"default\\\\\": \\\\\"\\\\\", \\\\\"description\\\\\": \\\\\"The Cloud ML Engine runtime version to use for training. If not set, Cloud ML Engine uses the default stable version, 1.0.\\\\\", \\\\\"name\\\\\": \\\\\"runtime_version\\\\\", \\\\\"type\\\\\": \\\\\"String\\\\\"}, {\\\\\"default\\\\\": \\\\\"\\\\\", \\\\\"description\\\\\": \\\\\"The Docker image to run on the master replica. This image must be in Container Registry.\\\\\", \\\\\"name\\\\\": \\\\\"master_image_uri\\\\\", \\\\\"type\\\\\": \\\\\"GCRPath\\\\\"}, {\\\\\"default\\\\\": \\\\\"\\\\\", \\\\\"description\\\\\": \\\\\"The Docker image to run on the worker replica. This image must be in Container Registry.\\\\\", \\\\\"name\\\\\": \\\\\"worker_image_uri\\\\\", \\\\\"type\\\\\": \\\\\"GCRPath\\\\\"}, {\\\\\"default\\\\\": \\\\\"\\\\\", \\\\\"description\\\\\": \\\\\"The input parameters to create a training job. It is the JSON payload  of a [TrainingInput](https://cloud.google.com/ml-engine/reference/rest/v1/projects.jobs#TrainingInput)\\\\\", \\\\\"name\\\\\": \\\\\"training_input\\\\\", \\\\\"type\\\\\": \\\\\"Dict\\\\\"}, {\\\\\"default\\\\\": \\\\\"\\\\\", \\\\\"description\\\\\": \\\\\"The prefix of the generated job id.\\\\\", \\\\\"name\\\\\": \\\\\"job_id_prefix\\\\\", \\\\\"type\\\\\": \\\\\"String\\\\\"}, {\\\\\"default\\\\\": \\\\\"30\\\\\", \\\\\"description\\\\\": \\\\\"Optional. A time-interval to wait for between calls to get the job status.  Defaults to 30.\\'\\\\\", \\\\\"name\\\\\": \\\\\"wait_interval\\\\\", \\\\\"type\\\\\": \\\\\"Integer\\\\\"}], \\\\\"metadata\\\\\": {\\\\\"labels\\\\\": {\\\\\"add-pod-env\\\\\": \\\\\"true\\\\\"}}, \\\\\"name\\\\\": \\\\\"Submitting a Cloud ML training job as a pipeline step\\\\\", \\\\\"outputs\\\\\": [{\\\\\"description\\\\\": \\\\\"The ID of the created job.\\\\\", \\\\\"name\\\\\": \\\\\"job_id\\\\\", \\\\\"type\\\\\": \\\\\"String\\\\\"}, {\\\\\"description\\\\\": \\\\\"The output path in Cloud Storage of the trainning job, which contains  the trained model files.\\\\\", \\\\\"name\\\\\": \\\\\"job_dir\\\\\", \\\\\"type\\\\\": \\\\\"GCSPath\\\\\"}, {\\\\\"name\\\\\": \\\\\"MLPipeline UI metadata\\\\\", \\\\\"type\\\\\": \\\\\"UI metadata\\\\\"}]}\"},\"labels\":{\"add-pod-env\":\"true\"}},\"container\":{\"name\":\"\",\"image\":\"gcr.io/ml-pipeline/ml-pipeline-gcp:e66dcb18607406330f953bf99b04fe7c3ed1a4a8\",\"args\":[\"--ui_metadata_path\",\"/tmp/outputs/MLPipeline_UI_metadata/data\",\"kfp_component.google.ml_engine\",\"train\",\"--project_id\",\"{{inputs.parameters.project_id}}\",\"--python_module\",\"\",\"--package_uris\",\"\",\"--region\",\"{{inputs.parameters.region}}\",\"--args\",\"[\\\\\"--training_dataset_path\\\\\", \\\\\"{{inputs.parameters.bigquery-query-output_gcs_path}}\\\\\", \\\\\"--validation_dataset_path\\\\\", \\\\\"{{inputs.parameters.bigquery-query-2-output_gcs_path}}\\\\\", \\\\\"--alpha\\\\\", \\\\\"{{inputs.parameters.retrieve-best-run-alpha}}\\\\\", \\\\\"--max_iter\\\\\", \\\\\"{{inputs.parameters.retrieve-best-run-max_iter}}\\\\\", \\\\\"--hptune\\\\\", \\\\\"False\\\\\"]\",\"--job_dir\",\"{{inputs.parameters.gcs_root}}/jobdir/{{workflow.uid}}\",\"--python_version\",\"\",\"--runtime_version\",\"\",\"--master_image_uri\",\"gcr.io/dna-gcp-data/trainer_image:test\",\"--worker_image_uri\",\"\",\"--training_input\",\"\",\"--job_id_prefix\",\"\",\"--wait_interval\",\"30\"],\"env\":[{\"name\":\"KFP_POD_NAME\",\"value\":\"{{pod.name}}\"},{\"name\":\"KFP_POD_NAME\",\"valueFrom\":{\"fieldRef\":{\"fieldPath\":\"metadata.name\"}}},{\"name\":\"KFP_NAMESPACE\",\"valueFrom\":{\"fieldRef\":{\"fieldPath\":\"metadata.namespace\"}}}],\"resources\":{}}}],\"entrypoint\":\"covertype-classifier-training\",\"arguments\":{\"parameters\":[{\"name\":\"project_id\"},{\"name\":\"region\"},{\"name\":\"source_table_name\"},{\"name\":\"gcs_root\"},{\"name\":\"dataset_id\"},{\"name\":\"evaluation_metric_name\"},{\"name\":\"evaluation_metric_threshold\"},{\"name\":\"model_id\"},{\"name\":\"version_id\"},{\"name\":\"replace_existing_version\"},{\"name\":\"hypertune_settings\",\"value\":\"\\\\n{\\\\n    \\\\\"hyperparameters\\\\\":  {\\\\n        \\\\\"goal\\\\\": \\\\\"MAXIMIZE\\\\\",\\\\n        \\\\\"maxTrials\\\\\": 6,\\\\n        \\\\\"maxParallelTrials\\\\\": 3,\\\\n        \\\\\"hyperparameterMetricTag\\\\\": \\\\\"accuracy\\\\\",\\\\n        \\\\\"enableTrialEarlyStopping\\\\\": True,\\\\n        \\\\\"params\\\\\": [\\\\n            {\\\\n                \\\\\"parameterName\\\\\": \\\\\"max_iter\\\\\",\\\\n                \\\\\"type\\\\\": \\\\\"DISCRETE\\\\\",\\\\n                \\\\\"discreteValues\\\\\": [500, 1000]\\\\n            },\\\\n            {\\\\n                \\\\\"parameterName\\\\\": \\\\\"alpha\\\\\",\\\\n                \\\\\"type\\\\\": \\\\\"DOUBLE\\\\\",\\\\n                \\\\\"minValue\\\\\": 0.0001,\\\\n                \\\\\"maxValue\\\\\": 0.001,\\\\n                \\\\\"scaleType\\\\\": \\\\\"UNIT_LINEAR_SCALE\\\\\"\\\\n            }\\\\n        ]\\\\n    }\\\\n}\\\\n\"},{\"name\":\"dataset_location\",\"value\":\"US\"}]},\"serviceAccountName\":\"pipeline-runner\"},\"status\":{\"startedAt\":null,\"finishedAt\":null}}', 'pipeline_manifest': None, 'parameters': [{'name': 'project_id', 'value': 'dna-gcp-data'}, {'name': 'region', 'value': 'us-central1'}, {'name': 'source_table_name', 'value': 'covertype_dataset.covertype'}, {'name': 'gcs_root', 'value': 'gs://dna-gcp-data-kubeflowpipelines-default/staging'}, {'name': 'dataset_id', 'value': 'covertype_dataset'}, {'name': 'evaluation_metric_name', 'value': 'accuracy'}, {'name': 'evaluation_metric_threshold', 'value': '0.69'}, {'name': 'model_id', 'value': 'covertype_classifier'}, {'name': 'version_id', 'value': 'v01'}, {'name': 'replace_existing_version', 'value': 'True'}, {'name': 'hypertune_settings', 'value': '{\\n    \"hyperparameters\":  {\\n        \"goal\": \"MAXIMIZE\",\\n        \"maxTrials\": 6,\\n        \"maxParallelTrials\": 3,\\n        \"hyperparameterMetricTag\": \"accuracy\",\\n        \"enableTrialEarlyStopping\": True,\\n        \"params\": [\\n            {\\n                \"parameterName\": \"max_iter\",\\n                \"type\": \"DISCRETE\",\\n                \"discreteValues\": [500, 1000]\\n            },\\n            {\\n                \"parameterName\": \"alpha\",\\n                \"type\": \"DOUBLE\",\\n                \"minValue\": 0.0001,\\n                \"maxValue\": 0.001,\\n                \"scaleType\": \"UNIT_LINEAR_SCALE\"\\n            }\\n        ]\\n    }\\n}'}, {'name': 'dataset_location', 'value': 'US'}]}, 'resource_references': [{'key': {'type': 'EXPERIMENT', 'id': '889c1532-fee9-4b06-bc2b-10b1cd332c9a'}, 'name': 'Covertype_Classifier_Training', 'relationship': 'OWNER'}, {'key': {'type': 'PIPELINE_VERSION', 'id': 'ba22a9b4-0b4d-4a7c-beee-239c15f6ab1b'}, 'name': 'covertype_continuous_training_test', 'relationship': 'CREATOR'}], 'service_account': 'pipeline-runner', 'created_at': datetime.datetime(2021, 5, 21, 8, 46, 52, tzinfo=tzlocal()), 'scheduled_at': datetime.datetime(1970, 1, 1, 0, 0, tzinfo=tzlocal()), 'finished_at': datetime.datetime(2021, 5, 21, 9, 10, 48, tzinfo=tzlocal()), 'status': 'Succeeded', 'error': None, 'metrics': [{'name': 'accuracy', 'node_id': 'covertype-classifier-training-qmb6n-1971586539', 'number_value': 0.7225525168450257, 'format': None}]}, 'pipeline_runtime': {'pipeline_manifest': None, 'workflow_manifest': '{\"metadata\":{\"name\":\"covertype-classifier-training-qmb6n\",\"generateName\":\"covertype-classifier-training-\",\"namespace\":\"kfpdemo\",\"selfLink\":\"/apis/argoproj.io/v1alpha1/namespaces/kfpdemo/workflows/covertype-classifier-training-qmb6n\",\"uid\":\"03e3a16e-7930-4cd2-9bff-6f02c514a250\",\"resourceVersion\":\"10412508\",\"generation\":28,\"creationTimestamp\":\"2021-05-21T08:46:52Z\",\"labels\":{\"pipeline/runid\":\"d16368c5-24bb-4292-9060-315755f79b0b\",\"workflows.argoproj.io/completed\":\"true\",\"workflows.argoproj.io/phase\":\"Succeeded\"},\"annotations\":{\"pipelines.kubeflow.org/pipeline_spec\":\"{\\\\\"description\\\\\": \\\\\"The pipeline training and deploying the Covertype classifierpipeline_yaml\\\\\", \\\\\"inputs\\\\\": [{\\\\\"name\\\\\": \\\\\"project_id\\\\\"}, {\\\\\"name\\\\\": \\\\\"region\\\\\"}, {\\\\\"name\\\\\": \\\\\"source_table_name\\\\\"}, {\\\\\"name\\\\\": \\\\\"gcs_root\\\\\"}, {\\\\\"name\\\\\": \\\\\"dataset_id\\\\\"}, {\\\\\"name\\\\\": \\\\\"evaluation_metric_name\\\\\"}, {\\\\\"name\\\\\": \\\\\"evaluation_metric_threshold\\\\\"}, {\\\\\"name\\\\\": \\\\\"model_id\\\\\"}, {\\\\\"name\\\\\": \\\\\"version_id\\\\\"}, {\\\\\"name\\\\\": \\\\\"replace_existing_version\\\\\"}, {\\\\\"default\\\\\": \\\\\"\\\\\\\\n{\\\\\\\\n    \\\\\\\\\\\\\"hyperparameters\\\\\\\\\\\\\":  {\\\\\\\\n        \\\\\\\\\\\\\"goal\\\\\\\\\\\\\": \\\\\\\\\\\\\"MAXIMIZE\\\\\\\\\\\\\",\\\\\\\\n        \\\\\\\\\\\\\"maxTrials\\\\\\\\\\\\\": 6,\\\\\\\\n        \\\\\\\\\\\\\"maxParallelTrials\\\\\\\\\\\\\": 3,\\\\\\\\n        \\\\\\\\\\\\\"hyperparameterMetricTag\\\\\\\\\\\\\": \\\\\\\\\\\\\"accuracy\\\\\\\\\\\\\",\\\\\\\\n        \\\\\\\\\\\\\"enableTrialEarlyStopping\\\\\\\\\\\\\": True,\\\\\\\\n        \\\\\\\\\\\\\"params\\\\\\\\\\\\\": [\\\\\\\\n            {\\\\\\\\n                \\\\\\\\\\\\\"parameterName\\\\\\\\\\\\\": \\\\\\\\\\\\\"max_iter\\\\\\\\\\\\\",\\\\\\\\n                \\\\\\\\\\\\\"type\\\\\\\\\\\\\": \\\\\\\\\\\\\"DISCRETE\\\\\\\\\\\\\",\\\\\\\\n                \\\\\\\\\\\\\"discreteValues\\\\\\\\\\\\\": [500, 1000]\\\\\\\\n            },\\\\\\\\n            {\\\\\\\\n                \\\\\\\\\\\\\"parameterName\\\\\\\\\\\\\": \\\\\\\\\\\\\"alpha\\\\\\\\\\\\\",\\\\\\\\n                \\\\\\\\\\\\\"type\\\\\\\\\\\\\": \\\\\\\\\\\\\"DOUBLE\\\\\\\\\\\\\",\\\\\\\\n                \\\\\\\\\\\\\"minValue\\\\\\\\\\\\\": 0.0001,\\\\\\\\n                \\\\\\\\\\\\\"maxValue\\\\\\\\\\\\\": 0.001,\\\\\\\\n                \\\\\\\\\\\\\"scaleType\\\\\\\\\\\\\": \\\\\\\\\\\\\"UNIT_LINEAR_SCALE\\\\\\\\\\\\\"\\\\\\\\n            }\\\\\\\\n        ]\\\\\\\\n    }\\\\\\\\n}\\\\\\\\n\\\\\", \\\\\"name\\\\\": \\\\\"hypertune_settings\\\\\", \\\\\"optional\\\\\": true}, {\\\\\"default\\\\\": \\\\\"US\\\\\", \\\\\"name\\\\\": \\\\\"dataset_location\\\\\", \\\\\"optional\\\\\": true}], \\\\\"name\\\\\": \\\\\"Covertype Classifier Training\\\\\"}\",\"pipelines.kubeflow.org/run_name\":\"Run_001\"},\"managedFields\":[{\"manager\":\"apiserver\",\"operation\":\"Update\",\"apiVersion\":\"argoproj.io/v1alpha1\",\"time\":\"2021-05-21T08:46:52Z\",\"fieldsType\":\"FieldsV1\",\"fieldsV1\":{\"f:metadata\":{\"f:annotations\":{\".\":{},\"f:pipelines.kubeflow.org/pipeline_spec\":{},\"f:pipelines.kubeflow.org/run_name\":{}},\"f:generateName\":{},\"f:labels\":{\".\":{},\"f:pipeline/runid\":{}}},\"f:spec\":{\".\":{},\"f:arguments\":{\".\":{},\"f:parameters\":{}},\"f:entrypoint\":{},\"f:serviceAccountName\":{},\"f:templates\":{}},\"f:status\":{}}},{\"manager\":\"workflow-controller\",\"operation\":\"Update\",\"apiVersion\":\"argoproj.io/v1alpha1\",\"time\":\"2021-05-21T09:10:48Z\",\"fieldsType\":\"FieldsV1\",\"fieldsV1\":{\"f:metadata\":{\"f:labels\":{\"f:workflows.argoproj.io/completed\":{},\"f:workflows.argoproj.io/phase\":{}}},\"f:status\":{\"f:conditions\":{},\"f:finishedAt\":{},\"f:nodes\":{\".\":{},\"f:covertype-classifier-training-qmb6n\":{\".\":{},\"f:children\":{},\"f:displayName\":{},\"f:finishedAt\":{},\"f:id\":{},\"f:inputs\":{\".\":{},\"f:parameters\":{}},\"f:name\":{},\"f:outboundNodes\":{},\"f:phase\":{},\"f:startedAt\":{},\"f:templateName\":{},\"f:type\":{}},\"f:covertype-classifier-training-qmb6n-1057815578\":{\".\":{},\"f:boundaryID\":{},\"f:children\":{},\"f:displayName\":{},\"f:finishedAt\":{},\"f:id\":{},\"f:inputs\":{\".\":{},\"f:parameters\":{}},\"f:name\":{},\"f:outputs\":{\".\":{},\"f:artifacts\":{},\"f:parameters\":{}},\"f:phase\":{},\"f:startedAt\":{},\"f:templateName\":{},\"f:type\":{}},\"f:covertype-classifier-training-qmb6n-1075982665\":{\".\":{},\"f:boundaryID\":{},\"f:children\":{},\"f:displayName\":{},\"f:finishedAt\":{},\"f:id\":{},\"f:inputs\":{\".\":{},\"f:parameters\":{}},\"f:name\":{},\"f:outputs\":{\".\":{},\"f:artifacts\":{},\"f:parameters\":{}},\"f:phase\":{},\"f:startedAt\":{},\"f:templateName\":{},\"f:type\":{}},\"f:covertype-classifier-training-qmb6n-1089717477\":{\".\":{},\"f:boundaryID\":{},\"f:children\":{},\"f:displayName\":{},\"f:finishedAt\":{},\"f:id\":{},\"f:inputs\":{\".\":{},\"f:parameters\":{}},\"f:name\":{},\"f:outputs\":{\".\":{},\"f:artifacts\":{},\"f:parameters\":{}},\"f:phase\":{},\"f:startedAt\":{},\"f:templateName\":{},\"f:type\":{}},\"f:covertype-classifier-training-qmb6n-1858401567\":{\".\":{},\"f:boundaryID\":{},\"f:children\":{},\"f:displayName\":{},\"f:finishedAt\":{},\"f:id\":{},\"f:inputs\":{\".\":{},\"f:parameters\":{}},\"f:name\":{},\"f:outputs\":{\".\":{},\"f:artifacts\":{},\"f:parameters\":{}},\"f:phase\":{},\"f:startedAt\":{},\"f:templateName\":{},\"f:type\":{}},\"f:covertype-classifier-training-qmb6n-1879447244\":{\".\":{},\"f:boundaryID\":{},\"f:children\":{},\"f:displayName\":{},\"f:finishedAt\":{},\"f:id\":{},\"f:inputs\":{\".\":{},\"f:parameters\":{}},\"f:name\":{},\"f:outputs\":{\".\":{},\"f:artifacts\":{},\"f:parameters\":{}},\"f:phase\":{},\"f:startedAt\":{},\"f:templateName\":{},\"f:type\":{}},\"f:covertype-classifier-training-qmb6n-1896224863\":{\".\":{},\"f:boundaryID\":{},\"f:children\":{},\"f:displayName\":{},\"f:finishedAt\":{},\"f:id\":{},\"f:inputs\":{\".\":{},\"f:parameters\":{}},\"f:name\":{},\"f:outputs\":{\".\":{},\"f:artifacts\":{},\"f:parameters\":{}},\"f:phase\":{},\"f:startedAt\":{},\"f:templateName\":{},\"f:type\":{}},\"f:covertype-classifier-training-qmb6n-1971586539\":{\".\":{},\"f:boundaryID\":{},\"f:children\":{},\"f:displayName\":{},\"f:finishedAt\":{},\"f:id\":{},\"f:inputs\":{\".\":{},\"f:parameters\":{}},\"f:name\":{},\"f:outputs\":{\".\":{},\"f:artifacts\":{},\"f:parameters\":{}},\"f:phase\":{},\"f:startedAt\":{},\"f:templateName\":{},\"f:type\":{}},\"f:covertype-classifier-training-qmb6n-2274394652\":{\".\":{},\"f:boundaryID\":{},\"f:displayName\":{},\"f:finishedAt\":{},\"f:id\":{},\"f:inputs\":{\".\":{},\"f:parameters\":{}},\"f:name\":{},\"f:outputs\":{\".\":{},\"f:artifacts\":{}},\"f:phase\":{},\"f:startedAt\":{},\"f:templateName\":{},\"f:type\":{}},\"f:covertype-classifier-training-qmb6n-2585557679\":{\".\":{},\"f:boundaryID\":{},\"f:children\":{},\"f:displayName\":{},\"f:finishedAt\":{},\"f:id\":{},\"f:inputs\":{\".\":{},\"f:parameters\":{}},\"f:name\":{},\"f:outboundNodes\":{},\"f:phase\":{},\"f:startedAt\":{},\"f:templateName\":{},\"f:type\":{}}},\"f:phase\":{},\"f:startedAt\":{}}}}]},\"spec\":{\"templates\":[{\"name\":\"bigquery-query\",\"arguments\":{},\"inputs\":{\"parameters\":[{\"name\":\"dataset_id\"},{\"name\":\"dataset_location\"},{\"name\":\"gcs_root\"},{\"name\":\"project_id\"},{\"name\":\"source_table_name\"}]},\"outputs\":{\"parameters\":[{\"name\":\"bigquery-query-output_gcs_path\",\"valueFrom\":{\"path\":\"/tmp/kfp/output/bigquery/query-output-path.txt\"}}],\"artifacts\":[{\"name\":\"mlpipeline-ui-metadata\",\"path\":\"/tmp/outputs/MLPipeline_UI_metadata/data\",\"optional\":true},{\"name\":\"bigquery-query-output_gcs_path\",\"path\":\"/tmp/kfp/output/bigquery/query-output-path.txt\"}]},\"metadata\":{\"annotations\":{\"pipelines.kubeflow.org/component_spec\":\"{\\\\\"description\\\\\": \\\\\"A Kubeflow Pipeline component to submit a query to Google Cloud Bigquery \\\\\\\\nservice and dump outputs to a Google Cloud Storage blob. \\\\\\\\n\\\\\", \\\\\"inputs\\\\\": [{\\\\\"description\\\\\": \\\\\"The query used by Bigquery service to fetch the results.\\\\\", \\\\\"name\\\\\": \\\\\"query\\\\\", \\\\\"type\\\\\": \\\\\"String\\\\\"}, {\\\\\"description\\\\\": \\\\\"The project to execute the query job.\\\\\", \\\\\"name\\\\\": \\\\\"project_id\\\\\", \\\\\"type\\\\\": \\\\\"GCPProjectID\\\\\"}, {\\\\\"default\\\\\": \\\\\"\\\\\", \\\\\"description\\\\\": \\\\\"The ID of the persistent dataset to keep the results of the query.\\\\\", \\\\\"name\\\\\": \\\\\"dataset_id\\\\\", \\\\\"type\\\\\": \\\\\"String\\\\\"}, {\\\\\"default\\\\\": \\\\\"\\\\\", \\\\\"description\\\\\": \\\\\"The ID of the table to keep the results of the query. If absent, the operation will generate a random id for the table.\\\\\", \\\\\"name\\\\\": \\\\\"table_id\\\\\", \\\\\"type\\\\\": \\\\\"String\\\\\"}, {\\\\\"default\\\\\": \\\\\"\\\\\", \\\\\"description\\\\\": \\\\\"The path to the Cloud Storage bucket to store the query output.\\\\\", \\\\\"name\\\\\": \\\\\"output_gcs_path\\\\\", \\\\\"type\\\\\": \\\\\"GCSPath\\\\\"}, {\\\\\"default\\\\\": \\\\\"US\\\\\", \\\\\"description\\\\\": \\\\\"The location to create the dataset. Defaults to `US`.\\\\\", \\\\\"name\\\\\": \\\\\"dataset_location\\\\\", \\\\\"type\\\\\": \\\\\"String\\\\\"}, {\\\\\"default\\\\\": \\\\\"\\\\\", \\\\\"description\\\\\": \\\\\"The full config spec for the query job.See  [QueryJobConfig](https://googleapis.github.io/google-cloud-python/latest/bigquery/generated/google.cloud.bigquery.job.QueryJobConfig.html#google.cloud.bigquery.job.QueryJobConfig)  for details.\\\\\", \\\\\"name\\\\\": \\\\\"job_config\\\\\", \\\\\"type\\\\\": \\\\\"Dict\\\\\"}], \\\\\"metadata\\\\\": {\\\\\"labels\\\\\": {\\\\\"add-pod-env\\\\\": \\\\\"true\\\\\"}}, \\\\\"name\\\\\": \\\\\"Bigquery - Query\\\\\", \\\\\"outputs\\\\\": [{\\\\\"description\\\\\": \\\\\"The path to the Cloud Storage bucket containing the query output in CSV format.\\\\\", \\\\\"name\\\\\": \\\\\"output_gcs_path\\\\\", \\\\\"type\\\\\": \\\\\"GCSPath\\\\\"}, {\\\\\"name\\\\\": \\\\\"MLPipeline UI metadata\\\\\", \\\\\"type\\\\\": \\\\\"UI metadata\\\\\"}]}\",\"sidecar.istio.io/inject\":\"false\"},\"labels\":{\"add-pod-env\":\"true\",\"pipelines.kubeflow.org/cache_enabled\":\"true\"}},\"container\":{\"name\":\"\",\"image\":\"gcr.io/ml-pipeline/ml-pipeline-gcp:e66dcb18607406330f953bf99b04fe7c3ed1a4a8\",\"args\":[\"--ui_metadata_path\",\"/tmp/outputs/MLPipeline_UI_metadata/data\",\"kfp_component.google.bigquery\",\"query\",\"--query\",\"\\\\n       SELECT *\\\\n       FROM \\\\n           `{{inputs.parameters.source_table_name}}` AS cover\\\\n       WHERE \\\\n       MOD(ABS(FARM_FINGERPRINT(TO_JSON_STRING(cover))), 10) IN (1, 2, 3, 4)\\\\n       \",\"--project_id\",\"{{inputs.parameters.project_id}}\",\"--dataset_id\",\"{{inputs.parameters.dataset_id}}\",\"--table_id\",\"\",\"--dataset_location\",\"{{inputs.parameters.dataset_location}}\",\"--output_gcs_path\",\"{{inputs.parameters.gcs_root}}/datasets/training/data.csv\",\"--job_config\",\"\"],\"env\":[{\"name\":\"KFP_POD_NAME\",\"value\":\"{{pod.name}}\"},{\"name\":\"KFP_POD_NAME\",\"valueFrom\":{\"fieldRef\":{\"fieldPath\":\"metadata.name\"}}},{\"name\":\"KFP_NAMESPACE\",\"valueFrom\":{\"fieldRef\":{\"fieldPath\":\"metadata.namespace\"}}}],\"resources\":{}}},{\"name\":\"bigquery-query-2\",\"arguments\":{},\"inputs\":{\"parameters\":[{\"name\":\"dataset_id\"},{\"name\":\"dataset_location\"},{\"name\":\"gcs_root\"},{\"name\":\"project_id\"},{\"name\":\"source_table_name\"}]},\"outputs\":{\"parameters\":[{\"name\":\"bigquery-query-2-output_gcs_path\",\"valueFrom\":{\"path\":\"/tmp/kfp/output/bigquery/query-output-path.txt\"}}],\"artifacts\":[{\"name\":\"mlpipeline-ui-metadata\",\"path\":\"/tmp/outputs/MLPipeline_UI_metadata/data\",\"optional\":true},{\"name\":\"bigquery-query-2-output_gcs_path\",\"path\":\"/tmp/kfp/output/bigquery/query-output-path.txt\"}]},\"metadata\":{\"annotations\":{\"pipelines.kubeflow.org/component_spec\":\"{\\\\\"description\\\\\": \\\\\"A Kubeflow Pipeline component to submit a query to Google Cloud Bigquery \\\\\\\\nservice and dump outputs to a Google Cloud Storage blob. \\\\\\\\n\\\\\", \\\\\"inputs\\\\\": [{\\\\\"description\\\\\": \\\\\"The query used by Bigquery service to fetch the results.\\\\\", \\\\\"name\\\\\": \\\\\"query\\\\\", \\\\\"type\\\\\": \\\\\"String\\\\\"}, {\\\\\"description\\\\\": \\\\\"The project to execute the query job.\\\\\", \\\\\"name\\\\\": \\\\\"project_id\\\\\", \\\\\"type\\\\\": \\\\\"GCPProjectID\\\\\"}, {\\\\\"default\\\\\": \\\\\"\\\\\", \\\\\"description\\\\\": \\\\\"The ID of the persistent dataset to keep the results of the query.\\\\\", \\\\\"name\\\\\": \\\\\"dataset_id\\\\\", \\\\\"type\\\\\": \\\\\"String\\\\\"}, {\\\\\"default\\\\\": \\\\\"\\\\\", \\\\\"description\\\\\": \\\\\"The ID of the table to keep the results of the query. If absent, the operation will generate a random id for the table.\\\\\", \\\\\"name\\\\\": \\\\\"table_id\\\\\", \\\\\"type\\\\\": \\\\\"String\\\\\"}, {\\\\\"default\\\\\": \\\\\"\\\\\", \\\\\"description\\\\\": \\\\\"The path to the Cloud Storage bucket to store the query output.\\\\\", \\\\\"name\\\\\": \\\\\"output_gcs_path\\\\\", \\\\\"type\\\\\": \\\\\"GCSPath\\\\\"}, {\\\\\"default\\\\\": \\\\\"US\\\\\", \\\\\"description\\\\\": \\\\\"The location to create the dataset. Defaults to `US`.\\\\\", \\\\\"name\\\\\": \\\\\"dataset_location\\\\\", \\\\\"type\\\\\": \\\\\"String\\\\\"}, {\\\\\"default\\\\\": \\\\\"\\\\\", \\\\\"description\\\\\": \\\\\"The full config spec for the query job.See  [QueryJobConfig](https://googleapis.github.io/google-cloud-python/latest/bigquery/generated/google.cloud.bigquery.job.QueryJobConfig.html#google.cloud.bigquery.job.QueryJobConfig)  for details.\\\\\", \\\\\"name\\\\\": \\\\\"job_config\\\\\", \\\\\"type\\\\\": \\\\\"Dict\\\\\"}], \\\\\"metadata\\\\\": {\\\\\"labels\\\\\": {\\\\\"add-pod-env\\\\\": \\\\\"true\\\\\"}}, \\\\\"name\\\\\": \\\\\"Bigquery - Query\\\\\", \\\\\"outputs\\\\\": [{\\\\\"description\\\\\": \\\\\"The path to the Cloud Storage bucket containing the query output in CSV format.\\\\\", \\\\\"name\\\\\": \\\\\"output_gcs_path\\\\\", \\\\\"type\\\\\": \\\\\"GCSPath\\\\\"}, {\\\\\"name\\\\\": \\\\\"MLPipeline UI metadata\\\\\", \\\\\"type\\\\\": \\\\\"UI metadata\\\\\"}]}\",\"sidecar.istio.io/inject\":\"false\"},\"labels\":{\"add-pod-env\":\"true\",\"pipelines.kubeflow.org/cache_enabled\":\"true\"}},\"container\":{\"name\":\"\",\"image\":\"gcr.io/ml-pipeline/ml-pipeline-gcp:e66dcb18607406330f953bf99b04fe7c3ed1a4a8\",\"args\":[\"--ui_metadata_path\",\"/tmp/outputs/MLPipeline_UI_metadata/data\",\"kfp_component.google.bigquery\",\"query\",\"--query\",\"\\\\n       SELECT *\\\\n       FROM \\\\n           `{{inputs.parameters.source_table_name}}` AS cover\\\\n       WHERE \\\\n       MOD(ABS(FARM_FINGERPRINT(TO_JSON_STRING(cover))), 10) IN (8)\\\\n       \",\"--project_id\",\"{{inputs.parameters.project_id}}\",\"--dataset_id\",\"{{inputs.parameters.dataset_id}}\",\"--table_id\",\"\",\"--dataset_location\",\"{{inputs.parameters.dataset_location}}\",\"--output_gcs_path\",\"{{inputs.parameters.gcs_root}}/datasets/validation/data.csv\",\"--job_config\",\"\"],\"env\":[{\"name\":\"KFP_POD_NAME\",\"value\":\"{{pod.name}}\"},{\"name\":\"KFP_POD_NAME\",\"valueFrom\":{\"fieldRef\":{\"fieldPath\":\"metadata.name\"}}},{\"name\":\"KFP_NAMESPACE\",\"valueFrom\":{\"fieldRef\":{\"fieldPath\":\"metadata.namespace\"}}}],\"resources\":{}}},{\"name\":\"bigquery-query-3\",\"arguments\":{},\"inputs\":{\"parameters\":[{\"name\":\"dataset_id\"},{\"name\":\"dataset_location\"},{\"name\":\"gcs_root\"},{\"name\":\"project_id\"},{\"name\":\"source_table_name\"}]},\"outputs\":{\"parameters\":[{\"name\":\"bigquery-query-3-output_gcs_path\",\"valueFrom\":{\"path\":\"/tmp/kfp/output/bigquery/query-output-path.txt\"}}],\"artifacts\":[{\"name\":\"mlpipeline-ui-metadata\",\"path\":\"/tmp/outputs/MLPipeline_UI_metadata/data\",\"optional\":true},{\"name\":\"bigquery-query-3-output_gcs_path\",\"path\":\"/tmp/kfp/output/bigquery/query-output-path.txt\"}]},\"metadata\":{\"annotations\":{\"pipelines.kubeflow.org/component_spec\":\"{\\\\\"description\\\\\": \\\\\"A Kubeflow Pipeline component to submit a query to Google Cloud Bigquery \\\\\\\\nservice and dump outputs to a Google Cloud Storage blob. \\\\\\\\n\\\\\", \\\\\"inputs\\\\\": [{\\\\\"description\\\\\": \\\\\"The query used by Bigquery service to fetch the results.\\\\\", \\\\\"name\\\\\": \\\\\"query\\\\\", \\\\\"type\\\\\": \\\\\"String\\\\\"}, {\\\\\"description\\\\\": \\\\\"The project to execute the query job.\\\\\", \\\\\"name\\\\\": \\\\\"project_id\\\\\", \\\\\"type\\\\\": \\\\\"GCPProjectID\\\\\"}, {\\\\\"default\\\\\": \\\\\"\\\\\", \\\\\"description\\\\\": \\\\\"The ID of the persistent dataset to keep the results of the query.\\\\\", \\\\\"name\\\\\": \\\\\"dataset_id\\\\\", \\\\\"type\\\\\": \\\\\"String\\\\\"}, {\\\\\"default\\\\\": \\\\\"\\\\\", \\\\\"description\\\\\": \\\\\"The ID of the table to keep the results of the query. If absent, the operation will generate a random id for the table.\\\\\", \\\\\"name\\\\\": \\\\\"table_id\\\\\", \\\\\"type\\\\\": \\\\\"String\\\\\"}, {\\\\\"default\\\\\": \\\\\"\\\\\", \\\\\"description\\\\\": \\\\\"The path to the Cloud Storage bucket to store the query output.\\\\\", \\\\\"name\\\\\": \\\\\"output_gcs_path\\\\\", \\\\\"type\\\\\": \\\\\"GCSPath\\\\\"}, {\\\\\"default\\\\\": \\\\\"US\\\\\", \\\\\"description\\\\\": \\\\\"The location to create the dataset. Defaults to `US`.\\\\\", \\\\\"name\\\\\": \\\\\"dataset_location\\\\\", \\\\\"type\\\\\": \\\\\"String\\\\\"}, {\\\\\"default\\\\\": \\\\\"\\\\\", \\\\\"description\\\\\": \\\\\"The full config spec for the query job.See  [QueryJobConfig](https://googleapis.github.io/google-cloud-python/latest/bigquery/generated/google.cloud.bigquery.job.QueryJobConfig.html#google.cloud.bigquery.job.QueryJobConfig)  for details.\\\\\", \\\\\"name\\\\\": \\\\\"job_config\\\\\", \\\\\"type\\\\\": \\\\\"Dict\\\\\"}], \\\\\"metadata\\\\\": {\\\\\"labels\\\\\": {\\\\\"add-pod-env\\\\\": \\\\\"true\\\\\"}}, \\\\\"name\\\\\": \\\\\"Bigquery - Query\\\\\", \\\\\"outputs\\\\\": [{\\\\\"description\\\\\": \\\\\"The path to the Cloud Storage bucket containing the query output in CSV format.\\\\\", \\\\\"name\\\\\": \\\\\"output_gcs_path\\\\\", \\\\\"type\\\\\": \\\\\"GCSPath\\\\\"}, {\\\\\"name\\\\\": \\\\\"MLPipeline UI metadata\\\\\", \\\\\"type\\\\\": \\\\\"UI metadata\\\\\"}]}\",\"sidecar.istio.io/inject\":\"false\"},\"labels\":{\"add-pod-env\":\"true\",\"pipelines.kubeflow.org/cache_enabled\":\"true\"}},\"container\":{\"name\":\"\",\"image\":\"gcr.io/ml-pipeline/ml-pipeline-gcp:e66dcb18607406330f953bf99b04fe7c3ed1a4a8\",\"args\":[\"--ui_metadata_path\",\"/tmp/outputs/MLPipeline_UI_metadata/data\",\"kfp_component.google.bigquery\",\"query\",\"--query\",\"\\\\n       SELECT *\\\\n       FROM \\\\n           `{{inputs.parameters.source_table_name}}` AS cover\\\\n       WHERE \\\\n       MOD(ABS(FARM_FINGERPRINT(TO_JSON_STRING(cover))), 10) IN (9)\\\\n       \",\"--project_id\",\"{{inputs.parameters.project_id}}\",\"--dataset_id\",\"{{inputs.parameters.dataset_id}}\",\"--table_id\",\"\",\"--dataset_location\",\"{{inputs.parameters.dataset_location}}\",\"--output_gcs_path\",\"{{inputs.parameters.gcs_root}}/datasets/testing/data.csv\",\"--job_config\",\"\"],\"env\":[{\"name\":\"KFP_POD_NAME\",\"value\":\"{{pod.name}}\"},{\"name\":\"KFP_POD_NAME\",\"valueFrom\":{\"fieldRef\":{\"fieldPath\":\"metadata.name\"}}},{\"name\":\"KFP_NAMESPACE\",\"valueFrom\":{\"fieldRef\":{\"fieldPath\":\"metadata.namespace\"}}}],\"resources\":{}}},{\"name\":\"condition-1\",\"arguments\":{},\"inputs\":{\"parameters\":[{\"name\":\"model_id\"},{\"name\":\"project_id\"},{\"name\":\"replace_existing_version\"},{\"name\":\"submitting-a-cloud-ml-training-job-as-a-pipeline-step-2-job_dir\"},{\"name\":\"version_id\"}]},\"outputs\":{},\"metadata\":{\"annotations\":{\"sidecar.istio.io/inject\":\"false\"},\"labels\":{\"pipelines.kubeflow.org/cache_enabled\":\"true\"}},\"dag\":{\"tasks\":[{\"name\":\"deploying-a-trained-model-to-cloud-machine-learning-engine\",\"template\":\"deploying-a-trained-model-to-cloud-machine-learning-engine\",\"arguments\":{\"parameters\":[{\"name\":\"model_id\",\"value\":\"{{inputs.parameters.model_id}}\"},{\"name\":\"project_id\",\"value\":\"{{inputs.parameters.project_id}}\"},{\"name\":\"replace_existing_version\",\"value\":\"{{inputs.parameters.replace_existing_version}}\"},{\"name\":\"submitting-a-cloud-ml-training-job-as-a-pipeline-step-2-job_dir\",\"value\":\"{{inputs.parameters.submitting-a-cloud-ml-training-job-as-a-pipeline-step-2-job_dir}}\"},{\"name\":\"version_id\",\"value\":\"{{inputs.parameters.version_id}}\"}]}}]}},{\"name\":\"covertype-classifier-training\",\"arguments\":{},\"inputs\":{\"parameters\":[{\"name\":\"dataset_id\"},{\"name\":\"dataset_location\"},{\"name\":\"evaluation_metric_name\"},{\"name\":\"evaluation_metric_threshold\"},{\"name\":\"gcs_root\"},{\"name\":\"hypertune_settings\"},{\"name\":\"model_id\"},{\"name\":\"project_id\"},{\"name\":\"region\"},{\"name\":\"replace_existing_version\"},{\"name\":\"source_table_name\"},{\"name\":\"version_id\"}]},\"outputs\":{},\"metadata\":{\"annotations\":{\"sidecar.istio.io/inject\":\"false\"},\"labels\":{\"pipelines.kubeflow.org/cache_enabled\":\"true\"}},\"dag\":{\"tasks\":[{\"name\":\"bigquery-query\",\"template\":\"bigquery-query\",\"arguments\":{\"parameters\":[{\"name\":\"dataset_id\",\"value\":\"{{inputs.parameters.dataset_id}}\"},{\"name\":\"dataset_location\",\"value\":\"{{inputs.parameters.dataset_location}}\"},{\"name\":\"gcs_root\",\"value\":\"{{inputs.parameters.gcs_root}}\"},{\"name\":\"project_id\",\"value\":\"{{inputs.parameters.project_id}}\"},{\"name\":\"source_table_name\",\"value\":\"{{inputs.parameters.source_table_name}}\"}]}},{\"name\":\"bigquery-query-2\",\"template\":\"bigquery-query-2\",\"arguments\":{\"parameters\":[{\"name\":\"dataset_id\",\"value\":\"{{inputs.parameters.dataset_id}}\"},{\"name\":\"dataset_location\",\"value\":\"{{inputs.parameters.dataset_location}}\"},{\"name\":\"gcs_root\",\"value\":\"{{inputs.parameters.gcs_root}}\"},{\"name\":\"project_id\",\"value\":\"{{inputs.parameters.project_id}}\"},{\"name\":\"source_table_name\",\"value\":\"{{inputs.parameters.source_table_name}}\"}]}},{\"name\":\"bigquery-query-3\",\"template\":\"bigquery-query-3\",\"arguments\":{\"parameters\":[{\"name\":\"dataset_id\",\"value\":\"{{inputs.parameters.dataset_id}}\"},{\"name\":\"dataset_location\",\"value\":\"{{inputs.parameters.dataset_location}}\"},{\"name\":\"gcs_root\",\"value\":\"{{inputs.parameters.gcs_root}}\"},{\"name\":\"project_id\",\"value\":\"{{inputs.parameters.project_id}}\"},{\"name\":\"source_table_name\",\"value\":\"{{inputs.parameters.source_table_name}}\"}]}},{\"name\":\"condition-1\",\"template\":\"condition-1\",\"arguments\":{\"parameters\":[{\"name\":\"model_id\",\"value\":\"{{inputs.parameters.model_id}}\"},{\"name\":\"project_id\",\"value\":\"{{inputs.parameters.project_id}}\"},{\"name\":\"replace_existing_version\",\"value\":\"{{inputs.parameters.replace_existing_version}}\"},{\"name\":\"submitting-a-cloud-ml-training-job-as-a-pipeline-step-2-job_dir\",\"value\":\"{{tasks.submitting-a-cloud-ml-training-job-as-a-pipeline-step-2.outputs.parameters.submitting-a-cloud-ml-training-job-as-a-pipeline-step-2-job_dir}}\"},{\"name\":\"version_id\",\"value\":\"{{inputs.parameters.version_id}}\"}]},\"dependencies\":[\"evaluate-model\",\"submitting-a-cloud-ml-training-job-as-a-pipeline-step-2\"],\"when\":\"{{tasks.evaluate-model.outputs.parameters.evaluate-model-metric_value}} \\\\u003e {{inputs.parameters.evaluation_metric_threshold}}\"},{\"name\":\"evaluate-model\",\"template\":\"evaluate-model\",\"arguments\":{\"parameters\":[{\"name\":\"bigquery-query-3-output_gcs_path\",\"value\":\"{{tasks.bigquery-query-3.outputs.parameters.bigquery-query-3-output_gcs_path}}\"},{\"name\":\"evaluation_metric_name\",\"value\":\"{{inputs.parameters.evaluation_metric_name}}\"},{\"name\":\"submitting-a-cloud-ml-training-job-as-a-pipeline-step-2-job_dir\",\"value\":\"{{tasks.submitting-a-cloud-ml-training-job-as-a-pipeline-step-2.outputs.parameters.submitting-a-cloud-ml-training-job-as-a-pipeline-step-2-job_dir}}\"}]},\"dependencies\":[\"bigquery-query-3\",\"submitting-a-cloud-ml-training-job-as-a-pipeline-step-2\"]},{\"name\":\"retrieve-best-run\",\"template\":\"retrieve-best-run\",\"arguments\":{\"parameters\":[{\"name\":\"project_id\",\"value\":\"{{inputs.parameters.project_id}}\"},{\"name\":\"submitting-a-cloud-ml-training-job-as-a-pipeline-step-job_id\",\"value\":\"{{tasks.submitting-a-cloud-ml-training-job-as-a-pipeline-step.outputs.parameters.submitting-a-cloud-ml-training-job-as-a-pipeline-step-job_id}}\"}]},\"dependencies\":[\"submitting-a-cloud-ml-training-job-as-a-pipeline-step\"]},{\"name\":\"submitting-a-cloud-ml-training-job-as-a-pipeline-step\",\"template\":\"submitting-a-cloud-ml-training-job-as-a-pipeline-step\",\"arguments\":{\"parameters\":[{\"name\":\"bigquery-query-2-output_gcs_path\",\"value\":\"{{tasks.bigquery-query-2.outputs.parameters.bigquery-query-2-output_gcs_path}}\"},{\"name\":\"bigquery-query-output_gcs_path\",\"value\":\"{{tasks.bigquery-query.outputs.parameters.bigquery-query-output_gcs_path}}\"},{\"name\":\"gcs_root\",\"value\":\"{{inputs.parameters.gcs_root}}\"},{\"name\":\"hypertune_settings\",\"value\":\"{{inputs.parameters.hypertune_settings}}\"},{\"name\":\"project_id\",\"value\":\"{{inputs.parameters.project_id}}\"},{\"name\":\"region\",\"value\":\"{{inputs.parameters.region}}\"}]},\"dependencies\":[\"bigquery-query\",\"bigquery-query-2\"]},{\"name\":\"submitting-a-cloud-ml-training-job-as-a-pipeline-step-2\",\"template\":\"submitting-a-cloud-ml-training-job-as-a-pipeline-step-2\",\"arguments\":{\"parameters\":[{\"name\":\"bigquery-query-2-output_gcs_path\",\"value\":\"{{tasks.bigquery-query-2.outputs.parameters.bigquery-query-2-output_gcs_path}}\"},{\"name\":\"bigquery-query-output_gcs_path\",\"value\":\"{{tasks.bigquery-query.outputs.parameters.bigquery-query-output_gcs_path}}\"},{\"name\":\"gcs_root\",\"value\":\"{{inputs.parameters.gcs_root}}\"},{\"name\":\"project_id\",\"value\":\"{{inputs.parameters.project_id}}\"},{\"name\":\"region\",\"value\":\"{{inputs.parameters.region}}\"},{\"name\":\"retrieve-best-run-alpha\",\"value\":\"{{tasks.retrieve-best-run.outputs.parameters.retrieve-best-run-alpha}}\"},{\"name\":\"retrieve-best-run-max_iter\",\"value\":\"{{tasks.retrieve-best-run.outputs.parameters.retrieve-best-run-max_iter}}\"}]},\"dependencies\":[\"bigquery-query\",\"bigquery-query-2\",\"retrieve-best-run\"]}]}},{\"name\":\"deploying-a-trained-model-to-cloud-machine-learning-engine\",\"arguments\":{},\"inputs\":{\"parameters\":[{\"name\":\"model_id\"},{\"name\":\"project_id\"},{\"name\":\"replace_existing_version\"},{\"name\":\"submitting-a-cloud-ml-training-job-as-a-pipeline-step-2-job_dir\"},{\"name\":\"version_id\"}]},\"outputs\":{\"artifacts\":[{\"name\":\"mlpipeline-ui-metadata\",\"path\":\"/tmp/outputs/MLPipeline_UI_metadata/data\",\"optional\":true},{\"name\":\"deploying-a-trained-model-to-cloud-machine-learning-engine-model_name\",\"path\":\"/tmp/kfp/output/ml_engine/model_name.txt\"},{\"name\":\"deploying-a-trained-model-to-cloud-machine-learning-engine-model_uri\",\"path\":\"/tmp/kfp/output/ml_engine/model_uri.txt\"},{\"name\":\"deploying-a-trained-model-to-cloud-machine-learning-engine-version_name\",\"path\":\"/tmp/kfp/output/ml_engine/version_name.txt\"}]},\"metadata\":{\"annotations\":{\"pipelines.kubeflow.org/component_spec\":\"{\\\\\"description\\\\\": \\\\\"A Kubeflow Pipeline component to deploy a trained model from a Cloud Storage\\\\\\\\npath to a Cloud Machine Learning Engine service.\\\\\\\\n\\\\\", \\\\\"inputs\\\\\": [{\\\\\"description\\\\\": \\\\\"Required. The Cloud Storage URI which contains a model file. Commonly  used TF model search paths (export/exporter) will be used if they exist.\\\\\", \\\\\"name\\\\\": \\\\\"model_uri\\\\\", \\\\\"type\\\\\": \\\\\"GCSPath\\\\\"}, {\\\\\"description\\\\\": \\\\\"Required.The ID of the parent project of the serving model.\\\\\", \\\\\"name\\\\\": \\\\\"project_id\\\\\", \\\\\"type\\\\\": \\\\\"GCPProjectID\\\\\"}, {\\\\\"default\\\\\": \\\\\"\\\\\", \\\\\"description\\\\\": \\\\\"Optional. The user-specified name of the model. If it is not provided,  the operation uses a random name.\\\\\", \\\\\"name\\\\\": \\\\\"model_id\\\\\", \\\\\"type\\\\\": \\\\\"String\\\\\"}, {\\\\\"default\\\\\": \\\\\"\\\\\", \\\\\"description\\\\\": \\\\\"Optional. The user-specified name of the version. If it is not provided,  the operation uses a random name.\\\\\", \\\\\"name\\\\\": \\\\\"version_id\\\\\", \\\\\"type\\\\\": \\\\\"String\\\\\"}, {\\\\\"default\\\\\": \\\\\"\\\\\", \\\\\"description\\\\\": \\\\\"Optional. The [Cloud ML Engine runtime version](https://cloud.google.com/ml-engine/docs/tensorflow/runtime-version-list) to use for  this deployment. If it is not set, the Cloud ML Engine uses the default  stable version, 1.0.\\\\\", \\\\\"name\\\\\": \\\\\"runtime_version\\\\\", \\\\\"type\\\\\": \\\\\"String\\\\\"}, {\\\\\"default\\\\\": \\\\\"\\\\\", \\\\\"description\\\\\": \\\\\"Optional. The version of Python used in the prediction. If it is not set,  the default version is `2.7`. Python `3.5` is available when the  runtime_version is set to `1.4` and above. Python `2.7` works with all  supported runtime versions.\\\\\", \\\\\"name\\\\\": \\\\\"python_version\\\\\", \\\\\"type\\\\\": \\\\\"String\\\\\"}, {\\\\\"default\\\\\": \\\\\"\\\\\", \\\\\"description\\\\\": \\\\\"Optional. The JSON payload of the new  [Model](https://cloud.google.com/ml-engine/reference/rest/v1/projects.models), if it does not exist.\\\\\", \\\\\"name\\\\\": \\\\\"model\\\\\", \\\\\"type\\\\\": \\\\\"Dict\\\\\"}, {\\\\\"default\\\\\": \\\\\"\\\\\", \\\\\"description\\\\\": \\\\\"Optional. The JSON payload of the new  [Version](https://cloud.google.com/ml-engine/reference/rest/v1/projects.models.versions).\\\\\", \\\\\"name\\\\\": \\\\\"version\\\\\", \\\\\"type\\\\\": \\\\\"Dict\\\\\"}, {\\\\\"default\\\\\": \\\\\"Fasle\\\\\", \\\\\"description\\\\\": \\\\\"A Boolean flag that indicates whether to replace existing version in case of conflict.\\\\\", \\\\\"name\\\\\": \\\\\"replace_existing_version\\\\\", \\\\\"type\\\\\": \\\\\"Bool\\\\\"}, {\\\\\"default\\\\\": \\\\\"False\\\\\", \\\\\"description\\\\\": \\\\\"A Boolean flag that indicates whether to set the new version as default version in the model.\\\\\", \\\\\"name\\\\\": \\\\\"set_default\\\\\", \\\\\"type\\\\\": \\\\\"Bool\\\\\"}, {\\\\\"default\\\\\": \\\\\"30\\\\\", \\\\\"description\\\\\": \\\\\"A time-interval to wait for in case the operation has a long run time.\\\\\", \\\\\"name\\\\\": \\\\\"wait_interval\\\\\", \\\\\"type\\\\\": \\\\\"Integer\\\\\"}], \\\\\"metadata\\\\\": {\\\\\"labels\\\\\": {\\\\\"add-pod-env\\\\\": \\\\\"true\\\\\"}}, \\\\\"name\\\\\": \\\\\"Deploying a trained model to Cloud Machine Learning Engine\\\\\", \\\\\"outputs\\\\\": [{\\\\\"description\\\\\": \\\\\"The Cloud Storage URI of the trained model.\\\\\", \\\\\"name\\\\\": \\\\\"model_uri\\\\\", \\\\\"type\\\\\": \\\\\"GCSPath\\\\\"}, {\\\\\"description\\\\\": \\\\\"The name of the deployed model.\\\\\", \\\\\"name\\\\\": \\\\\"model_name\\\\\", \\\\\"type\\\\\": \\\\\"String\\\\\"}, {\\\\\"description\\\\\": \\\\\"The name of the deployed version.\\\\\", \\\\\"name\\\\\": \\\\\"version_name\\\\\", \\\\\"type\\\\\": \\\\\"String\\\\\"}, {\\\\\"name\\\\\": \\\\\"MLPipeline UI metadata\\\\\", \\\\\"type\\\\\": \\\\\"UI metadata\\\\\"}]}\",\"sidecar.istio.io/inject\":\"false\"},\"labels\":{\"add-pod-env\":\"true\",\"pipelines.kubeflow.org/cache_enabled\":\"true\"}},\"container\":{\"name\":\"\",\"image\":\"gcr.io/ml-pipeline/ml-pipeline-gcp:e66dcb18607406330f953bf99b04fe7c3ed1a4a8\",\"args\":[\"--ui_metadata_path\",\"/tmp/outputs/MLPipeline_UI_metadata/data\",\"kfp_component.google.ml_engine\",\"deploy\",\"--model_uri\",\"{{inputs.parameters.submitting-a-cloud-ml-training-job-as-a-pipeline-step-2-job_dir}}\",\"--project_id\",\"{{inputs.parameters.project_id}}\",\"--model_id\",\"{{inputs.parameters.model_id}}\",\"--version_id\",\"{{inputs.parameters.version_id}}\",\"--runtime_version\",\"1.15\",\"--python_version\",\"3.7\",\"--model\",\"\",\"--version\",\"\",\"--replace_existing_version\",\"{{inputs.parameters.replace_existing_version}}\",\"--set_default\",\"False\",\"--wait_interval\",\"30\"],\"env\":[{\"name\":\"KFP_POD_NAME\",\"value\":\"{{pod.name}}\"},{\"name\":\"KFP_POD_NAME\",\"valueFrom\":{\"fieldRef\":{\"fieldPath\":\"metadata.name\"}}},{\"name\":\"KFP_NAMESPACE\",\"valueFrom\":{\"fieldRef\":{\"fieldPath\":\"metadata.namespace\"}}}],\"resources\":{}}},{\"name\":\"evaluate-model\",\"arguments\":{},\"inputs\":{\"parameters\":[{\"name\":\"bigquery-query-3-output_gcs_path\"},{\"name\":\"evaluation_metric_name\"},{\"name\":\"submitting-a-cloud-ml-training-job-as-a-pipeline-step-2-job_dir\"}]},\"outputs\":{\"parameters\":[{\"name\":\"evaluate-model-metric_value\",\"valueFrom\":{\"path\":\"/tmp/outputs/metric_value/data\"}}],\"artifacts\":[{\"name\":\"mlpipeline-metrics\",\"path\":\"/tmp/outputs/mlpipeline_metrics/data\",\"optional\":true},{\"name\":\"evaluate-model-metric_name\",\"path\":\"/tmp/outputs/metric_name/data\"},{\"name\":\"evaluate-model-metric_value\",\"path\":\"/tmp/outputs/metric_value/data\"}]},\"metadata\":{\"annotations\":{\"pipelines.kubeflow.org/component_spec\":\"{\\\\\"description\\\\\": \\\\\"Evaluates a trained sklearn model.\\\\\", \\\\\"inputs\\\\\": [{\\\\\"name\\\\\": \\\\\"dataset_path\\\\\", \\\\\"type\\\\\": \\\\\"String\\\\\"}, {\\\\\"name\\\\\": \\\\\"model_path\\\\\", \\\\\"type\\\\\": \\\\\"String\\\\\"}, {\\\\\"name\\\\\": \\\\\"metric_name\\\\\", \\\\\"type\\\\\": \\\\\"String\\\\\"}], \\\\\"name\\\\\": \\\\\"Evaluate model\\\\\", \\\\\"outputs\\\\\": [{\\\\\"name\\\\\": \\\\\"metric_name\\\\\", \\\\\"type\\\\\": \\\\\"String\\\\\"}, {\\\\\"name\\\\\": \\\\\"metric_value\\\\\", \\\\\"type\\\\\": \\\\\"Float\\\\\"}, {\\\\\"name\\\\\": \\\\\"mlpipeline_metrics\\\\\", \\\\\"type\\\\\": \\\\\"Metrics\\\\\"}]}\",\"sidecar.istio.io/inject\":\"false\"},\"labels\":{\"pipelines.kubeflow.org/cache_enabled\":\"true\"}},\"container\":{\"name\":\"\",\"image\":\"gcr.io/dna-gcp-data/base_image:test\",\"command\":[\"python3\",\"-u\",\"-c\",\"def evaluate_model(\\\\n    dataset_path , model_path , metric_name \\\\n):      \\\\n                             \\\\n  \\\\\"\\\\\"\\\\\"Evaluates a trained sklearn model.\\\\\"\\\\\"\\\\\"\\\\n  #import joblib\\\\n  import pickle\\\\n  import json\\\\n  import pandas as pd\\\\n  import subprocess\\\\n  import sys\\\\n\\\\n  from sklearn.metrics import accuracy_score, recall_score\\\\n\\\\n  df_test = pd.read_csv(dataset_path)\\\\n\\\\n  X_test = df_test.drop(\\'Cover_Type\\', axis=1)\\\\n  y_test = df_test[\\'Cover_Type\\']\\\\n\\\\n  # Copy the model from GCS\\\\n  model_filename = \\'model.pkl\\'\\\\n  gcs_model_filepath = \\'{}/{}\\'.format(model_path, model_filename)\\\\n  print(gcs_model_filepath)\\\\n  subprocess.check_call([\\'gsutil\\', \\'cp\\', gcs_model_filepath, model_filename],\\\\n                        stderr=sys.stdout)\\\\n\\\\n  with open(model_filename, \\'rb\\') as model_file:\\\\n    model = pickle.load(model_file)\\\\n\\\\n  y_hat = model.predict(X_test)\\\\n\\\\n  if metric_name == \\'accuracy\\':\\\\n    metric_value = accuracy_score(y_test, y_hat)\\\\n  elif metric_name == \\'recall\\':\\\\n    metric_value = recall_score(y_test, y_hat)\\\\n  else:\\\\n    metric_name = \\'N/A\\'\\\\n    metric_value = 0\\\\n\\\\n  # Export the metric\\\\n  metrics = {\\\\n      \\'metrics\\': [{\\\\n          \\'name\\': metric_name,\\\\n          \\'numberValue\\': float(metric_value)\\\\n      }]\\\\n  }\\\\n\\\\n  return (metric_name, metric_value, json.dumps(metrics))\\\\n\\\\ndef _serialize_float(float_value: float) -\\\\u003e str:\\\\n    if isinstance(float_value, str):\\\\n        return float_value\\\\n    if not isinstance(float_value, (float, int)):\\\\n        raise TypeError(\\'Value \\\\\"{}\\\\\" has type \\\\\"{}\\\\\" instead of float.\\'.format(str(float_value), str(type(float_value))))\\\\n    return str(float_value)\\\\n\\\\ndef _serialize_str(str_value: str) -\\\\u003e str:\\\\n    if not isinstance(str_value, str):\\\\n        raise TypeError(\\'Value \\\\\"{}\\\\\" has type \\\\\"{}\\\\\" instead of str.\\'.format(str(str_value), str(type(str_value))))\\\\n    return str_value\\\\n\\\\nimport argparse\\\\n_parser = argparse.ArgumentParser(prog=\\'Evaluate model\\', description=\\'Evaluates a trained sklearn model.\\')\\\\n_parser.add_argument(\\\\\"--dataset-path\\\\\", dest=\\\\\"dataset_path\\\\\", type=str, required=True, default=argparse.SUPPRESS)\\\\n_parser.add_argument(\\\\\"--model-path\\\\\", dest=\\\\\"model_path\\\\\", type=str, required=True, default=argparse.SUPPRESS)\\\\n_parser.add_argument(\\\\\"--metric-name\\\\\", dest=\\\\\"metric_name\\\\\", type=str, required=True, default=argparse.SUPPRESS)\\\\n_parser.add_argument(\\\\\"----output-paths\\\\\", dest=\\\\\"_output_paths\\\\\", type=str, nargs=3)\\\\n_parsed_args = vars(_parser.parse_args())\\\\n_output_files = _parsed_args.pop(\\\\\"_output_paths\\\\\", [])\\\\n\\\\n_outputs = evaluate_model(**_parsed_args)\\\\n\\\\nif not hasattr(_outputs, \\'__getitem__\\') or isinstance(_outputs, str):\\\\n    _outputs = [_outputs]\\\\n\\\\n_output_serializers = [\\\\n    _serialize_str,\\\\n    _serialize_float,\\\\n    str,\\\\n\\\\n]\\\\n\\\\nimport os\\\\nfor idx, output_file in enumerate(_output_files):\\\\n    try:\\\\n        os.makedirs(os.path.dirname(output_file))\\\\n    except OSError:\\\\n        pass\\\\n    with open(output_file, \\'w\\') as f:\\\\n        f.write(_output_serializers[idx](_outputs[idx]))\\\\n\"],\"args\":[\"--dataset-path\",\"{{inputs.parameters.bigquery-query-3-output_gcs_path}}\",\"--model-path\",\"{{inputs.parameters.submitting-a-cloud-ml-training-job-as-a-pipeline-step-2-job_dir}}\",\"--metric-name\",\"{{inputs.parameters.evaluation_metric_name}}\",\"----output-paths\",\"/tmp/outputs/metric_name/data\",\"/tmp/outputs/metric_value/data\",\"/tmp/outputs/mlpipeline_metrics/data\"],\"resources\":{}}},{\"name\":\"retrieve-best-run\",\"arguments\":{},\"inputs\":{\"parameters\":[{\"name\":\"project_id\"},{\"name\":\"submitting-a-cloud-ml-training-job-as-a-pipeline-step-job_id\"}]},\"outputs\":{\"parameters\":[{\"name\":\"retrieve-best-run-alpha\",\"valueFrom\":{\"path\":\"/tmp/outputs/alpha/data\"}},{\"name\":\"retrieve-best-run-max_iter\",\"valueFrom\":{\"path\":\"/tmp/outputs/max_iter/data\"}}],\"artifacts\":[{\"name\":\"retrieve-best-run-alpha\",\"path\":\"/tmp/outputs/alpha/data\"},{\"name\":\"retrieve-best-run-max_iter\",\"path\":\"/tmp/outputs/max_iter/data\"},{\"name\":\"retrieve-best-run-metric_value\",\"path\":\"/tmp/outputs/metric_value/data\"}]},\"metadata\":{\"annotations\":{\"pipelines.kubeflow.org/component_spec\":\"{\\\\\"description\\\\\": \\\\\"Retrieves the parameters of the best Hypertune run.\\\\\", \\\\\"inputs\\\\\": [{\\\\\"name\\\\\": \\\\\"project_id\\\\\", \\\\\"type\\\\\": \\\\\"String\\\\\"}, {\\\\\"name\\\\\": \\\\\"job_id\\\\\", \\\\\"type\\\\\": \\\\\"String\\\\\"}], \\\\\"name\\\\\": \\\\\"Retrieve best run\\\\\", \\\\\"outputs\\\\\": [{\\\\\"name\\\\\": \\\\\"metric_value\\\\\", \\\\\"type\\\\\": \\\\\"Float\\\\\"}, {\\\\\"name\\\\\": \\\\\"alpha\\\\\", \\\\\"type\\\\\": \\\\\"Float\\\\\"}, {\\\\\"name\\\\\": \\\\\"max_iter\\\\\", \\\\\"type\\\\\": \\\\\"Integer\\\\\"}]}\",\"sidecar.istio.io/inject\":\"false\"},\"labels\":{\"pipelines.kubeflow.org/cache_enabled\":\"true\"}},\"container\":{\"name\":\"\",\"image\":\"gcr.io/dna-gcp-data/base_image:test\",\"command\":[\"python3\",\"-u\",\"-c\",\"def retrieve_best_run(\\\\n    project_id , job_id \\\\n):      \\\\n                             \\\\n  \\\\\"\\\\\"\\\\\"Retrieves the parameters of the best Hypertune run.\\\\\"\\\\\"\\\\\"\\\\n\\\\n  from googleapiclient import discovery\\\\n  from googleapiclient import errors\\\\n\\\\n  ml = discovery.build(\\'ml\\', \\'v1\\')\\\\n\\\\n  job_name = \\'projects/{}/jobs/{}\\'.format(project_id, job_id)\\\\n  request = ml.projects().jobs().get(name=job_name)\\\\n\\\\n  try:\\\\n    response = request.execute()\\\\n  except errors.HttpError as err:\\\\n    print(err)\\\\n  except:\\\\n    print(\\'Unexpected error\\')\\\\n\\\\n  print(response)\\\\n\\\\n  best_trial = response[\\'trainingOutput\\'][\\'trials\\'][0]\\\\n\\\\n  metric_value = best_trial[\\'finalMetric\\'][\\'objectiveValue\\']\\\\n  alpha = float(best_trial[\\'hyperparameters\\'][\\'alpha\\'])\\\\n  max_iter = int(best_trial[\\'hyperparameters\\'][\\'max_iter\\'])\\\\n\\\\n  return (metric_value, alpha, max_iter)\\\\n\\\\ndef _serialize_float(float_value: float) -\\\\u003e str:\\\\n    if isinstance(float_value, str):\\\\n        return float_value\\\\n    if not isinstance(float_value, (float, int)):\\\\n        raise TypeError(\\'Value \\\\\"{}\\\\\" has type \\\\\"{}\\\\\" instead of float.\\'.format(str(float_value), str(type(float_value))))\\\\n    return str(float_value)\\\\n\\\\ndef _serialize_int(int_value: int) -\\\\u003e str:\\\\n    if isinstance(int_value, str):\\\\n        return int_value\\\\n    if not isinstance(int_value, int):\\\\n        raise TypeError(\\'Value \\\\\"{}\\\\\" has type \\\\\"{}\\\\\" instead of int.\\'.format(str(int_value), str(type(int_value))))\\\\n    return str(int_value)\\\\n\\\\nimport argparse\\\\n_parser = argparse.ArgumentParser(prog=\\'Retrieve best run\\', description=\\'Retrieves the parameters of the best Hypertune run.\\')\\\\n_parser.add_argument(\\\\\"--project-id\\\\\", dest=\\\\\"project_id\\\\\", type=str, required=True, default=argparse.SUPPRESS)\\\\n_parser.add_argument(\\\\\"--job-id\\\\\", dest=\\\\\"job_id\\\\\", type=str, required=True, default=argparse.SUPPRESS)\\\\n_parser.add_argument(\\\\\"----output-paths\\\\\", dest=\\\\\"_output_paths\\\\\", type=str, nargs=3)\\\\n_parsed_args = vars(_parser.parse_args())\\\\n_output_files = _parsed_args.pop(\\\\\"_output_paths\\\\\", [])\\\\n\\\\n_outputs = retrieve_best_run(**_parsed_args)\\\\n\\\\nif not hasattr(_outputs, \\'__getitem__\\') or isinstance(_outputs, str):\\\\n    _outputs = [_outputs]\\\\n\\\\n_output_serializers = [\\\\n    _serialize_float,\\\\n    _serialize_float,\\\\n    _serialize_int,\\\\n\\\\n]\\\\n\\\\nimport os\\\\nfor idx, output_file in enumerate(_output_files):\\\\n    try:\\\\n        os.makedirs(os.path.dirname(output_file))\\\\n    except OSError:\\\\n        pass\\\\n    with open(output_file, \\'w\\') as f:\\\\n        f.write(_output_serializers[idx](_outputs[idx]))\\\\n\"],\"args\":[\"--project-id\",\"{{inputs.parameters.project_id}}\",\"--job-id\",\"{{inputs.parameters.submitting-a-cloud-ml-training-job-as-a-pipeline-step-job_id}}\",\"----output-paths\",\"/tmp/outputs/metric_value/data\",\"/tmp/outputs/alpha/data\",\"/tmp/outputs/max_iter/data\"],\"resources\":{}}},{\"name\":\"submitting-a-cloud-ml-training-job-as-a-pipeline-step\",\"arguments\":{},\"inputs\":{\"parameters\":[{\"name\":\"bigquery-query-2-output_gcs_path\"},{\"name\":\"bigquery-query-output_gcs_path\"},{\"name\":\"gcs_root\"},{\"name\":\"hypertune_settings\"},{\"name\":\"project_id\"},{\"name\":\"region\"}]},\"outputs\":{\"parameters\":[{\"name\":\"submitting-a-cloud-ml-training-job-as-a-pipeline-step-job_id\",\"valueFrom\":{\"path\":\"/tmp/kfp/output/ml_engine/job_id.txt\"}}],\"artifacts\":[{\"name\":\"mlpipeline-ui-metadata\",\"path\":\"/tmp/outputs/MLPipeline_UI_metadata/data\",\"optional\":true},{\"name\":\"submitting-a-cloud-ml-training-job-as-a-pipeline-step-job_dir\",\"path\":\"/tmp/kfp/output/ml_engine/job_dir.txt\"},{\"name\":\"submitting-a-cloud-ml-training-job-as-a-pipeline-step-job_id\",\"path\":\"/tmp/kfp/output/ml_engine/job_id.txt\"}]},\"metadata\":{\"annotations\":{\"pipelines.kubeflow.org/component_spec\":\"{\\\\\"description\\\\\": \\\\\"A Kubeflow Pipeline component to submit a Cloud Machine Learning (Cloud ML) \\\\\\\\nEngine training job as a step in a pipeline.\\\\\\\\n\\\\\", \\\\\"inputs\\\\\": [{\\\\\"description\\\\\": \\\\\"Required. The ID of the parent project of the job.\\\\\", \\\\\"name\\\\\": \\\\\"project_id\\\\\", \\\\\"type\\\\\": \\\\\"GCPProjectID\\\\\"}, {\\\\\"default\\\\\": \\\\\"\\\\\", \\\\\"description\\\\\": \\\\\"The Python module name to run after installing the packages.\\\\\", \\\\\"name\\\\\": \\\\\"python_module\\\\\", \\\\\"type\\\\\": \\\\\"String\\\\\"}, {\\\\\"default\\\\\": \\\\\"\\\\\", \\\\\"description\\\\\": \\\\\"The Cloud Storage location of the packages (that contain the training program  and any additional dependencies). The maximum number of package URIs is 100.\\\\\", \\\\\"name\\\\\": \\\\\"package_uris\\\\\", \\\\\"type\\\\\": \\\\\"List\\\\\"}, {\\\\\"default\\\\\": \\\\\"\\\\\", \\\\\"description\\\\\": \\\\\"The Compute Engine region in which the training job is run.\\\\\", \\\\\"name\\\\\": \\\\\"region\\\\\", \\\\\"type\\\\\": \\\\\"GCPRegion\\\\\"}, {\\\\\"default\\\\\": \\\\\"\\\\\", \\\\\"description\\\\\": \\\\\"The command line arguments to pass to the program.\\\\\", \\\\\"name\\\\\": \\\\\"args\\\\\", \\\\\"type\\\\\": \\\\\"List\\\\\"}, {\\\\\"default\\\\\": \\\\\"\\\\\", \\\\\"description\\\\\": \\\\\"A Cloud Storage path in which to store the training outputs and other data  needed for training. This path is passed to your TensorFlow program as the  `job-dir` command-line argument. The benefit of specifying this field is  that Cloud ML validates the path for use in training.\\\\\", \\\\\"name\\\\\": \\\\\"job_dir\\\\\", \\\\\"type\\\\\": \\\\\"GCSPath\\\\\"}, {\\\\\"default\\\\\": \\\\\"\\\\\", \\\\\"description\\\\\": \\\\\"The version of Python used in training. If not set, the default version is `2.7`. Python `3.5` is available when runtimeVersion is set to `1.4` and above.\\\\\", \\\\\"name\\\\\": \\\\\"python_version\\\\\", \\\\\"type\\\\\": \\\\\"String\\\\\"}, {\\\\\"default\\\\\": \\\\\"\\\\\", \\\\\"description\\\\\": \\\\\"The Cloud ML Engine runtime version to use for training. If not set, Cloud ML Engine uses the default stable version, 1.0.\\\\\", \\\\\"name\\\\\": \\\\\"runtime_version\\\\\", \\\\\"type\\\\\": \\\\\"String\\\\\"}, {\\\\\"default\\\\\": \\\\\"\\\\\", \\\\\"description\\\\\": \\\\\"The Docker image to run on the master replica. This image must be in Container Registry.\\\\\", \\\\\"name\\\\\": \\\\\"master_image_uri\\\\\", \\\\\"type\\\\\": \\\\\"GCRPath\\\\\"}, {\\\\\"default\\\\\": \\\\\"\\\\\", \\\\\"description\\\\\": \\\\\"The Docker image to run on the worker replica. This image must be in Container Registry.\\\\\", \\\\\"name\\\\\": \\\\\"worker_image_uri\\\\\", \\\\\"type\\\\\": \\\\\"GCRPath\\\\\"}, {\\\\\"default\\\\\": \\\\\"\\\\\", \\\\\"description\\\\\": \\\\\"The input parameters to create a training job. It is the JSON payload  of a [TrainingInput](https://cloud.google.com/ml-engine/reference/rest/v1/projects.jobs#TrainingInput)\\\\\", \\\\\"name\\\\\": \\\\\"training_input\\\\\", \\\\\"type\\\\\": \\\\\"Dict\\\\\"}, {\\\\\"default\\\\\": \\\\\"\\\\\", \\\\\"description\\\\\": \\\\\"The prefix of the generated job id.\\\\\", \\\\\"name\\\\\": \\\\\"job_id_prefix\\\\\", \\\\\"type\\\\\": \\\\\"String\\\\\"}, {\\\\\"default\\\\\": \\\\\"30\\\\\", \\\\\"description\\\\\": \\\\\"Optional. A time-interval to wait for between calls to get the job status.  Defaults to 30.\\'\\\\\", \\\\\"name\\\\\": \\\\\"wait_interval\\\\\", \\\\\"type\\\\\": \\\\\"Integer\\\\\"}], \\\\\"metadata\\\\\": {\\\\\"labels\\\\\": {\\\\\"add-pod-env\\\\\": \\\\\"true\\\\\"}}, \\\\\"name\\\\\": \\\\\"Submitting a Cloud ML training job as a pipeline step\\\\\", \\\\\"outputs\\\\\": [{\\\\\"description\\\\\": \\\\\"The ID of the created job.\\\\\", \\\\\"name\\\\\": \\\\\"job_id\\\\\", \\\\\"type\\\\\": \\\\\"String\\\\\"}, {\\\\\"description\\\\\": \\\\\"The output path in Cloud Storage of the trainning job, which contains  the trained model files.\\\\\", \\\\\"name\\\\\": \\\\\"job_dir\\\\\", \\\\\"type\\\\\": \\\\\"GCSPath\\\\\"}, {\\\\\"name\\\\\": \\\\\"MLPipeline UI metadata\\\\\", \\\\\"type\\\\\": \\\\\"UI metadata\\\\\"}]}\",\"sidecar.istio.io/inject\":\"false\"},\"labels\":{\"add-pod-env\":\"true\",\"pipelines.kubeflow.org/cache_enabled\":\"true\"}},\"container\":{\"name\":\"\",\"image\":\"gcr.io/ml-pipeline/ml-pipeline-gcp:e66dcb18607406330f953bf99b04fe7c3ed1a4a8\",\"args\":[\"--ui_metadata_path\",\"/tmp/outputs/MLPipeline_UI_metadata/data\",\"kfp_component.google.ml_engine\",\"train\",\"--project_id\",\"{{inputs.parameters.project_id}}\",\"--python_module\",\"\",\"--package_uris\",\"\",\"--region\",\"{{inputs.parameters.region}}\",\"--args\",\"[\\\\\"--training_dataset_path\\\\\", \\\\\"{{inputs.parameters.bigquery-query-output_gcs_path}}\\\\\", \\\\\"--validation_dataset_path\\\\\", \\\\\"{{inputs.parameters.bigquery-query-2-output_gcs_path}}\\\\\", \\\\\"--hptune\\\\\", \\\\\"True\\\\\"]\",\"--job_dir\",\"{{inputs.parameters.gcs_root}}/jobdir/hypertune/d16368c5-24bb-4292-9060-315755f79b0b\",\"--python_version\",\"\",\"--runtime_version\",\"\",\"--master_image_uri\",\"gcr.io/dna-gcp-data/trainer_image:test\",\"--worker_image_uri\",\"\",\"--training_input\",\"{{inputs.parameters.hypertune_settings}}\",\"--job_id_prefix\",\"\",\"--wait_interval\",\"30\"],\"env\":[{\"name\":\"KFP_POD_NAME\",\"value\":\"{{pod.name}}\"},{\"name\":\"KFP_POD_NAME\",\"valueFrom\":{\"fieldRef\":{\"fieldPath\":\"metadata.name\"}}},{\"name\":\"KFP_NAMESPACE\",\"valueFrom\":{\"fieldRef\":{\"fieldPath\":\"metadata.namespace\"}}}],\"resources\":{}}},{\"name\":\"submitting-a-cloud-ml-training-job-as-a-pipeline-step-2\",\"arguments\":{},\"inputs\":{\"parameters\":[{\"name\":\"bigquery-query-2-output_gcs_path\"},{\"name\":\"bigquery-query-output_gcs_path\"},{\"name\":\"gcs_root\"},{\"name\":\"project_id\"},{\"name\":\"region\"},{\"name\":\"retrieve-best-run-alpha\"},{\"name\":\"retrieve-best-run-max_iter\"}]},\"outputs\":{\"parameters\":[{\"name\":\"submitting-a-cloud-ml-training-job-as-a-pipeline-step-2-job_dir\",\"valueFrom\":{\"path\":\"/tmp/kfp/output/ml_engine/job_dir.txt\"}}],\"artifacts\":[{\"name\":\"mlpipeline-ui-metadata\",\"path\":\"/tmp/outputs/MLPipeline_UI_metadata/data\",\"optional\":true},{\"name\":\"submitting-a-cloud-ml-training-job-as-a-pipeline-step-2-job_dir\",\"path\":\"/tmp/kfp/output/ml_engine/job_dir.txt\"},{\"name\":\"submitting-a-cloud-ml-training-job-as-a-pipeline-step-2-job_id\",\"path\":\"/tmp/kfp/output/ml_engine/job_id.txt\"}]},\"metadata\":{\"annotations\":{\"pipelines.kubeflow.org/component_spec\":\"{\\\\\"description\\\\\": \\\\\"A Kubeflow Pipeline component to submit a Cloud Machine Learning (Cloud ML) \\\\\\\\nEngine training job as a step in a pipeline.\\\\\\\\n\\\\\", \\\\\"inputs\\\\\": [{\\\\\"description\\\\\": \\\\\"Required. The ID of the parent project of the job.\\\\\", \\\\\"name\\\\\": \\\\\"project_id\\\\\", \\\\\"type\\\\\": \\\\\"GCPProjectID\\\\\"}, {\\\\\"default\\\\\": \\\\\"\\\\\", \\\\\"description\\\\\": \\\\\"The Python module name to run after installing the packages.\\\\\", \\\\\"name\\\\\": \\\\\"python_module\\\\\", \\\\\"type\\\\\": \\\\\"String\\\\\"}, {\\\\\"default\\\\\": \\\\\"\\\\\", \\\\\"description\\\\\": \\\\\"The Cloud Storage location of the packages (that contain the training program  and any additional dependencies). The maximum number of package URIs is 100.\\\\\", \\\\\"name\\\\\": \\\\\"package_uris\\\\\", \\\\\"type\\\\\": \\\\\"List\\\\\"}, {\\\\\"default\\\\\": \\\\\"\\\\\", \\\\\"description\\\\\": \\\\\"The Compute Engine region in which the training job is run.\\\\\", \\\\\"name\\\\\": \\\\\"region\\\\\", \\\\\"type\\\\\": \\\\\"GCPRegion\\\\\"}, {\\\\\"default\\\\\": \\\\\"\\\\\", \\\\\"description\\\\\": \\\\\"The command line arguments to pass to the program.\\\\\", \\\\\"name\\\\\": \\\\\"args\\\\\", \\\\\"type\\\\\": \\\\\"List\\\\\"}, {\\\\\"default\\\\\": \\\\\"\\\\\", \\\\\"description\\\\\": \\\\\"A Cloud Storage path in which to store the training outputs and other data  needed for training. This path is passed to your TensorFlow program as the  `job-dir` command-line argument. The benefit of specifying this field is  that Cloud ML validates the path for use in training.\\\\\", \\\\\"name\\\\\": \\\\\"job_dir\\\\\", \\\\\"type\\\\\": \\\\\"GCSPath\\\\\"}, {\\\\\"default\\\\\": \\\\\"\\\\\", \\\\\"description\\\\\": \\\\\"The version of Python used in training. If not set, the default version is `2.7`. Python `3.5` is available when runtimeVersion is set to `1.4` and above.\\\\\", \\\\\"name\\\\\": \\\\\"python_version\\\\\", \\\\\"type\\\\\": \\\\\"String\\\\\"}, {\\\\\"default\\\\\": \\\\\"\\\\\", \\\\\"description\\\\\": \\\\\"The Cloud ML Engine runtime version to use for training. If not set, Cloud ML Engine uses the default stable version, 1.0.\\\\\", \\\\\"name\\\\\": \\\\\"runtime_version\\\\\", \\\\\"type\\\\\": \\\\\"String\\\\\"}, {\\\\\"default\\\\\": \\\\\"\\\\\", \\\\\"description\\\\\": \\\\\"The Docker image to run on the master replica. This image must be in Container Registry.\\\\\", \\\\\"name\\\\\": \\\\\"master_image_uri\\\\\", \\\\\"type\\\\\": \\\\\"GCRPath\\\\\"}, {\\\\\"default\\\\\": \\\\\"\\\\\", \\\\\"description\\\\\": \\\\\"The Docker image to run on the worker replica. This image must be in Container Registry.\\\\\", \\\\\"name\\\\\": \\\\\"worker_image_uri\\\\\", \\\\\"type\\\\\": \\\\\"GCRPath\\\\\"}, {\\\\\"default\\\\\": \\\\\"\\\\\", \\\\\"description\\\\\": \\\\\"The input parameters to create a training job. It is the JSON payload  of a [TrainingInput](https://cloud.google.com/ml-engine/reference/rest/v1/projects.jobs#TrainingInput)\\\\\", \\\\\"name\\\\\": \\\\\"training_input\\\\\", \\\\\"type\\\\\": \\\\\"Dict\\\\\"}, {\\\\\"default\\\\\": \\\\\"\\\\\", \\\\\"description\\\\\": \\\\\"The prefix of the generated job id.\\\\\", \\\\\"name\\\\\": \\\\\"job_id_prefix\\\\\", \\\\\"type\\\\\": \\\\\"String\\\\\"}, {\\\\\"default\\\\\": \\\\\"30\\\\\", \\\\\"description\\\\\": \\\\\"Optional. A time-interval to wait for between calls to get the job status.  Defaults to 30.\\'\\\\\", \\\\\"name\\\\\": \\\\\"wait_interval\\\\\", \\\\\"type\\\\\": \\\\\"Integer\\\\\"}], \\\\\"metadata\\\\\": {\\\\\"labels\\\\\": {\\\\\"add-pod-env\\\\\": \\\\\"true\\\\\"}}, \\\\\"name\\\\\": \\\\\"Submitting a Cloud ML training job as a pipeline step\\\\\", \\\\\"outputs\\\\\": [{\\\\\"description\\\\\": \\\\\"The ID of the created job.\\\\\", \\\\\"name\\\\\": \\\\\"job_id\\\\\", \\\\\"type\\\\\": \\\\\"String\\\\\"}, {\\\\\"description\\\\\": \\\\\"The output path in Cloud Storage of the trainning job, which contains  the trained model files.\\\\\", \\\\\"name\\\\\": \\\\\"job_dir\\\\\", \\\\\"type\\\\\": \\\\\"GCSPath\\\\\"}, {\\\\\"name\\\\\": \\\\\"MLPipeline UI metadata\\\\\", \\\\\"type\\\\\": \\\\\"UI metadata\\\\\"}]}\",\"sidecar.istio.io/inject\":\"false\"},\"labels\":{\"add-pod-env\":\"true\",\"pipelines.kubeflow.org/cache_enabled\":\"true\"}},\"container\":{\"name\":\"\",\"image\":\"gcr.io/ml-pipeline/ml-pipeline-gcp:e66dcb18607406330f953bf99b04fe7c3ed1a4a8\",\"args\":[\"--ui_metadata_path\",\"/tmp/outputs/MLPipeline_UI_metadata/data\",\"kfp_component.google.ml_engine\",\"train\",\"--project_id\",\"{{inputs.parameters.project_id}}\",\"--python_module\",\"\",\"--package_uris\",\"\",\"--region\",\"{{inputs.parameters.region}}\",\"--args\",\"[\\\\\"--training_dataset_path\\\\\", \\\\\"{{inputs.parameters.bigquery-query-output_gcs_path}}\\\\\", \\\\\"--validation_dataset_path\\\\\", \\\\\"{{inputs.parameters.bigquery-query-2-output_gcs_path}}\\\\\", \\\\\"--alpha\\\\\", \\\\\"{{inputs.parameters.retrieve-best-run-alpha}}\\\\\", \\\\\"--max_iter\\\\\", \\\\\"{{inputs.parameters.retrieve-best-run-max_iter}}\\\\\", \\\\\"--hptune\\\\\", \\\\\"False\\\\\"]\",\"--job_dir\",\"{{inputs.parameters.gcs_root}}/jobdir/d16368c5-24bb-4292-9060-315755f79b0b\",\"--python_version\",\"\",\"--runtime_version\",\"\",\"--master_image_uri\",\"gcr.io/dna-gcp-data/trainer_image:test\",\"--worker_image_uri\",\"\",\"--training_input\",\"\",\"--job_id_prefix\",\"\",\"--wait_interval\",\"30\"],\"env\":[{\"name\":\"KFP_POD_NAME\",\"value\":\"{{pod.name}}\"},{\"name\":\"KFP_POD_NAME\",\"valueFrom\":{\"fieldRef\":{\"fieldPath\":\"metadata.name\"}}},{\"name\":\"KFP_NAMESPACE\",\"valueFrom\":{\"fieldRef\":{\"fieldPath\":\"metadata.namespace\"}}}],\"resources\":{}}}],\"entrypoint\":\"covertype-classifier-training\",\"arguments\":{\"parameters\":[{\"name\":\"project_id\",\"value\":\"dna-gcp-data\"},{\"name\":\"region\",\"value\":\"us-central1\"},{\"name\":\"source_table_name\",\"value\":\"covertype_dataset.covertype\"},{\"name\":\"gcs_root\",\"value\":\"gs://dna-gcp-data-kubeflowpipelines-default/staging\"},{\"name\":\"dataset_id\",\"value\":\"covertype_dataset\"},{\"name\":\"evaluation_metric_name\",\"value\":\"accuracy\"},{\"name\":\"evaluation_metric_threshold\",\"value\":\"0.69\"},{\"name\":\"model_id\",\"value\":\"covertype_classifier\"},{\"name\":\"version_id\",\"value\":\"v01\"},{\"name\":\"replace_existing_version\",\"value\":\"True\"},{\"name\":\"hypertune_settings\",\"value\":\"{\\\\n    \\\\\"hyperparameters\\\\\":  {\\\\n        \\\\\"goal\\\\\": \\\\\"MAXIMIZE\\\\\",\\\\n        \\\\\"maxTrials\\\\\": 6,\\\\n        \\\\\"maxParallelTrials\\\\\": 3,\\\\n        \\\\\"hyperparameterMetricTag\\\\\": \\\\\"accuracy\\\\\",\\\\n        \\\\\"enableTrialEarlyStopping\\\\\": True,\\\\n        \\\\\"params\\\\\": [\\\\n            {\\\\n                \\\\\"parameterName\\\\\": \\\\\"max_iter\\\\\",\\\\n                \\\\\"type\\\\\": \\\\\"DISCRETE\\\\\",\\\\n                \\\\\"discreteValues\\\\\": [500, 1000]\\\\n            },\\\\n            {\\\\n                \\\\\"parameterName\\\\\": \\\\\"alpha\\\\\",\\\\n                \\\\\"type\\\\\": \\\\\"DOUBLE\\\\\",\\\\n                \\\\\"minValue\\\\\": 0.0001,\\\\n                \\\\\"maxValue\\\\\": 0.001,\\\\n                \\\\\"scaleType\\\\\": \\\\\"UNIT_LINEAR_SCALE\\\\\"\\\\n            }\\\\n        ]\\\\n    }\\\\n}\"},{\"name\":\"dataset_location\",\"value\":\"US\"}]},\"serviceAccountName\":\"pipeline-runner\"},\"status\":{\"phase\":\"Succeeded\",\"startedAt\":\"2021-05-21T08:46:52Z\",\"finishedAt\":\"2021-05-21T09:10:48Z\",\"nodes\":{\"covertype-classifier-training-qmb6n\":{\"id\":\"covertype-classifier-training-qmb6n\",\"name\":\"covertype-classifier-training-qmb6n\",\"displayName\":\"covertype-classifier-training-qmb6n\",\"type\":\"DAG\",\"templateName\":\"covertype-classifier-training\",\"phase\":\"Succeeded\",\"startedAt\":\"2021-05-21T08:46:52Z\",\"finishedAt\":\"2021-05-21T09:10:48Z\",\"inputs\":{\"parameters\":[{\"name\":\"dataset_id\",\"value\":\"covertype_dataset\"},{\"name\":\"dataset_location\",\"value\":\"US\"},{\"name\":\"evaluation_metric_name\",\"value\":\"accuracy\"},{\"name\":\"evaluation_metric_threshold\",\"value\":\"0.69\"},{\"name\":\"gcs_root\",\"value\":\"gs://dna-gcp-data-kubeflowpipelines-default/staging\"},{\"name\":\"hypertune_settings\",\"value\":\"{\\\\n    \\\\\"hyperparameters\\\\\":  {\\\\n        \\\\\"goal\\\\\": \\\\\"MAXIMIZE\\\\\",\\\\n        \\\\\"maxTrials\\\\\": 6,\\\\n        \\\\\"maxParallelTrials\\\\\": 3,\\\\n        \\\\\"hyperparameterMetricTag\\\\\": \\\\\"accuracy\\\\\",\\\\n        \\\\\"enableTrialEarlyStopping\\\\\": True,\\\\n        \\\\\"params\\\\\": [\\\\n            {\\\\n                \\\\\"parameterName\\\\\": \\\\\"max_iter\\\\\",\\\\n                \\\\\"type\\\\\": \\\\\"DISCRETE\\\\\",\\\\n                \\\\\"discreteValues\\\\\": [500, 1000]\\\\n            },\\\\n            {\\\\n                \\\\\"parameterName\\\\\": \\\\\"alpha\\\\\",\\\\n                \\\\\"type\\\\\": \\\\\"DOUBLE\\\\\",\\\\n                \\\\\"minValue\\\\\": 0.0001,\\\\n                \\\\\"maxValue\\\\\": 0.001,\\\\n                \\\\\"scaleType\\\\\": \\\\\"UNIT_LINEAR_SCALE\\\\\"\\\\n            }\\\\n        ]\\\\n    }\\\\n}\"},{\"name\":\"model_id\",\"value\":\"covertype_classifier\"},{\"name\":\"project_id\",\"value\":\"dna-gcp-data\"},{\"name\":\"region\",\"value\":\"us-central1\"},{\"name\":\"replace_existing_version\",\"value\":\"True\"},{\"name\":\"source_table_name\",\"value\":\"covertype_dataset.covertype\"},{\"name\":\"version_id\",\"value\":\"v01\"}]},\"children\":[\"covertype-classifier-training-qmb6n-1896224863\",\"covertype-classifier-training-qmb6n-1858401567\",\"covertype-classifier-training-qmb6n-1879447244\"],\"outboundNodes\":[\"covertype-classifier-training-qmb6n-2274394652\"]},\"covertype-classifier-training-qmb6n-1057815578\":{\"id\":\"covertype-classifier-training-qmb6n-1057815578\",\"name\":\"covertype-classifier-training-qmb6n.submitting-a-cloud-ml-training-job-as-a-pipeline-step\",\"displayName\":\"submitting-a-cloud-ml-training-job-as-a-pipeline-step\",\"type\":\"Pod\",\"templateName\":\"submitting-a-cloud-ml-training-job-as-a-pipeline-step\",\"phase\":\"Succeeded\",\"boundaryID\":\"covertype-classifier-training-qmb6n\",\"startedAt\":\"2021-05-21T08:47:07Z\",\"finishedAt\":\"2021-05-21T09:01:46Z\",\"inputs\":{\"parameters\":[{\"name\":\"bigquery-query-2-output_gcs_path\",\"value\":\"gs://dna-gcp-data-kubeflowpipelines-default/staging/datasets/validation/data.csv\"},{\"name\":\"bigquery-query-output_gcs_path\",\"value\":\"gs://dna-gcp-data-kubeflowpipelines-default/staging/datasets/training/data.csv\"},{\"name\":\"gcs_root\",\"value\":\"gs://dna-gcp-data-kubeflowpipelines-default/staging\"},{\"name\":\"hypertune_settings\",\"value\":\"{\\\\n    \\\\\"hyperparameters\\\\\":  {\\\\n        \\\\\"goal\\\\\": \\\\\"MAXIMIZE\\\\\",\\\\n        \\\\\"maxTrials\\\\\": 6,\\\\n        \\\\\"maxParallelTrials\\\\\": 3,\\\\n        \\\\\"hyperparameterMetricTag\\\\\": \\\\\"accuracy\\\\\",\\\\n        \\\\\"enableTrialEarlyStopping\\\\\": True,\\\\n        \\\\\"params\\\\\": [\\\\n            {\\\\n                \\\\\"parameterName\\\\\": \\\\\"max_iter\\\\\",\\\\n                \\\\\"type\\\\\": \\\\\"DISCRETE\\\\\",\\\\n                \\\\\"discreteValues\\\\\": [500, 1000]\\\\n            },\\\\n            {\\\\n                \\\\\"parameterName\\\\\": \\\\\"alpha\\\\\",\\\\n                \\\\\"type\\\\\": \\\\\"DOUBLE\\\\\",\\\\n                \\\\\"minValue\\\\\": 0.0001,\\\\n                \\\\\"maxValue\\\\\": 0.001,\\\\n                \\\\\"scaleType\\\\\": \\\\\"UNIT_LINEAR_SCALE\\\\\"\\\\n            }\\\\n        ]\\\\n    }\\\\n}\"},{\"name\":\"project_id\",\"value\":\"dna-gcp-data\"},{\"name\":\"region\",\"value\":\"us-central1\"}]},\"outputs\":{\"parameters\":[{\"name\":\"submitting-a-cloud-ml-training-job-as-a-pipeline-step-job_id\",\"value\":\"job_6432b8d633522e4d387b6335bfbf3639\",\"valueFrom\":{\"path\":\"/tmp/kfp/output/ml_engine/job_id.txt\"}}],\"artifacts\":[{\"name\":\"mlpipeline-ui-metadata\",\"path\":\"/tmp/outputs/MLPipeline_UI_metadata/data\",\"optional\":true},{\"name\":\"submitting-a-cloud-ml-training-job-as-a-pipeline-step-job_dir\",\"path\":\"/tmp/kfp/output/ml_engine/job_dir.txt\",\"s3\":{\"endpoint\":\"minio-service.kfpdemo:9000\",\"bucket\":\"mlpipeline\",\"insecure\":true,\"accessKeySecret\":{\"name\":\"mlpipeline-minio-artifact\",\"key\":\"accesskey\"},\"secretKeySecret\":{\"name\":\"mlpipeline-minio-artifact\",\"key\":\"secretkey\"},\"key\":\"artifacts/covertype-classifier-training-qmb6n/covertype-classifier-training-qmb6n-1057815578/submitting-a-cloud-ml-training-job-as-a-pipeline-step-job_dir.tgz\"}},{\"name\":\"submitting-a-cloud-ml-training-job-as-a-pipeline-step-job_id\",\"path\":\"/tmp/kfp/output/ml_engine/job_id.txt\",\"s3\":{\"endpoint\":\"minio-service.kfpdemo:9000\",\"bucket\":\"mlpipeline\",\"insecure\":true,\"accessKeySecret\":{\"name\":\"mlpipeline-minio-artifact\",\"key\":\"accesskey\"},\"secretKeySecret\":{\"name\":\"mlpipeline-minio-artifact\",\"key\":\"secretkey\"},\"key\":\"artifacts/covertype-classifier-training-qmb6n/covertype-classifier-training-qmb6n-1057815578/submitting-a-cloud-ml-training-job-as-a-pipeline-step-job_id.tgz\"}},{\"name\":\"main-logs\",\"archiveLogs\":true,\"s3\":{\"endpoint\":\"minio-service.kfpdemo:9000\",\"bucket\":\"mlpipeline\",\"insecure\":true,\"accessKeySecret\":{\"name\":\"mlpipeline-minio-artifact\",\"key\":\"accesskey\"},\"secretKeySecret\":{\"name\":\"mlpipeline-minio-artifact\",\"key\":\"secretkey\"},\"key\":\"artifacts/covertype-classifier-training-qmb6n/covertype-classifier-training-qmb6n-1057815578/main.log\"}}]},\"children\":[\"covertype-classifier-training-qmb6n-1075982665\"]},\"covertype-classifier-training-qmb6n-1075982665\":{\"id\":\"covertype-classifier-training-qmb6n-1075982665\",\"name\":\"covertype-classifier-training-qmb6n.retrieve-best-run\",\"displayName\":\"retrieve-best-run\",\"type\":\"Pod\",\"templateName\":\"retrieve-best-run\",\"phase\":\"Succeeded\",\"boundaryID\":\"covertype-classifier-training-qmb6n\",\"startedAt\":\"2021-05-21T09:01:47Z\",\"finishedAt\":\"2021-05-21T09:01:52Z\",\"inputs\":{\"parameters\":[{\"name\":\"project_id\",\"value\":\"dna-gcp-data\"},{\"name\":\"submitting-a-cloud-ml-training-job-as-a-pipeline-step-job_id\",\"value\":\"job_6432b8d633522e4d387b6335bfbf3639\"}]},\"outputs\":{\"parameters\":[{\"name\":\"retrieve-best-run-alpha\",\"value\":\"0.00012415813718618125\",\"valueFrom\":{\"path\":\"/tmp/outputs/alpha/data\"}},{\"name\":\"retrieve-best-run-max_iter\",\"value\":\"500\",\"valueFrom\":{\"path\":\"/tmp/outputs/max_iter/data\"}}],\"artifacts\":[{\"name\":\"retrieve-best-run-alpha\",\"path\":\"/tmp/outputs/alpha/data\",\"s3\":{\"endpoint\":\"minio-service.kfpdemo:9000\",\"bucket\":\"mlpipeline\",\"insecure\":true,\"accessKeySecret\":{\"name\":\"mlpipeline-minio-artifact\",\"key\":\"accesskey\"},\"secretKeySecret\":{\"name\":\"mlpipeline-minio-artifact\",\"key\":\"secretkey\"},\"key\":\"artifacts/covertype-classifier-training-qmb6n/covertype-classifier-training-qmb6n-1075982665/retrieve-best-run-alpha.tgz\"}},{\"name\":\"retrieve-best-run-max_iter\",\"path\":\"/tmp/outputs/max_iter/data\",\"s3\":{\"endpoint\":\"minio-service.kfpdemo:9000\",\"bucket\":\"mlpipeline\",\"insecure\":true,\"accessKeySecret\":{\"name\":\"mlpipeline-minio-artifact\",\"key\":\"accesskey\"},\"secretKeySecret\":{\"name\":\"mlpipeline-minio-artifact\",\"key\":\"secretkey\"},\"key\":\"artifacts/covertype-classifier-training-qmb6n/covertype-classifier-training-qmb6n-1075982665/retrieve-best-run-max_iter.tgz\"}},{\"name\":\"retrieve-best-run-metric_value\",\"path\":\"/tmp/outputs/metric_value/data\",\"s3\":{\"endpoint\":\"minio-service.kfpdemo:9000\",\"bucket\":\"mlpipeline\",\"insecure\":true,\"accessKeySecret\":{\"name\":\"mlpipeline-minio-artifact\",\"key\":\"accesskey\"},\"secretKeySecret\":{\"name\":\"mlpipeline-minio-artifact\",\"key\":\"secretkey\"},\"key\":\"artifacts/covertype-classifier-training-qmb6n/covertype-classifier-training-qmb6n-1075982665/retrieve-best-run-metric_value.tgz\"}},{\"name\":\"main-logs\",\"archiveLogs\":true,\"s3\":{\"endpoint\":\"minio-service.kfpdemo:9000\",\"bucket\":\"mlpipeline\",\"insecure\":true,\"accessKeySecret\":{\"name\":\"mlpipeline-minio-artifact\",\"key\":\"accesskey\"},\"secretKeySecret\":{\"name\":\"mlpipeline-minio-artifact\",\"key\":\"secretkey\"},\"key\":\"artifacts/covertype-classifier-training-qmb6n/covertype-classifier-training-qmb6n-1075982665/main.log\"}}]},\"children\":[\"covertype-classifier-training-qmb6n-1089717477\"]},\"covertype-classifier-training-qmb6n-1089717477\":{\"id\":\"covertype-classifier-training-qmb6n-1089717477\",\"name\":\"covertype-classifier-training-qmb6n.submitting-a-cloud-ml-training-job-as-a-pipeline-step-2\",\"displayName\":\"submitting-a-cloud-ml-training-job-as-a-pipeline-step-2\",\"type\":\"Pod\",\"templateName\":\"submitting-a-cloud-ml-training-job-as-a-pipeline-step-2\",\"phase\":\"Succeeded\",\"boundaryID\":\"covertype-classifier-training-qmb6n\",\"startedAt\":\"2021-05-21T09:01:53Z\",\"finishedAt\":\"2021-05-21T09:08:59Z\",\"inputs\":{\"parameters\":[{\"name\":\"bigquery-query-2-output_gcs_path\",\"value\":\"gs://dna-gcp-data-kubeflowpipelines-default/staging/datasets/validation/data.csv\"},{\"name\":\"bigquery-query-output_gcs_path\",\"value\":\"gs://dna-gcp-data-kubeflowpipelines-default/staging/datasets/training/data.csv\"},{\"name\":\"gcs_root\",\"value\":\"gs://dna-gcp-data-kubeflowpipelines-default/staging\"},{\"name\":\"project_id\",\"value\":\"dna-gcp-data\"},{\"name\":\"region\",\"value\":\"us-central1\"},{\"name\":\"retrieve-best-run-alpha\",\"value\":\"0.00012415813718618125\"},{\"name\":\"retrieve-best-run-max_iter\",\"value\":\"500\"}]},\"outputs\":{\"parameters\":[{\"name\":\"submitting-a-cloud-ml-training-job-as-a-pipeline-step-2-job_dir\",\"value\":\"gs://dna-gcp-data-kubeflowpipelines-default/staging/jobdir/d16368c5-24bb-4292-9060-315755f79b0b\",\"valueFrom\":{\"path\":\"/tmp/kfp/output/ml_engine/job_dir.txt\"}}],\"artifacts\":[{\"name\":\"mlpipeline-ui-metadata\",\"path\":\"/tmp/outputs/MLPipeline_UI_metadata/data\",\"optional\":true},{\"name\":\"submitting-a-cloud-ml-training-job-as-a-pipeline-step-2-job_dir\",\"path\":\"/tmp/kfp/output/ml_engine/job_dir.txt\",\"s3\":{\"endpoint\":\"minio-service.kfpdemo:9000\",\"bucket\":\"mlpipeline\",\"insecure\":true,\"accessKeySecret\":{\"name\":\"mlpipeline-minio-artifact\",\"key\":\"accesskey\"},\"secretKeySecret\":{\"name\":\"mlpipeline-minio-artifact\",\"key\":\"secretkey\"},\"key\":\"artifacts/covertype-classifier-training-qmb6n/covertype-classifier-training-qmb6n-1089717477/submitting-a-cloud-ml-training-job-as-a-pipeline-step-2-job_dir.tgz\"}},{\"name\":\"submitting-a-cloud-ml-training-job-as-a-pipeline-step-2-job_id\",\"path\":\"/tmp/kfp/output/ml_engine/job_id.txt\",\"s3\":{\"endpoint\":\"minio-service.kfpdemo:9000\",\"bucket\":\"mlpipeline\",\"insecure\":true,\"accessKeySecret\":{\"name\":\"mlpipeline-minio-artifact\",\"key\":\"accesskey\"},\"secretKeySecret\":{\"name\":\"mlpipeline-minio-artifact\",\"key\":\"secretkey\"},\"key\":\"artifacts/covertype-classifier-training-qmb6n/covertype-classifier-training-qmb6n-1089717477/submitting-a-cloud-ml-training-job-as-a-pipeline-step-2-job_id.tgz\"}},{\"name\":\"main-logs\",\"archiveLogs\":true,\"s3\":{\"endpoint\":\"minio-service.kfpdemo:9000\",\"bucket\":\"mlpipeline\",\"insecure\":true,\"accessKeySecret\":{\"name\":\"mlpipeline-minio-artifact\",\"key\":\"accesskey\"},\"secretKeySecret\":{\"name\":\"mlpipeline-minio-artifact\",\"key\":\"secretkey\"},\"key\":\"artifacts/covertype-classifier-training-qmb6n/covertype-classifier-training-qmb6n-1089717477/main.log\"}}]},\"children\":[\"covertype-classifier-training-qmb6n-1971586539\",\"covertype-classifier-training-qmb6n-2585557679\"]},\"covertype-classifier-training-qmb6n-1858401567\":{\"id\":\"covertype-classifier-training-qmb6n-1858401567\",\"name\":\"covertype-classifier-training-qmb6n.bigquery-query\",\"displayName\":\"bigquery-query\",\"type\":\"Pod\",\"templateName\":\"bigquery-query\",\"phase\":\"Succeeded\",\"boundaryID\":\"covertype-classifier-training-qmb6n\",\"startedAt\":\"2021-05-21T08:46:52Z\",\"finishedAt\":\"2021-05-21T08:47:05Z\",\"inputs\":{\"parameters\":[{\"name\":\"dataset_id\",\"value\":\"covertype_dataset\"},{\"name\":\"dataset_location\",\"value\":\"US\"},{\"name\":\"gcs_root\",\"value\":\"gs://dna-gcp-data-kubeflowpipelines-default/staging\"},{\"name\":\"project_id\",\"value\":\"dna-gcp-data\"},{\"name\":\"source_table_name\",\"value\":\"covertype_dataset.covertype\"}]},\"outputs\":{\"parameters\":[{\"name\":\"bigquery-query-output_gcs_path\",\"value\":\"gs://dna-gcp-data-kubeflowpipelines-default/staging/datasets/training/data.csv\",\"valueFrom\":{\"path\":\"/tmp/kfp/output/bigquery/query-output-path.txt\"}}],\"artifacts\":[{\"name\":\"mlpipeline-ui-metadata\",\"path\":\"/tmp/outputs/MLPipeline_UI_metadata/data\",\"optional\":true},{\"name\":\"bigquery-query-output_gcs_path\",\"path\":\"/tmp/kfp/output/bigquery/query-output-path.txt\",\"s3\":{\"endpoint\":\"minio-service.kfpdemo:9000\",\"bucket\":\"mlpipeline\",\"insecure\":true,\"accessKeySecret\":{\"name\":\"mlpipeline-minio-artifact\",\"key\":\"accesskey\"},\"secretKeySecret\":{\"name\":\"mlpipeline-minio-artifact\",\"key\":\"secretkey\"},\"key\":\"artifacts/covertype-classifier-training-qmb6n/covertype-classifier-training-qmb6n-1858401567/bigquery-query-output_gcs_path.tgz\"}},{\"name\":\"main-logs\",\"archiveLogs\":true,\"s3\":{\"endpoint\":\"minio-service.kfpdemo:9000\",\"bucket\":\"mlpipeline\",\"insecure\":true,\"accessKeySecret\":{\"name\":\"mlpipeline-minio-artifact\",\"key\":\"accesskey\"},\"secretKeySecret\":{\"name\":\"mlpipeline-minio-artifact\",\"key\":\"secretkey\"},\"key\":\"artifacts/covertype-classifier-training-qmb6n/covertype-classifier-training-qmb6n-1858401567/main.log\"}}]},\"children\":[\"covertype-classifier-training-qmb6n-1057815578\",\"covertype-classifier-training-qmb6n-1089717477\"]},\"covertype-classifier-training-qmb6n-1879447244\":{\"id\":\"covertype-classifier-training-qmb6n-1879447244\",\"name\":\"covertype-classifier-training-qmb6n.bigquery-query-2\",\"displayName\":\"bigquery-query-2\",\"type\":\"Pod\",\"templateName\":\"bigquery-query-2\",\"phase\":\"Succeeded\",\"boundaryID\":\"covertype-classifier-training-qmb6n\",\"startedAt\":\"2021-05-21T08:46:52Z\",\"finishedAt\":\"2021-05-21T08:47:05Z\",\"inputs\":{\"parameters\":[{\"name\":\"dataset_id\",\"value\":\"covertype_dataset\"},{\"name\":\"dataset_location\",\"value\":\"US\"},{\"name\":\"gcs_root\",\"value\":\"gs://dna-gcp-data-kubeflowpipelines-default/staging\"},{\"name\":\"project_id\",\"value\":\"dna-gcp-data\"},{\"name\":\"source_table_name\",\"value\":\"covertype_dataset.covertype\"}]},\"outputs\":{\"parameters\":[{\"name\":\"bigquery-query-2-output_gcs_path\",\"value\":\"gs://dna-gcp-data-kubeflowpipelines-default/staging/datasets/validation/data.csv\",\"valueFrom\":{\"path\":\"/tmp/kfp/output/bigquery/query-output-path.txt\"}}],\"artifacts\":[{\"name\":\"mlpipeline-ui-metadata\",\"path\":\"/tmp/outputs/MLPipeline_UI_metadata/data\",\"optional\":true},{\"name\":\"bigquery-query-2-output_gcs_path\",\"path\":\"/tmp/kfp/output/bigquery/query-output-path.txt\",\"s3\":{\"endpoint\":\"minio-service.kfpdemo:9000\",\"bucket\":\"mlpipeline\",\"insecure\":true,\"accessKeySecret\":{\"name\":\"mlpipeline-minio-artifact\",\"key\":\"accesskey\"},\"secretKeySecret\":{\"name\":\"mlpipeline-minio-artifact\",\"key\":\"secretkey\"},\"key\":\"artifacts/covertype-classifier-training-qmb6n/covertype-classifier-training-qmb6n-1879447244/bigquery-query-2-output_gcs_path.tgz\"}},{\"name\":\"main-logs\",\"archiveLogs\":true,\"s3\":{\"endpoint\":\"minio-service.kfpdemo:9000\",\"bucket\":\"mlpipeline\",\"insecure\":true,\"accessKeySecret\":{\"name\":\"mlpipeline-minio-artifact\",\"key\":\"accesskey\"},\"secretKeySecret\":{\"name\":\"mlpipeline-minio-artifact\",\"key\":\"secretkey\"},\"key\":\"artifacts/covertype-classifier-training-qmb6n/covertype-classifier-training-qmb6n-1879447244/main.log\"}}]},\"children\":[\"covertype-classifier-training-qmb6n-1057815578\",\"covertype-classifier-training-qmb6n-1089717477\"]},\"covertype-classifier-training-qmb6n-1896224863\":{\"id\":\"covertype-classifier-training-qmb6n-1896224863\",\"name\":\"covertype-classifier-training-qmb6n.bigquery-query-3\",\"displayName\":\"bigquery-query-3\",\"type\":\"Pod\",\"templateName\":\"bigquery-query-3\",\"phase\":\"Succeeded\",\"boundaryID\":\"covertype-classifier-training-qmb6n\",\"startedAt\":\"2021-05-21T08:46:52Z\",\"finishedAt\":\"2021-05-21T08:47:05Z\",\"inputs\":{\"parameters\":[{\"name\":\"dataset_id\",\"value\":\"covertype_dataset\"},{\"name\":\"dataset_location\",\"value\":\"US\"},{\"name\":\"gcs_root\",\"value\":\"gs://dna-gcp-data-kubeflowpipelines-default/staging\"},{\"name\":\"project_id\",\"value\":\"dna-gcp-data\"},{\"name\":\"source_table_name\",\"value\":\"covertype_dataset.covertype\"}]},\"outputs\":{\"parameters\":[{\"name\":\"bigquery-query-3-output_gcs_path\",\"value\":\"gs://dna-gcp-data-kubeflowpipelines-default/staging/datasets/testing/data.csv\",\"valueFrom\":{\"path\":\"/tmp/kfp/output/bigquery/query-output-path.txt\"}}],\"artifacts\":[{\"name\":\"mlpipeline-ui-metadata\",\"path\":\"/tmp/outputs/MLPipeline_UI_metadata/data\",\"optional\":true},{\"name\":\"bigquery-query-3-output_gcs_path\",\"path\":\"/tmp/kfp/output/bigquery/query-output-path.txt\",\"s3\":{\"endpoint\":\"minio-service.kfpdemo:9000\",\"bucket\":\"mlpipeline\",\"insecure\":true,\"accessKeySecret\":{\"name\":\"mlpipeline-minio-artifact\",\"key\":\"accesskey\"},\"secretKeySecret\":{\"name\":\"mlpipeline-minio-artifact\",\"key\":\"secretkey\"},\"key\":\"artifacts/covertype-classifier-training-qmb6n/covertype-classifier-training-qmb6n-1896224863/bigquery-query-3-output_gcs_path.tgz\"}},{\"name\":\"main-logs\",\"archiveLogs\":true,\"s3\":{\"endpoint\":\"minio-service.kfpdemo:9000\",\"bucket\":\"mlpipeline\",\"insecure\":true,\"accessKeySecret\":{\"name\":\"mlpipeline-minio-artifact\",\"key\":\"accesskey\"},\"secretKeySecret\":{\"name\":\"mlpipeline-minio-artifact\",\"key\":\"secretkey\"},\"key\":\"artifacts/covertype-classifier-training-qmb6n/covertype-classifier-training-qmb6n-1896224863/main.log\"}}]},\"children\":[\"covertype-classifier-training-qmb6n-1971586539\"]},\"covertype-classifier-training-qmb6n-1971586539\":{\"id\":\"covertype-classifier-training-qmb6n-1971586539\",\"name\":\"covertype-classifier-training-qmb6n.evaluate-model\",\"displayName\":\"evaluate-model\",\"type\":\"Pod\",\"templateName\":\"evaluate-model\",\"phase\":\"Succeeded\",\"boundaryID\":\"covertype-classifier-training-qmb6n\",\"startedAt\":\"2021-05-21T09:09:00Z\",\"finishedAt\":\"2021-05-21T09:09:08Z\",\"inputs\":{\"parameters\":[{\"name\":\"bigquery-query-3-output_gcs_path\",\"value\":\"gs://dna-gcp-data-kubeflowpipelines-default/staging/datasets/testing/data.csv\"},{\"name\":\"evaluation_metric_name\",\"value\":\"accuracy\"},{\"name\":\"submitting-a-cloud-ml-training-job-as-a-pipeline-step-2-job_dir\",\"value\":\"gs://dna-gcp-data-kubeflowpipelines-default/staging/jobdir/d16368c5-24bb-4292-9060-315755f79b0b\"}]},\"outputs\":{\"parameters\":[{\"name\":\"evaluate-model-metric_value\",\"value\":\"0.7225525168450257\",\"valueFrom\":{\"path\":\"/tmp/outputs/metric_value/data\"}}],\"artifacts\":[{\"name\":\"mlpipeline-metrics\",\"path\":\"/tmp/outputs/mlpipeline_metrics/data\",\"s3\":{\"endpoint\":\"minio-service.kfpdemo:9000\",\"bucket\":\"mlpipeline\",\"insecure\":true,\"accessKeySecret\":{\"name\":\"mlpipeline-minio-artifact\",\"key\":\"accesskey\"},\"secretKeySecret\":{\"name\":\"mlpipeline-minio-artifact\",\"key\":\"secretkey\"},\"key\":\"artifacts/covertype-classifier-training-qmb6n/covertype-classifier-training-qmb6n-1971586539/mlpipeline-metrics.tgz\"},\"optional\":true},{\"name\":\"evaluate-model-metric_name\",\"path\":\"/tmp/outputs/metric_name/data\",\"s3\":{\"endpoint\":\"minio-service.kfpdemo:9000\",\"bucket\":\"mlpipeline\",\"insecure\":true,\"accessKeySecret\":{\"name\":\"mlpipeline-minio-artifact\",\"key\":\"accesskey\"},\"secretKeySecret\":{\"name\":\"mlpipeline-minio-artifact\",\"key\":\"secretkey\"},\"key\":\"artifacts/covertype-classifier-training-qmb6n/covertype-classifier-training-qmb6n-1971586539/evaluate-model-metric_name.tgz\"}},{\"name\":\"evaluate-model-metric_value\",\"path\":\"/tmp/outputs/metric_value/data\",\"s3\":{\"endpoint\":\"minio-service.kfpdemo:9000\",\"bucket\":\"mlpipeline\",\"insecure\":true,\"accessKeySecret\":{\"name\":\"mlpipeline-minio-artifact\",\"key\":\"accesskey\"},\"secretKeySecret\":{\"name\":\"mlpipeline-minio-artifact\",\"key\":\"secretkey\"},\"key\":\"artifacts/covertype-classifier-training-qmb6n/covertype-classifier-training-qmb6n-1971586539/evaluate-model-metric_value.tgz\"}},{\"name\":\"main-logs\",\"archiveLogs\":true,\"s3\":{\"endpoint\":\"minio-service.kfpdemo:9000\",\"bucket\":\"mlpipeline\",\"insecure\":true,\"accessKeySecret\":{\"name\":\"mlpipeline-minio-artifact\",\"key\":\"accesskey\"},\"secretKeySecret\":{\"name\":\"mlpipeline-minio-artifact\",\"key\":\"secretkey\"},\"key\":\"artifacts/covertype-classifier-training-qmb6n/covertype-classifier-training-qmb6n-1971586539/main.log\"}}]},\"children\":[\"covertype-classifier-training-qmb6n-2585557679\"]},\"covertype-classifier-training-qmb6n-2274394652\":{\"id\":\"covertype-classifier-training-qmb6n-2274394652\",\"name\":\"covertype-classifier-training-qmb6n.condition-1.deploying-a-trained-model-to-cloud-machine-learning-engine\",\"displayName\":\"deploying-a-trained-model-to-cloud-machine-learning-engine\",\"type\":\"Pod\",\"templateName\":\"deploying-a-trained-model-to-cloud-machine-learning-engine\",\"phase\":\"Succeeded\",\"boundaryID\":\"covertype-classifier-training-qmb6n-2585557679\",\"startedAt\":\"2021-05-21T09:09:10Z\",\"finishedAt\":\"2021-05-21T09:10:46Z\",\"inputs\":{\"parameters\":[{\"name\":\"model_id\",\"value\":\"covertype_classifier\"},{\"name\":\"project_id\",\"value\":\"dna-gcp-data\"},{\"name\":\"replace_existing_version\",\"value\":\"True\"},{\"name\":\"submitting-a-cloud-ml-training-job-as-a-pipeline-step-2-job_dir\",\"value\":\"gs://dna-gcp-data-kubeflowpipelines-default/staging/jobdir/d16368c5-24bb-4292-9060-315755f79b0b\"},{\"name\":\"version_id\",\"value\":\"v01\"}]},\"outputs\":{\"artifacts\":[{\"name\":\"mlpipeline-ui-metadata\",\"path\":\"/tmp/outputs/MLPipeline_UI_metadata/data\",\"optional\":true},{\"name\":\"deploying-a-trained-model-to-cloud-machine-learning-engine-model_name\",\"path\":\"/tmp/kfp/output/ml_engine/model_name.txt\",\"s3\":{\"endpoint\":\"minio-service.kfpdemo:9000\",\"bucket\":\"mlpipeline\",\"insecure\":true,\"accessKeySecret\":{\"name\":\"mlpipeline-minio-artifact\",\"key\":\"accesskey\"},\"secretKeySecret\":{\"name\":\"mlpipeline-minio-artifact\",\"key\":\"secretkey\"},\"key\":\"artifacts/covertype-classifier-training-qmb6n/covertype-classifier-training-qmb6n-2274394652/deploying-a-trained-model-to-cloud-machine-learning-engine-model_name.tgz\"}},{\"name\":\"deploying-a-trained-model-to-cloud-machine-learning-engine-model_uri\",\"path\":\"/tmp/kfp/output/ml_engine/model_uri.txt\",\"s3\":{\"endpoint\":\"minio-service.kfpdemo:9000\",\"bucket\":\"mlpipeline\",\"insecure\":true,\"accessKeySecret\":{\"name\":\"mlpipeline-minio-artifact\",\"key\":\"accesskey\"},\"secretKeySecret\":{\"name\":\"mlpipeline-minio-artifact\",\"key\":\"secretkey\"},\"key\":\"artifacts/covertype-classifier-training-qmb6n/covertype-classifier-training-qmb6n-2274394652/deploying-a-trained-model-to-cloud-machine-learning-engine-model_uri.tgz\"}},{\"name\":\"deploying-a-trained-model-to-cloud-machine-learning-engine-version_name\",\"path\":\"/tmp/kfp/output/ml_engine/version_name.txt\",\"s3\":{\"endpoint\":\"minio-service.kfpdemo:9000\",\"bucket\":\"mlpipeline\",\"insecure\":true,\"accessKeySecret\":{\"name\":\"mlpipeline-minio-artifact\",\"key\":\"accesskey\"},\"secretKeySecret\":{\"name\":\"mlpipeline-minio-artifact\",\"key\":\"secretkey\"},\"key\":\"artifacts/covertype-classifier-training-qmb6n/covertype-classifier-training-qmb6n-2274394652/deploying-a-trained-model-to-cloud-machine-learning-engine-version_name.tgz\"}},{\"name\":\"main-logs\",\"archiveLogs\":true,\"s3\":{\"endpoint\":\"minio-service.kfpdemo:9000\",\"bucket\":\"mlpipeline\",\"insecure\":true,\"accessKeySecret\":{\"name\":\"mlpipeline-minio-artifact\",\"key\":\"accesskey\"},\"secretKeySecret\":{\"name\":\"mlpipeline-minio-artifact\",\"key\":\"secretkey\"},\"key\":\"artifacts/covertype-classifier-training-qmb6n/covertype-classifier-training-qmb6n-2274394652/main.log\"}}]}},\"covertype-classifier-training-qmb6n-2585557679\":{\"id\":\"covertype-classifier-training-qmb6n-2585557679\",\"name\":\"covertype-classifier-training-qmb6n.condition-1\",\"displayName\":\"condition-1\",\"type\":\"DAG\",\"templateName\":\"condition-1\",\"phase\":\"Succeeded\",\"boundaryID\":\"covertype-classifier-training-qmb6n\",\"startedAt\":\"2021-05-21T09:09:10Z\",\"finishedAt\":\"2021-05-21T09:10:48Z\",\"inputs\":{\"parameters\":[{\"name\":\"model_id\",\"value\":\"covertype_classifier\"},{\"name\":\"project_id\",\"value\":\"dna-gcp-data\"},{\"name\":\"replace_existing_version\",\"value\":\"True\"},{\"name\":\"submitting-a-cloud-ml-training-job-as-a-pipeline-step-2-job_dir\",\"value\":\"gs://dna-gcp-data-kubeflowpipelines-default/staging/jobdir/d16368c5-24bb-4292-9060-315755f79b0b\"},{\"name\":\"version_id\",\"value\":\"v01\"}]},\"children\":[\"covertype-classifier-training-qmb6n-2274394652\"],\"outboundNodes\":[\"covertype-classifier-training-qmb6n-2274394652\"]}},\"conditions\":[{\"type\":\"Completed\",\"status\":\"True\"}]}}'}}\n",
      "0.7225525168450257\n"
     ]
    }
   ],
   "source": [
    "import kfp as kfp\n",
    "runs_details= kfp.Client(host=ENDPOINT).list_runs(experiment_id=experiment_id, sort_by='created_at desc').to_dict()\n",
    "latest_success_run_details=''\n",
    "print(\"runs_details['runs'] type {}\".format(type(runs_details['runs'])))\n",
    "for i in runs_details['runs']:\n",
    "    print(\"i['status'] type {}\".format(type(i['status'])))\n",
    "    if i['status'] == 'Succeeded':\n",
    "        latest_success_run_details=i\n",
    "        break;\n",
    "run_id=latest_success_run_details['id']\n",
    "run_id_details=kfp.Client(host=ENDPOINT).get_run(run_id=run_id).to_dict()\n",
    "print(run_id_details)\n",
    "accuracy=run_id_details['run']['metrics'][0]['number_value']\n",
    "print(accuracy)"
   ]
  },
  {
   "cell_type": "code",
   "execution_count": 179,
   "metadata": {},
   "outputs": [
    {
     "ename": "SyntaxError",
     "evalue": "unexpected EOF while parsing (<ipython-input-179-7354f0ca5d06>, line 5)",
     "output_type": "error",
     "traceback": [
      "\u001b[0;36m  File \u001b[0;32m\"<ipython-input-179-7354f0ca5d06>\"\u001b[0;36m, line \u001b[0;32m5\u001b[0m\n\u001b[0;31m    print(type(request.execute())\u001b[0m\n\u001b[0m                                 ^\u001b[0m\n\u001b[0;31mSyntaxError\u001b[0m\u001b[0;31m:\u001b[0m unexpected EOF while parsing\n"
     ]
    }
   ],
   "source": [
    "from googleapiclient import discovery\n",
    "ml = discovery.build('ml', 'v1')\n",
    "job_name = 'projects/{}/jobs/{}'.format('dna-gcp-data', 'job_1dae51e7dd77989943e0aaf271f1effd')\n",
    "request = ml.projects().jobs().get(name=job_name)\n",
    "print(type(request.execute())"
   ]
  },
  {
   "cell_type": "markdown",
   "metadata": {},
   "source": [
    "### Monitoring the run\n",
    "\n",
    "You can monitor the run using KFP UI. Follow the instructor who will walk you through the KFP UI and monitoring techniques.\n",
    "\n",
    "To access the KFP UI in your environment use the following URI:\n",
    "\n",
    "https://[ENDPOINT]\n",
    "\n",
    "\n",
    "**NOTE that your pipeline run may fail due to the bug in a BigQuery component that does not handle certain race conditions. If you observe the pipeline failure, re-run the last cell of the notebook to submit another pipeline run or retry the run from the KFP UI**\n"
   ]
  },
  {
   "cell_type": "markdown",
   "metadata": {},
   "source": [
    "<font size=-1>Licensed under the Apache License, Version 2.0 (the \\\"License\\\");\n",
    "you may not use this file except in compliance with the License.\n",
    "You may obtain a copy of the License at [https://www.apache.org/licenses/LICENSE-2.0](https://www.apache.org/licenses/LICENSE-2.0)\n",
    "\n",
    "Unless required by applicable law or agreed to in writing, software distributed under the License is distributed on an \\\"AS IS\\\" BASIS, WITHOUT WARRANTIES OR CONDITIONS OF ANY KIND, either express or implied.  See the License for the specific language governing permissions and limitations under the License.</font>"
   ]
  }
 ],
 "metadata": {
  "environment": {
   "name": "r-cpu.3-6.m65",
   "type": "gcloud",
   "uri": "gcr.io/deeplearning-platform-release/r-cpu.3-6:m65"
  },
  "kernelspec": {
   "display_name": "Python 3",
   "language": "python",
   "name": "python3"
  },
  "language_info": {
   "codemirror_mode": {
    "name": "ipython",
    "version": 3
   },
   "file_extension": ".py",
   "mimetype": "text/x-python",
   "name": "python",
   "nbconvert_exporter": "python",
   "pygments_lexer": "ipython3",
   "version": "3.7.10"
  }
 },
 "nbformat": 4,
 "nbformat_minor": 4
}
